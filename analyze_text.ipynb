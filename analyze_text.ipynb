{
 "cells": [
  {
   "cell_type": "code",
   "execution_count": 1,
   "metadata": {},
   "outputs": [
    {
     "name": "stderr",
     "output_type": "stream",
     "text": [
      "C:\\Users\\Christopher\\Anaconda3\\lib\\site-packages\\gensim\\utils.py:1212: UserWarning: detected Windows; aliasing chunkize to chunkize_serial\n",
      "  warnings.warn(\"detected Windows; aliasing chunkize to chunkize_serial\")\n"
     ]
    }
   ],
   "source": [
    "import pandas as pd\n",
    "import gensim\n",
    "import nltk\n",
    "import re\n",
    "import string"
   ]
  },
  {
   "cell_type": "code",
   "execution_count": 2,
   "metadata": {},
   "outputs": [],
   "source": [
    "ds_df = pd.read_csv(\"data\\Data_Scientist_text_data.csv\")"
   ]
  },
  {
   "cell_type": "code",
   "execution_count": 3,
   "metadata": {},
   "outputs": [
    {
     "data": {
      "text/html": [
       "<div>\n",
       "<style scoped>\n",
       "    .dataframe tbody tr th:only-of-type {\n",
       "        vertical-align: middle;\n",
       "    }\n",
       "\n",
       "    .dataframe tbody tr th {\n",
       "        vertical-align: top;\n",
       "    }\n",
       "\n",
       "    .dataframe thead th {\n",
       "        text-align: right;\n",
       "    }\n",
       "</style>\n",
       "<table border=\"1\" class=\"dataframe\">\n",
       "  <thead>\n",
       "    <tr style=\"text-align: right;\">\n",
       "      <th></th>\n",
       "      <th>Unnamed: 0</th>\n",
       "      <th>job_description</th>\n",
       "      <th>job_location</th>\n",
       "      <th>job_title</th>\n",
       "      <th>sponsored</th>\n",
       "    </tr>\n",
       "  </thead>\n",
       "  <tbody>\n",
       "    <tr>\n",
       "      <th>0</th>\n",
       "      <td>0</td>\n",
       "      <td>Given substantial growth and impact at Crowe, ...</td>\n",
       "      <td>Indianapolis, IN 46240</td>\n",
       "      <td>Data Scientist</td>\n",
       "      <td>True</td>\n",
       "    </tr>\n",
       "    <tr>\n",
       "      <th>1</th>\n",
       "      <td>2</td>\n",
       "      <td>At EMC, you'll put your skills to good use as ...</td>\n",
       "      <td>Des Moines, IA</td>\n",
       "      <td>Data Scientist</td>\n",
       "      <td>True</td>\n",
       "    </tr>\n",
       "    <tr>\n",
       "      <th>2</th>\n",
       "      <td>3</td>\n",
       "      <td>Are you looking for a job in a growing industr...</td>\n",
       "      <td>Lincoln, RI</td>\n",
       "      <td>Data Scientist</td>\n",
       "      <td>True</td>\n",
       "    </tr>\n",
       "    <tr>\n",
       "      <th>3</th>\n",
       "      <td>4</td>\n",
       "      <td>Ascensia Diabetes Care is a global specialist ...</td>\n",
       "      <td>Valhalla, NY</td>\n",
       "      <td>Data Scientist</td>\n",
       "      <td>True</td>\n",
       "    </tr>\n",
       "    <tr>\n",
       "      <th>4</th>\n",
       "      <td>5</td>\n",
       "      <td>$90 - $95 an hourContractDescription: building...</td>\n",
       "      <td>Durham, NC</td>\n",
       "      <td>Data Scientist w/ Watson Experience</td>\n",
       "      <td>True</td>\n",
       "    </tr>\n",
       "  </tbody>\n",
       "</table>\n",
       "</div>"
      ],
      "text/plain": [
       "   Unnamed: 0                                    job_description  \\\n",
       "0           0  Given substantial growth and impact at Crowe, ...   \n",
       "1           2  At EMC, you'll put your skills to good use as ...   \n",
       "2           3  Are you looking for a job in a growing industr...   \n",
       "3           4  Ascensia Diabetes Care is a global specialist ...   \n",
       "4           5  $90 - $95 an hourContractDescription: building...   \n",
       "\n",
       "             job_location                            job_title  sponsored  \n",
       "0  Indianapolis, IN 46240                       Data Scientist       True  \n",
       "1          Des Moines, IA                       Data Scientist       True  \n",
       "2             Lincoln, RI                       Data Scientist       True  \n",
       "3            Valhalla, NY                       Data Scientist       True  \n",
       "4              Durham, NC  Data Scientist w/ Watson Experience       True  "
      ]
     },
     "execution_count": 3,
     "metadata": {},
     "output_type": "execute_result"
    }
   ],
   "source": [
    "ds_df.head()"
   ]
  },
  {
   "cell_type": "code",
   "execution_count": 7,
   "metadata": {},
   "outputs": [],
   "source": [
    "ds_df.job_description = ds_df.job_description.str.lower()"
   ]
  },
  {
   "cell_type": "code",
   "execution_count": 5,
   "metadata": {},
   "outputs": [],
   "source": [
    "\n",
    "\n",
    "# Create initial documents list\n",
    "\n",
    "doc = list(ds_df.job_description)\n",
    "\n",
    "# Remove punctuation, then tokenize documents\n",
    "punc = re.compile( '[%s]' % re.escape( string.punctuation ) )\n",
    "term_vec = [ ]\n",
    "\n",
    "for d in doc:\n",
    "    d = d.lower()\n",
    "    d = punc.sub( '', d )\n",
    "    term_vec.append( nltk.word_tokenize( d ) )"
   ]
  },
  {
   "cell_type": "code",
   "execution_count": 6,
   "metadata": {},
   "outputs": [],
   "source": [
    "ds_df['clean_desc'] = term_vec"
   ]
  },
  {
   "cell_type": "code",
   "execution_count": 17,
   "metadata": {},
   "outputs": [],
   "source": [
    "ds_df = ds_df.iloc[:,1:]"
   ]
  },
  {
   "cell_type": "code",
   "execution_count": 18,
   "metadata": {},
   "outputs": [],
   "source": [
    "ds_df.to_csv(\"data_scientist_clean_text.csv\", index=False)"
   ]
  },
  {
   "cell_type": "code",
   "execution_count": 16,
   "metadata": {},
   "outputs": [],
   "source": [
    "stop_words = nltk.corpus.stopwords.words( 'english' )\n",
    "\n",
    "for i in range( 0, len( term_vec ) ):\n",
    "    term_list = [ ]\n",
    "\n",
    "    for term in term_vec[ i ]:\n",
    "        if term not in stop_words:\n",
    "            term_list.append( term )\n",
    "\n",
    "    term_vec[ i ] = term_list"
   ]
  },
  {
   "cell_type": "code",
   "execution_count": 17,
   "metadata": {},
   "outputs": [],
   "source": [
    "# Stem terms\n",
    "# Porter stem remaining terms\n",
    "\n",
    "porter = nltk.stem.porter.PorterStemmer()\n",
    "\n",
    "for i in range( 0, len( term_vec ) ):\n",
    "    for j in range( 0, len( term_vec[ i ] ) ):\n",
    "        term_vec[ i ][ j ] = porter.stem( term_vec[ i ][ j ] )"
   ]
  },
  {
   "cell_type": "code",
   "execution_count": 18,
   "metadata": {},
   "outputs": [],
   "source": [
    "#  Convert term vectors into gensim dictionary\n",
    "\n",
    "dict = gensim.corpora.Dictionary( term_vec )\n",
    "\n",
    "corp = [ ]\n",
    "for i in range( 0, len( term_vec ) ):\n",
    "    corp.append( dict.doc2bow( term_vec[ i ] ) )\n",
    "\n",
    "#  Create TFIDF vectors based on term vectors bag-of-word corpora\n",
    "\n",
    "tfidf_model = gensim.models.TfidfModel( corp )\n",
    "\n",
    "tfidf = [ ]\n",
    "for i in range( 0, len( corp ) ):\n",
    "    tfidf.append( tfidf_model[ corp[ i ] ] )\n",
    "\n",
    "#  Create pairwise document similarity index\n",
    "\n",
    "n = len( dict )\n",
    "index = gensim.similarities.SparseMatrixSimilarity( tfidf_model[ corp ], num_features = n )\n",
    "\n",
    "#  Print TFIDF vectors and pairwise similarity per document\n",
    "\n",
    "for i in range( 0, len( tfidf ) ):\n",
    "    s = 'Doc ' + str( i + 1 ) + ' TFIDF:'\n",
    "\n",
    "    for j in range( 0, len( tfidf[ i ] ) ):\n",
    "        s = s + ' (' + dict.get( tfidf[ i ][ j ][ 0 ] ) + ','\n",
    "        s = s + ( '%.3f' % tfidf[ i ][ j ][ 1 ] ) + ')'\n",
    "\n",
    "\n",
    "for i in range( 0, len( corp ) ):\n",
    "    sim = index[ tfidf_model[ corp[ i ] ] ]\n"
   ]
  },
  {
   "cell_type": "code",
   "execution_count": 36,
   "metadata": {},
   "outputs": [
    {
     "ename": "AttributeError",
     "evalue": "'list' object has no attribute 'shape'",
     "output_type": "error",
     "traceback": [
      "\u001b[1;31m---------------------------------------------------------------------------\u001b[0m",
      "\u001b[1;31mAttributeError\u001b[0m                            Traceback (most recent call last)",
      "\u001b[1;32m<ipython-input-36-d8bde7b431de>\u001b[0m in \u001b[0;36m<module>\u001b[1;34m()\u001b[0m\n\u001b[1;32m----> 1\u001b[1;33m \u001b[0mcorp\u001b[0m\u001b[1;33m.\u001b[0m\u001b[0mshape\u001b[0m\u001b[1;33m\u001b[0m\u001b[0m\n\u001b[0m",
      "\u001b[1;31mAttributeError\u001b[0m: 'list' object has no attribute 'shape'"
     ]
    }
   ],
   "source": [
    "important_words = []\n",
    "\n",
    "for i in range( 0, len( tfidf ) ):\n",
    "    s = 'Doc ' + str( i + 1 ) + ' TFIDF:'\n",
    "\n",
    "    for j in range( 0, len( tfidf[ i ] ) ):\n",
    "        s = s + ' (' + dict.get( tfidf[ i ][ j ][ 0 ] ) + ','\n",
    "        s = s + ( '%.3f' % tfidf[ i ][ j ][ 1 ] ) + ')'\n",
    "\n",
    "    print s"
   ]
  }
 ],
 "metadata": {
  "kernelspec": {
   "display_name": "Python 3",
   "language": "python",
   "name": "python3"
  },
  "language_info": {
   "codemirror_mode": {
    "name": "ipython",
    "version": 3
   },
   "file_extension": ".py",
   "mimetype": "text/x-python",
   "name": "python",
   "nbconvert_exporter": "python",
   "pygments_lexer": "ipython3",
   "version": "3.6.4"
  }
 },
 "nbformat": 4,
 "nbformat_minor": 2
}
