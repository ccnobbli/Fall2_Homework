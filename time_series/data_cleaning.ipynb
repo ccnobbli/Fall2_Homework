{
 "cells": [
  {
   "cell_type": "code",
   "execution_count": 15,
   "metadata": {},
   "outputs": [
    {
     "name": "stdout",
     "output_type": "stream",
     "text": [
      "C:\\Users\\Abigail\\Documents\\MSA\\Python\n"
     ]
    }
   ],
   "source": [
    "#%%\n",
    "\n",
    "import pandas as pd\n",
    "\n",
    "\n",
    "''' Before starting, save the 'Well' sheet from the .xlsx as a .csv, name it 'G-1260_T.csv'\n",
    "    Set the Working Directory to the saved location of this new CSV file '''\n",
    "\n",
    "%cd C:\\\\Users\\\\Abigail\\\\Documents\\\\MSA\\\\Python\n",
    "\n",
    "#%% Read data in\n",
    "df = pd.read_csv('G-1260_T.csv', parse_dates = True)\n",
    "\n",
    "#%% Create a new column that contains the strings of 'date' column and 'time' column\n",
    "df['date_hour'] = df['date'] + \" \" + df['time']\n",
    "\n",
    "#%% Create a set format for which to read the string as a datetime variable\n",
    "time_format = \"%m/%d/%Y %H:%M\"\n",
    "\n",
    "df['date_hour'] = pd.to_datetime(df['date_hour'], format = time_format)\n",
    "\n",
    "#%% Reorganize the column order\n",
    "df = df[['date_hour','date','time','Corrected']]\n",
    "\n",
    "#%% Setting index to be the date_hour column\n",
    "df = df.set_index('date_hour')\n",
    "\n",
    "#%% Select dates in the range required\n",
    "data_narrow = df['2007-10-01 01:00:00':'2018-06-08 11:00:00']\n",
    "\n",
    "#%% Resample data to hourly\n",
    "data_monthly = data_narrow.resample('H').mean()\n",
    "\n",
    "#%% Write the final clean data to csv\n",
    "data_monthly.to_csv('G-1260_Hourly.csv')\n"
   ]
  },
  {
   "cell_type": "code",
   "execution_count": null,
   "metadata": {},
   "outputs": [],
   "source": []
  }
 ],
 "metadata": {
  "kernelspec": {
   "display_name": "Python 3",
   "language": "python",
   "name": "python3"
  },
  "language_info": {
   "codemirror_mode": {
    "name": "ipython",
    "version": 3
   },
   "file_extension": ".py",
   "mimetype": "text/x-python",
   "name": "python",
   "nbconvert_exporter": "python",
   "pygments_lexer": "ipython3",
   "version": "3.6.5"
  }
 },
 "nbformat": 4,
 "nbformat_minor": 2
}
