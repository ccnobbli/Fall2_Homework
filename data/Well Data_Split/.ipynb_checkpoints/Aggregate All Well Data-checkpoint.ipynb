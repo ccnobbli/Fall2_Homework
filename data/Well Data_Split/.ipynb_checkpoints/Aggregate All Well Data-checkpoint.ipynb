{
 "cells": [
  {
   "cell_type": "code",
   "execution_count": 7,
   "metadata": {},
   "outputs": [
    {
     "name": "stdout",
     "output_type": "stream",
     "text": [
      "current directory is : c:\\\n",
      "Directory name is : \n"
     ]
    }
   ],
   "source": [
    "import os\n",
    " \n",
    "dirpath = os.getcwd()\n",
    "print(\"current directory is : \" + dirpath)\n",
    "foldername = os.path.basename(dirpath)\n",
    "print(\"Directory name is : \" + foldername)"
   ]
  },
  {
   "cell_type": "code",
   "execution_count": 956,
   "metadata": {},
   "outputs": [
    {
     "name": "stdout",
     "output_type": "stream",
     "text": [
      "['F-179.csv', 'F-319.csv', 'F-319_clean.csv', 'F-45.csv', 'G-1220.csv', 'G-1260_Done.csv', 'G-2147.csv', 'G-2866.csv', 'G-3549.csv', 'G-561.csv', 'G-580A.csv', 'G-852_NO_TIDE.csv', 'G-860.csv', 'PB-1680.csv', 'Well F-179_FINAL.csv']\n"
     ]
    }
   ],
   "source": [
    "import os\n",
    "import glob\n",
    "import pandas\n",
    "\n",
    "path = 'C:/Users/Christopher/Documents/GitHub/Fall2_Homework/data/Well Data_Split/'\n",
    "extension = 'csv'\n",
    "os.chdir(path)\n",
    "result = [i for i in glob.glob('*.{}'.format(extension))]\n",
    "print(result)"
   ]
  },
  {
   "cell_type": "markdown",
   "metadata": {},
   "source": [
    "# Read file"
   ]
  },
  {
   "cell_type": "code",
   "execution_count": 487,
   "metadata": {},
   "outputs": [],
   "source": [
    "# Dont do number 4\n",
    "# Problems with 11, 12\n",
    "# Next to do: 12"
   ]
  },
  {
   "cell_type": "code",
   "execution_count": 488,
   "metadata": {},
   "outputs": [],
   "source": [
    "start = '2007-10-01 01:00:00'\n",
    "end = '2018-06-08 11:00:00'\n",
    "time_range = pd.date_range(start=start, end=end,freq='H')"
   ]
  },
  {
   "cell_type": "code",
   "execution_count": 1115,
   "metadata": {
    "scrolled": false
   },
   "outputs": [
    {
     "name": "stderr",
     "output_type": "stream",
     "text": [
      "C:\\Users\\Christopher\\Anaconda3\\lib\\site-packages\\IPython\\core\\interactiveshell.py:2728: DtypeWarning: Columns (0,1,2,4,5,6,7,9,11,12) have mixed types. Specify dtype option on import or set low_memory=False.\n",
      "  interactivity=interactivity, compiler=compiler, result=result)\n"
     ]
    },
    {
     "data": {
      "text/plain": [
       "'G-1220.csv'"
      ]
     },
     "execution_count": 1115,
     "metadata": {},
     "output_type": "execute_result"
    }
   ],
   "source": [
    "file = result[4]\n",
    "df = pd.read_csv(file)\n",
    "\n",
    "#if 'Code' in df:\n",
    "  # df = df[df.Code == \"A\"]\n",
    "file"
   ]
  },
  {
   "cell_type": "code",
   "execution_count": 1116,
   "metadata": {
    "scrolled": false
   },
   "outputs": [
    {
     "data": {
      "text/plain": [
       "count     83852\n",
       "unique        2\n",
       "top           A\n",
       "freq      79305\n",
       "Name: Code, dtype: object"
      ]
     },
     "execution_count": 1116,
     "metadata": {},
     "output_type": "execute_result"
    }
   ],
   "source": [
    "df.Code.describe()"
   ]
  },
  {
   "cell_type": "code",
   "execution_count": 1100,
   "metadata": {
    "scrolled": true
   },
   "outputs": [],
   "source": [
    "df = df[df.Code != \"P\"]"
   ]
  },
  {
   "cell_type": "code",
   "execution_count": 1075,
   "metadata": {},
   "outputs": [
    {
     "data": {
      "text/plain": [
       "array(['A', nan], dtype=object)"
      ]
     },
     "execution_count": 1075,
     "metadata": {},
     "output_type": "execute_result"
    }
   ],
   "source": [
    "df.Code.unique()"
   ]
  },
  {
   "cell_type": "code",
   "execution_count": 1038,
   "metadata": {},
   "outputs": [
    {
     "data": {
      "text/html": [
       "<div>\n",
       "<style scoped>\n",
       "    .dataframe tbody tr th:only-of-type {\n",
       "        vertical-align: middle;\n",
       "    }\n",
       "\n",
       "    .dataframe tbody tr th {\n",
       "        vertical-align: top;\n",
       "    }\n",
       "\n",
       "    .dataframe thead th {\n",
       "        text-align: right;\n",
       "    }\n",
       "</style>\n",
       "<table border=\"1\" class=\"dataframe\">\n",
       "  <thead>\n",
       "    <tr style=\"text-align: right;\">\n",
       "      <th></th>\n",
       "      <th>TideDateHour</th>\n",
       "      <th>Date</th>\n",
       "      <th>Time</th>\n",
       "      <th>Tide_ft</th>\n",
       "      <th>WellDateHour</th>\n",
       "      <th>date</th>\n",
       "      <th>time</th>\n",
       "      <th>tz_cd</th>\n",
       "      <th>Well_ft</th>\n",
       "      <th>Code</th>\n",
       "      <th>Corrected</th>\n",
       "      <th>RainDateHour</th>\n",
       "      <th>Date.1</th>\n",
       "      <th>RAIN_FT</th>\n",
       "    </tr>\n",
       "  </thead>\n",
       "  <tbody>\n",
       "    <tr>\n",
       "      <th>368972</th>\n",
       "      <td>NaN</td>\n",
       "      <td>NaN</td>\n",
       "      <td>NaN</td>\n",
       "      <td>NaN</td>\n",
       "      <td>NaN</td>\n",
       "      <td>NaN</td>\n",
       "      <td>NaN</td>\n",
       "      <td>NaN</td>\n",
       "      <td>NaN</td>\n",
       "      <td>NaN</td>\n",
       "      <td>NaN</td>\n",
       "      <td>2018/04/09 11:00</td>\n",
       "      <td>4/9/18 11:00</td>\n",
       "      <td>0.0</td>\n",
       "    </tr>\n",
       "  </tbody>\n",
       "</table>\n",
       "</div>"
      ],
      "text/plain": [
       "       TideDateHour Date Time  Tide_ft WellDateHour date time tz_cd  Well_ft  \\\n",
       "368972          NaN  NaN  NaN      NaN          NaN  NaN  NaN   NaN      NaN   \n",
       "\n",
       "       Code  Corrected      RainDateHour        Date.1  RAIN_FT  \n",
       "368972  NaN        NaN  2018/04/09 11:00  4/9/18 11:00      0.0  "
      ]
     },
     "execution_count": 1038,
     "metadata": {},
     "output_type": "execute_result"
    }
   ],
   "source": [
    "df[df.RainDateHour == '2018/04/09 11:00']"
   ]
  },
  {
   "cell_type": "code",
   "execution_count": null,
   "metadata": {},
   "outputs": [],
   "source": []
  },
  {
   "cell_type": "code",
   "execution_count": 1120,
   "metadata": {},
   "outputs": [
    {
     "data": {
      "text/plain": [
       "0.018333000000000002"
      ]
     },
     "execution_count": 1120,
     "metadata": {},
     "output_type": "execute_result"
    }
   ],
   "source": [
    "df[df.Code == \"P\"].RAIN_FT.max()"
   ]
  },
  {
   "cell_type": "markdown",
   "metadata": {},
   "source": [
    "# Aggregate Tide Water Elevation"
   ]
  },
  {
   "cell_type": "code",
   "execution_count": 1104,
   "metadata": {},
   "outputs": [],
   "source": [
    "#%% Create a set format for which to read the string as a datetime variable\n",
    "\n",
    "#df['TideDateHour'] = df.loc[:, 'DateHour']\n",
    "#df['Tide_ft'] = df.loc[:, 'TideLevel']\n",
    "tide = df.loc[:, ['TideDateHour', 'Tide_ft']]\n",
    "\n",
    "tide = tide.loc[tide.TideDateHour != '1900/01/00 00:00']\n",
    "\n",
    "time_format = \"%Y/%m/%d %H:%M\"\n",
    "\n",
    "tide['TideDateHour'] = pd.to_datetime(tide.loc[:,'TideDateHour'], format = time_format)\n",
    "\n",
    "#%% Reorganize the column order\n",
    "#df = df[['date_hour','date','time','Corrected']]\n",
    "\n",
    "#%% Setting index to be the date_hour column\n",
    "tide = tide.set_index('TideDateHour')\n",
    "\n",
    "#%% Select dates in the range required\n",
    "data_tide = tide['2007-10-01 01:00:00':'2018-06-08 11:00:00']\n",
    "\n",
    "#%% Resample data to hourly\n",
    "data_tide = data_tide.resample('H').mean()\n",
    "\n",
    "# Aggregate Rain\n",
    "\n",
    "#%% Create a set format for which to read the string as a datetime variable\n",
    "rain = df.loc[:, ['RainDateHour', 'RAIN_FT']]\n",
    "\n",
    "\n",
    "rain['RainDateHour'] = pd.to_datetime(rain['RainDateHour'], format = time_format)\n",
    "\n",
    "#%% Reorganize the column order\n",
    "#df = df[['date_hour','date','time','Corrected']]\n",
    "\n",
    "#%% Setting index to be the date_hour column\n",
    "rain = rain.set_index('RainDateHour')\n",
    "\n",
    "#%% Select dates in the range required\n",
    "data_rain = rain['2007-10-01 01:00:00':'2018-06-08 11:00:00']\n",
    "\n",
    "#%% Resample data to hourly\n",
    "data_rain = data_rain.resample('H').mean()\n",
    "\n",
    "# Aggregate Well\n",
    "\n",
    "#%% Create a set format for which to read the string as a datetime variable\n",
    "well = df.loc[:, ['WellDateHour', 'Well_ft']]\n",
    "\n",
    "well = well.loc[well.WellDateHour != '1900/01/00 00:00']\n",
    "well['WellDateHour'] = pd.to_datetime(well['WellDateHour'], format = time_format)\n",
    "\n",
    "#%% Reorganize the column order\n",
    "#df = df[['date_hour','date','time','Corrected']]\n",
    "\n",
    "#%% Setting index to be the date_hour column\n",
    "well = well.set_index('WellDateHour')\n",
    "\n",
    "#%% Select dates in the range required\n",
    "data_narrow = well['2007-10-01 01:00:00':'2018-06-08 11:00:00']\n",
    "\n",
    "#%% Resample data to hourly\n",
    "data_well = data_narrow.resample('H').mean()\n",
    "\n",
    "data_well['Well_ft'] = data_well.Well_ft.interpolate()"
   ]
  },
  {
   "cell_type": "markdown",
   "metadata": {},
   "source": [
    "# Merge all of the data into one table and save"
   ]
  },
  {
   "cell_type": "code",
   "execution_count": 1105,
   "metadata": {
    "scrolled": false
   },
   "outputs": [
    {
     "data": {
      "text/plain": [
       "'F-45.csv'"
      ]
     },
     "execution_count": 1105,
     "metadata": {},
     "output_type": "execute_result"
    }
   ],
   "source": [
    "file\n"
   ]
  },
  {
   "cell_type": "code",
   "execution_count": 1106,
   "metadata": {
    "scrolled": true
   },
   "outputs": [
    {
     "data": {
      "text/plain": [
       "93683"
      ]
     },
     "execution_count": 1106,
     "metadata": {},
     "output_type": "execute_result"
    }
   ],
   "source": [
    "len(time_range)"
   ]
  },
  {
   "cell_type": "code",
   "execution_count": 1107,
   "metadata": {},
   "outputs": [],
   "source": [
    "full = pd.DataFrame(index=pd.DatetimeIndex(time_range))"
   ]
  },
  {
   "cell_type": "code",
   "execution_count": 1108,
   "metadata": {
    "scrolled": true
   },
   "outputs": [
    {
     "name": "stdout",
     "output_type": "stream",
     "text": [
      "<class 'pandas.core.frame.DataFrame'>\n",
      "DatetimeIndex: 93683 entries, 2007-10-01 01:00:00 to 2018-06-08 11:00:00\n",
      "Freq: H\n",
      "Empty DataFrame"
     ]
    }
   ],
   "source": [
    "full.info()"
   ]
  },
  {
   "cell_type": "code",
   "execution_count": 1109,
   "metadata": {},
   "outputs": [],
   "source": [
    "full['Well_ft'] = data_well['Well_ft']\n",
    "full['Tide_ft'] = data_tide['Tide_ft']\n",
    "full['Rain_ft'] = data_rain['RAIN_FT']\n",
    "full.index.name = 'DateHour'"
   ]
  },
  {
   "cell_type": "code",
   "execution_count": 1110,
   "metadata": {},
   "outputs": [],
   "source": [
    "full.Tide_ft.interpolate(inplace=True)\n",
    "full.Rain_ft.interpolate(inplace=True)\n",
    "full.Well_ft.interpolate(inplace=True)\n",
    "\n",
    "# Fill in empty begininngs and ends\n",
    "avg_tide = full.Tide_ft.mean()\n",
    "full.Tide_ft.fillna(value=avg_tide, inplace=True)\n",
    "full.Tide_ft.fillna(value=avg_tide, inplace=True)\n",
    "\n",
    "full.Rain_ft.fillna(value=0, inplace=True)\n",
    "full.Rain_ft.fillna(value=0, inplace=True)\n",
    "\n",
    "avg_well = full.Well_ft.mean()\n",
    "full.Well_ft.fillna(value=avg_well, inplace=True)\n",
    "full.Well_ft.fillna(value=avg_well, inplace=True)\n"
   ]
  },
  {
   "cell_type": "code",
   "execution_count": 1111,
   "metadata": {},
   "outputs": [],
   "source": [
    "assert not sum(full.Tide_ft.isna())\n",
    "assert not sum(full.Rain_ft.isna())\n",
    "assert not sum(full.Well_ft.isna())"
   ]
  },
  {
   "cell_type": "code",
   "execution_count": 1112,
   "metadata": {},
   "outputs": [],
   "source": [
    "new_file = \"final_wells/\" + file[0:len(file)-4].replace(\"-\", \"\") + \"_ALL.csv\""
   ]
  },
  {
   "cell_type": "code",
   "execution_count": 1113,
   "metadata": {},
   "outputs": [
    {
     "data": {
      "text/plain": [
       "'final_wells/F45_ALL.csv'"
      ]
     },
     "execution_count": 1113,
     "metadata": {},
     "output_type": "execute_result"
    }
   ],
   "source": [
    "new_file"
   ]
  },
  {
   "cell_type": "code",
   "execution_count": 1114,
   "metadata": {},
   "outputs": [],
   "source": [
    "full.to_csv(new_file, index=True)"
   ]
  },
  {
   "cell_type": "markdown",
   "metadata": {},
   "source": [
    "# Incorporate Predicted Well Water Elevation After SAS Prediction"
   ]
  },
  {
   "cell_type": "code",
   "execution_count": 894,
   "metadata": {},
   "outputs": [
    {
     "data": {
      "text/plain": [
       "'F179FINAL'"
      ]
     },
     "execution_count": 894,
     "metadata": {},
     "output_type": "execute_result"
    }
   ],
   "source": [
    "file = result[0]\n",
    "well = file[:len(file)-4].replace(\"_\", \"\").replace(\"-\", \"\")\n",
    "well_name = \"Well \" + file[:len(file)-9]\n",
    "well_name\n",
    "well"
   ]
  },
  {
   "cell_type": "code",
   "execution_count": 895,
   "metadata": {},
   "outputs": [],
   "source": [
    "pred = pd.read_sas(\"C:/Users/Christopher/Documents/GitHub/Fall2_Homework/data/Well Data_Split/final_wells/\" + \"f179\" + \"_all_pred.sas7bdat\")\n",
    "full = pd.read_csv(\"C:/Users/Christopher/Documents/GitHub/Fall2_Homework/data/Well Data_Split/final_wells/\" + \"F179\" + \"_ALL.csv\", index_col='DateHour')\n",
    "pred.set_index(full.index, inplace=True)"
   ]
  },
  {
   "cell_type": "code",
   "execution_count": 896,
   "metadata": {},
   "outputs": [],
   "source": [
    "full[well_name + \" Well Level\"] = full.Well_ft\n",
    "full[well_name + \" Tide Level\"] = full.Tide_ft\n",
    "full[well_name + \" Rain Level\"] = full.Rain_ft\n",
    "full[well_name + \" Predicted Well Level\"] = pred['FORECAST']\n",
    "full[well_name + \" Lower 95% Confidence Interval\"] = pred.L95\n",
    "full[well_name + \" Upper 95% Confidence Interval\"] = pred.U95"
   ]
  },
  {
   "cell_type": "code",
   "execution_count": 897,
   "metadata": {
    "scrolled": true
   },
   "outputs": [
    {
     "data": {
      "text/html": [
       "<div>\n",
       "<style scoped>\n",
       "    .dataframe tbody tr th:only-of-type {\n",
       "        vertical-align: middle;\n",
       "    }\n",
       "\n",
       "    .dataframe tbody tr th {\n",
       "        vertical-align: top;\n",
       "    }\n",
       "\n",
       "    .dataframe thead th {\n",
       "        text-align: right;\n",
       "    }\n",
       "</style>\n",
       "<table border=\"1\" class=\"dataframe\">\n",
       "  <thead>\n",
       "    <tr style=\"text-align: right;\">\n",
       "      <th></th>\n",
       "      <th>Well_ft</th>\n",
       "      <th>Tide_ft</th>\n",
       "      <th>Rain_ft</th>\n",
       "      <th>Well F179_ Well Level</th>\n",
       "      <th>Well F179_ Tide Level</th>\n",
       "      <th>Well F179_ Rain Level</th>\n",
       "      <th>Well F179_ Predicted Well Level</th>\n",
       "      <th>Well F179_ Lower 95% Confidence Interval</th>\n",
       "      <th>Well F179_ Upper 95% Confidence Interval</th>\n",
       "    </tr>\n",
       "    <tr>\n",
       "      <th>DateHour</th>\n",
       "      <th></th>\n",
       "      <th></th>\n",
       "      <th></th>\n",
       "      <th></th>\n",
       "      <th></th>\n",
       "      <th></th>\n",
       "      <th></th>\n",
       "      <th></th>\n",
       "      <th></th>\n",
       "    </tr>\n",
       "  </thead>\n",
       "  <tbody>\n",
       "    <tr>\n",
       "      <th>2007-10-01 01:00:00</th>\n",
       "      <td>3.1775</td>\n",
       "      <td>0.965</td>\n",
       "      <td>0.001771</td>\n",
       "      <td>3.1775</td>\n",
       "      <td>0.965</td>\n",
       "      <td>0.001771</td>\n",
       "      <td>NaN</td>\n",
       "      <td>NaN</td>\n",
       "      <td>NaN</td>\n",
       "    </tr>\n",
       "    <tr>\n",
       "      <th>2007-10-01 02:00:00</th>\n",
       "      <td>3.1900</td>\n",
       "      <td>0.358</td>\n",
       "      <td>0.002146</td>\n",
       "      <td>3.1900</td>\n",
       "      <td>0.358</td>\n",
       "      <td>0.002146</td>\n",
       "      <td>NaN</td>\n",
       "      <td>NaN</td>\n",
       "      <td>NaN</td>\n",
       "    </tr>\n",
       "    <tr>\n",
       "      <th>2007-10-01 03:00:00</th>\n",
       "      <td>3.2075</td>\n",
       "      <td>-0.144</td>\n",
       "      <td>0.005104</td>\n",
       "      <td>3.2075</td>\n",
       "      <td>-0.144</td>\n",
       "      <td>0.005104</td>\n",
       "      <td>NaN</td>\n",
       "      <td>NaN</td>\n",
       "      <td>NaN</td>\n",
       "    </tr>\n",
       "    <tr>\n",
       "      <th>2007-10-01 04:00:00</th>\n",
       "      <td>3.2275</td>\n",
       "      <td>-0.623</td>\n",
       "      <td>0.004792</td>\n",
       "      <td>3.2275</td>\n",
       "      <td>-0.623</td>\n",
       "      <td>0.004792</td>\n",
       "      <td>NaN</td>\n",
       "      <td>NaN</td>\n",
       "      <td>NaN</td>\n",
       "    </tr>\n",
       "    <tr>\n",
       "      <th>2007-10-01 05:00:00</th>\n",
       "      <td>3.2550</td>\n",
       "      <td>-0.994</td>\n",
       "      <td>0.002188</td>\n",
       "      <td>3.2550</td>\n",
       "      <td>-0.994</td>\n",
       "      <td>0.002188</td>\n",
       "      <td>3.288089</td>\n",
       "      <td>3.277932</td>\n",
       "      <td>3.298246</td>\n",
       "    </tr>\n",
       "  </tbody>\n",
       "</table>\n",
       "</div>"
      ],
      "text/plain": [
       "                     Well_ft  Tide_ft   Rain_ft  Well F179_ Well Level  \\\n",
       "DateHour                                                                 \n",
       "2007-10-01 01:00:00   3.1775    0.965  0.001771                 3.1775   \n",
       "2007-10-01 02:00:00   3.1900    0.358  0.002146                 3.1900   \n",
       "2007-10-01 03:00:00   3.2075   -0.144  0.005104                 3.2075   \n",
       "2007-10-01 04:00:00   3.2275   -0.623  0.004792                 3.2275   \n",
       "2007-10-01 05:00:00   3.2550   -0.994  0.002188                 3.2550   \n",
       "\n",
       "                     Well F179_ Tide Level  Well F179_ Rain Level  \\\n",
       "DateHour                                                            \n",
       "2007-10-01 01:00:00                  0.965               0.001771   \n",
       "2007-10-01 02:00:00                  0.358               0.002146   \n",
       "2007-10-01 03:00:00                 -0.144               0.005104   \n",
       "2007-10-01 04:00:00                 -0.623               0.004792   \n",
       "2007-10-01 05:00:00                 -0.994               0.002188   \n",
       "\n",
       "                     Well F179_ Predicted Well Level  \\\n",
       "DateHour                                               \n",
       "2007-10-01 01:00:00                              NaN   \n",
       "2007-10-01 02:00:00                              NaN   \n",
       "2007-10-01 03:00:00                              NaN   \n",
       "2007-10-01 04:00:00                              NaN   \n",
       "2007-10-01 05:00:00                         3.288089   \n",
       "\n",
       "                     Well F179_ Lower 95% Confidence Interval  \\\n",
       "DateHour                                                        \n",
       "2007-10-01 01:00:00                                       NaN   \n",
       "2007-10-01 02:00:00                                       NaN   \n",
       "2007-10-01 03:00:00                                       NaN   \n",
       "2007-10-01 04:00:00                                       NaN   \n",
       "2007-10-01 05:00:00                                  3.277932   \n",
       "\n",
       "                     Well F179_ Upper 95% Confidence Interval  \n",
       "DateHour                                                       \n",
       "2007-10-01 01:00:00                                       NaN  \n",
       "2007-10-01 02:00:00                                       NaN  \n",
       "2007-10-01 03:00:00                                       NaN  \n",
       "2007-10-01 04:00:00                                       NaN  \n",
       "2007-10-01 05:00:00                                  3.298246  "
      ]
     },
     "execution_count": 897,
     "metadata": {},
     "output_type": "execute_result"
    }
   ],
   "source": [
    "full.head()"
   ]
  },
  {
   "cell_type": "code",
   "execution_count": 898,
   "metadata": {},
   "outputs": [],
   "source": [
    "#full = full.iloc[:, 3:]\n",
    "full.to_csv(\"C:/Users/Christopher/Documents/GitHub/Fall2_Homework/data/Well Data_Split/final_wells/\" + \"F179\" + \"_FINAL.csv\", index=True)"
   ]
  },
  {
   "cell_type": "markdown",
   "metadata": {},
   "source": [
    "# Aggregate all data"
   ]
  },
  {
   "cell_type": "code",
   "execution_count": 807,
   "metadata": {},
   "outputs": [
    {
     "name": "stdout",
     "output_type": "stream",
     "text": [
      "F179_FINAL.csv\n",
      "FINAL.csv\n",
      "['F179_FINAL.csv', 'F319_FINAL.csv', 'F45_FINAL.csv', 'G1220_FINAL.csv', 'G1260_FINAL.csv', 'G2147_FINAL.csv', 'G2866_FINAL.csv', 'G3549_FINAL.csv', 'G561_FINAL.csv', 'G580A_FINAL.csv', 'G860_FINAL.csv', 'PB1680_FINAL.csv']\n"
     ]
    }
   ],
   "source": [
    "import os\n",
    "import glob\n",
    "import pandas\n",
    "\n",
    "path = 'C:/Users/Christopher/Documents/GitHub/Fall2_Homework/data/Well Data_Split/final_wells/'\n",
    "extension = 'csv'\n",
    "os.chdir(path)\n",
    "result = [i for i in glob.glob('*.{}'.format(extension))]\n",
    "\n",
    "term = result[1]\n",
    "print(term)\n",
    "print(term[(len(term)-9):len(term)])\n",
    "result = [i for i in result if i[(len(i)-9):len(i)] == \"FINAL.csv\"]\n",
    "print(result)"
   ]
  },
  {
   "cell_type": "code",
   "execution_count": 851,
   "metadata": {},
   "outputs": [],
   "source": [
    "df = pd.DataFrame(index=time_range)"
   ]
  },
  {
   "cell_type": "code",
   "execution_count": 869,
   "metadata": {},
   "outputs": [],
   "source": [
    "well = pd.read_csv(path + result[1])"
   ]
  },
  {
   "cell_type": "code",
   "execution_count": 853,
   "metadata": {},
   "outputs": [
    {
     "data": {
      "text/html": [
       "<div>\n",
       "<style scoped>\n",
       "    .dataframe tbody tr th:only-of-type {\n",
       "        vertical-align: middle;\n",
       "    }\n",
       "\n",
       "    .dataframe tbody tr th {\n",
       "        vertical-align: top;\n",
       "    }\n",
       "\n",
       "    .dataframe thead th {\n",
       "        text-align: right;\n",
       "    }\n",
       "</style>\n",
       "<table border=\"1\" class=\"dataframe\">\n",
       "  <thead>\n",
       "    <tr style=\"text-align: right;\">\n",
       "      <th></th>\n",
       "    </tr>\n",
       "  </thead>\n",
       "  <tbody>\n",
       "    <tr>\n",
       "      <th>2007-10-01 01:00:00</th>\n",
       "    </tr>\n",
       "    <tr>\n",
       "      <th>2007-10-01 02:00:00</th>\n",
       "    </tr>\n",
       "    <tr>\n",
       "      <th>2007-10-01 03:00:00</th>\n",
       "    </tr>\n",
       "    <tr>\n",
       "      <th>2007-10-01 04:00:00</th>\n",
       "    </tr>\n",
       "    <tr>\n",
       "      <th>2007-10-01 05:00:00</th>\n",
       "    </tr>\n",
       "  </tbody>\n",
       "</table>\n",
       "</div>"
      ],
      "text/plain": [
       "Empty DataFrame\n",
       "Columns: []\n",
       "Index: [2007-10-01 01:00:00, 2007-10-01 02:00:00, 2007-10-01 03:00:00, 2007-10-01 04:00:00, 2007-10-01 05:00:00]"
      ]
     },
     "execution_count": 853,
     "metadata": {},
     "output_type": "execute_result"
    }
   ],
   "source": []
  },
  {
   "cell_type": "code",
   "execution_count": 870,
   "metadata": {
    "scrolled": true
   },
   "outputs": [
    {
     "data": {
      "text/html": [
       "<div>\n",
       "<style scoped>\n",
       "    .dataframe tbody tr th:only-of-type {\n",
       "        vertical-align: middle;\n",
       "    }\n",
       "\n",
       "    .dataframe tbody tr th {\n",
       "        vertical-align: top;\n",
       "    }\n",
       "\n",
       "    .dataframe thead th {\n",
       "        text-align: right;\n",
       "    }\n",
       "</style>\n",
       "<table border=\"1\" class=\"dataframe\">\n",
       "  <thead>\n",
       "    <tr style=\"text-align: right;\">\n",
       "      <th></th>\n",
       "      <th>DateHour</th>\n",
       "      <th>Well F-319 Well Level</th>\n",
       "      <th>Well F-319 Tide Level</th>\n",
       "      <th>Well F-319 Rain Level</th>\n",
       "      <th>Well F-319 Predicted Well Level</th>\n",
       "      <th>Well F-319 Lower 95% Confidence Interval</th>\n",
       "      <th>Well F-319 Upper 95% Confidence Interval</th>\n",
       "    </tr>\n",
       "  </thead>\n",
       "  <tbody>\n",
       "    <tr>\n",
       "      <th>0</th>\n",
       "      <td>2007-10-01 01:00:00</td>\n",
       "      <td>3.05</td>\n",
       "      <td>0.965</td>\n",
       "      <td>0.005229</td>\n",
       "      <td>NaN</td>\n",
       "      <td>NaN</td>\n",
       "      <td>NaN</td>\n",
       "    </tr>\n",
       "    <tr>\n",
       "      <th>1</th>\n",
       "      <td>2007-10-01 02:00:00</td>\n",
       "      <td>3.05</td>\n",
       "      <td>0.358</td>\n",
       "      <td>0.004708</td>\n",
       "      <td>NaN</td>\n",
       "      <td>NaN</td>\n",
       "      <td>NaN</td>\n",
       "    </tr>\n",
       "    <tr>\n",
       "      <th>2</th>\n",
       "      <td>2007-10-01 03:00:00</td>\n",
       "      <td>3.06</td>\n",
       "      <td>-0.144</td>\n",
       "      <td>0.005083</td>\n",
       "      <td>NaN</td>\n",
       "      <td>NaN</td>\n",
       "      <td>NaN</td>\n",
       "    </tr>\n",
       "    <tr>\n",
       "      <th>3</th>\n",
       "      <td>2007-10-01 04:00:00</td>\n",
       "      <td>3.06</td>\n",
       "      <td>-0.623</td>\n",
       "      <td>0.005771</td>\n",
       "      <td>NaN</td>\n",
       "      <td>NaN</td>\n",
       "      <td>NaN</td>\n",
       "    </tr>\n",
       "    <tr>\n",
       "      <th>4</th>\n",
       "      <td>2007-10-01 05:00:00</td>\n",
       "      <td>3.09</td>\n",
       "      <td>-0.994</td>\n",
       "      <td>0.001708</td>\n",
       "      <td>3.131598</td>\n",
       "      <td>3.095427</td>\n",
       "      <td>3.167769</td>\n",
       "    </tr>\n",
       "  </tbody>\n",
       "</table>\n",
       "</div>"
      ],
      "text/plain": [
       "              DateHour  Well F-319 Well Level  Well F-319 Tide Level  \\\n",
       "0  2007-10-01 01:00:00                   3.05                  0.965   \n",
       "1  2007-10-01 02:00:00                   3.05                  0.358   \n",
       "2  2007-10-01 03:00:00                   3.06                 -0.144   \n",
       "3  2007-10-01 04:00:00                   3.06                 -0.623   \n",
       "4  2007-10-01 05:00:00                   3.09                 -0.994   \n",
       "\n",
       "   Well F-319 Rain Level  Well F-319 Predicted Well Level  \\\n",
       "0               0.005229                              NaN   \n",
       "1               0.004708                              NaN   \n",
       "2               0.005083                              NaN   \n",
       "3               0.005771                              NaN   \n",
       "4               0.001708                         3.131598   \n",
       "\n",
       "   Well F-319 Lower 95% Confidence Interval  \\\n",
       "0                                       NaN   \n",
       "1                                       NaN   \n",
       "2                                       NaN   \n",
       "3                                       NaN   \n",
       "4                                  3.095427   \n",
       "\n",
       "   Well F-319 Upper 95% Confidence Interval  \n",
       "0                                       NaN  \n",
       "1                                       NaN  \n",
       "2                                       NaN  \n",
       "3                                       NaN  \n",
       "4                                  3.167769  "
      ]
     },
     "execution_count": 870,
     "metadata": {},
     "output_type": "execute_result"
    }
   ],
   "source": [
    "well.head()"
   ]
  },
  {
   "cell_type": "code",
   "execution_count": 855,
   "metadata": {},
   "outputs": [],
   "source": [
    "df['Well Level'] = well.iloc[:, 0]\n",
    "df['Tide Level'] = well.iloc[:, 1]\n",
    "df['Rain Level'] = well.iloc[:, 2]\n",
    "df['Predicted Well Level'] = well.iloc[:,3]\n",
    "df['Well Name'] = result[1]"
   ]
  },
  {
   "cell_type": "code",
   "execution_count": 873,
   "metadata": {},
   "outputs": [],
   "source": [
    "df = pd.DataFrame(new_df)"
   ]
  },
  {
   "cell_type": "code",
   "execution_count": 874,
   "metadata": {},
   "outputs": [
    {
     "data": {
      "text/html": [
       "<div>\n",
       "<style scoped>\n",
       "    .dataframe tbody tr th:only-of-type {\n",
       "        vertical-align: middle;\n",
       "    }\n",
       "\n",
       "    .dataframe tbody tr th {\n",
       "        vertical-align: top;\n",
       "    }\n",
       "\n",
       "    .dataframe thead th {\n",
       "        text-align: right;\n",
       "    }\n",
       "</style>\n",
       "<table border=\"1\" class=\"dataframe\">\n",
       "  <thead>\n",
       "    <tr style=\"text-align: right;\">\n",
       "      <th></th>\n",
       "      <th>DateHour</th>\n",
       "      <th>Predicted Well Level</th>\n",
       "      <th>Rain Level</th>\n",
       "      <th>Tide Level</th>\n",
       "      <th>Well Level</th>\n",
       "      <th>Well Name</th>\n",
       "    </tr>\n",
       "  </thead>\n",
       "  <tbody>\n",
       "    <tr>\n",
       "      <th>0</th>\n",
       "      <td>2007-10-01 01:00:00</td>\n",
       "      <td>NaN</td>\n",
       "      <td>0.005229</td>\n",
       "      <td>0.965</td>\n",
       "      <td>3.05</td>\n",
       "      <td>F319</td>\n",
       "    </tr>\n",
       "    <tr>\n",
       "      <th>1</th>\n",
       "      <td>2007-10-01 02:00:00</td>\n",
       "      <td>NaN</td>\n",
       "      <td>0.004708</td>\n",
       "      <td>0.358</td>\n",
       "      <td>3.05</td>\n",
       "      <td>F319</td>\n",
       "    </tr>\n",
       "    <tr>\n",
       "      <th>2</th>\n",
       "      <td>2007-10-01 03:00:00</td>\n",
       "      <td>NaN</td>\n",
       "      <td>0.005083</td>\n",
       "      <td>-0.144</td>\n",
       "      <td>3.06</td>\n",
       "      <td>F319</td>\n",
       "    </tr>\n",
       "    <tr>\n",
       "      <th>3</th>\n",
       "      <td>2007-10-01 04:00:00</td>\n",
       "      <td>NaN</td>\n",
       "      <td>0.005771</td>\n",
       "      <td>-0.623</td>\n",
       "      <td>3.06</td>\n",
       "      <td>F319</td>\n",
       "    </tr>\n",
       "    <tr>\n",
       "      <th>4</th>\n",
       "      <td>2007-10-01 05:00:00</td>\n",
       "      <td>3.131598</td>\n",
       "      <td>0.001708</td>\n",
       "      <td>-0.994</td>\n",
       "      <td>3.09</td>\n",
       "      <td>F319</td>\n",
       "    </tr>\n",
       "  </tbody>\n",
       "</table>\n",
       "</div>"
      ],
      "text/plain": [
       "              DateHour  Predicted Well Level  Rain Level  Tide Level  \\\n",
       "0  2007-10-01 01:00:00                   NaN    0.005229       0.965   \n",
       "1  2007-10-01 02:00:00                   NaN    0.004708       0.358   \n",
       "2  2007-10-01 03:00:00                   NaN    0.005083      -0.144   \n",
       "3  2007-10-01 04:00:00                   NaN    0.005771      -0.623   \n",
       "4  2007-10-01 05:00:00              3.131598    0.001708      -0.994   \n",
       "\n",
       "   Well Level Well Name  \n",
       "0        3.05      F319  \n",
       "1        3.05      F319  \n",
       "2        3.06      F319  \n",
       "3        3.06      F319  \n",
       "4        3.09      F319  "
      ]
     },
     "execution_count": 874,
     "metadata": {},
     "output_type": "execute_result"
    }
   ],
   "source": [
    "df.head()"
   ]
  },
  {
   "cell_type": "code",
   "execution_count": 901,
   "metadata": {},
   "outputs": [],
   "source": [
    "i=0\n",
    "well = pd.read_csv(path + result[i])\n",
    "\n",
    "new_df = {\n",
    "    'DateHour': well.iloc[:, 0],\n",
    "    'Well Level': well.iloc[:, 1],\n",
    "    'Tide Level': well.iloc[:, 2],\n",
    "    'Rain Level': well.iloc[:, 3],\n",
    "    'Predicted Well Level': well.iloc[:,4],\n",
    "    'Well Name': pd.Series([result[i][:len(result[i])-10] for name in range(len(well))])\n",
    "}\n",
    "\n",
    "df = df.append(pd.DataFrame(new_df))"
   ]
  },
  {
   "cell_type": "code",
   "execution_count": 904,
   "metadata": {},
   "outputs": [
    {
     "data": {
      "text/plain": [
       "array(['F319', 'F45', 'G1220', 'G1260', 'G2147', 'G2866', 'G3549', 'G561',\n",
       "       'G580A', 'G860', 'PB1680', 'F179'], dtype=object)"
      ]
     },
     "execution_count": 904,
     "metadata": {},
     "output_type": "execute_result"
    }
   ],
   "source": [
    "df['Well Name'].unique()"
   ]
  },
  {
   "cell_type": "code",
   "execution_count": 905,
   "metadata": {},
   "outputs": [],
   "source": [
    "df.to_csv(path + \"Combined.csv\", index=False)"
   ]
  },
  {
   "cell_type": "code",
   "execution_count": 907,
   "metadata": {},
   "outputs": [
    {
     "data": {
      "text/html": [
       "<div>\n",
       "<style scoped>\n",
       "    .dataframe tbody tr th:only-of-type {\n",
       "        vertical-align: middle;\n",
       "    }\n",
       "\n",
       "    .dataframe tbody tr th {\n",
       "        vertical-align: top;\n",
       "    }\n",
       "\n",
       "    .dataframe thead th {\n",
       "        text-align: right;\n",
       "    }\n",
       "</style>\n",
       "<table border=\"1\" class=\"dataframe\">\n",
       "  <thead>\n",
       "    <tr style=\"text-align: right;\">\n",
       "      <th></th>\n",
       "      <th>DateHour</th>\n",
       "      <th>Predicted Well Level</th>\n",
       "      <th>Rain Level</th>\n",
       "      <th>Tide Level</th>\n",
       "      <th>Well Level</th>\n",
       "      <th>Well Name</th>\n",
       "    </tr>\n",
       "  </thead>\n",
       "  <tbody>\n",
       "    <tr>\n",
       "      <th>93678</th>\n",
       "      <td>2018-06-08 07:00:00</td>\n",
       "      <td>2.68</td>\n",
       "      <td>0.0</td>\n",
       "      <td>-0.863</td>\n",
       "      <td>2.68</td>\n",
       "      <td>F179</td>\n",
       "    </tr>\n",
       "    <tr>\n",
       "      <th>93679</th>\n",
       "      <td>2018-06-08 08:00:00</td>\n",
       "      <td>2.68</td>\n",
       "      <td>0.0</td>\n",
       "      <td>-0.863</td>\n",
       "      <td>2.68</td>\n",
       "      <td>F179</td>\n",
       "    </tr>\n",
       "    <tr>\n",
       "      <th>93680</th>\n",
       "      <td>2018-06-08 09:00:00</td>\n",
       "      <td>2.68</td>\n",
       "      <td>0.0</td>\n",
       "      <td>-0.863</td>\n",
       "      <td>2.68</td>\n",
       "      <td>F179</td>\n",
       "    </tr>\n",
       "    <tr>\n",
       "      <th>93681</th>\n",
       "      <td>2018-06-08 10:00:00</td>\n",
       "      <td>2.68</td>\n",
       "      <td>0.0</td>\n",
       "      <td>-0.863</td>\n",
       "      <td>2.68</td>\n",
       "      <td>F179</td>\n",
       "    </tr>\n",
       "    <tr>\n",
       "      <th>93682</th>\n",
       "      <td>2018-06-08 11:00:00</td>\n",
       "      <td>2.68</td>\n",
       "      <td>0.0</td>\n",
       "      <td>-0.863</td>\n",
       "      <td>2.68</td>\n",
       "      <td>F179</td>\n",
       "    </tr>\n",
       "  </tbody>\n",
       "</table>\n",
       "</div>"
      ],
      "text/plain": [
       "                  DateHour  Predicted Well Level  Rain Level  Tide Level  \\\n",
       "93678  2018-06-08 07:00:00                  2.68         0.0      -0.863   \n",
       "93679  2018-06-08 08:00:00                  2.68         0.0      -0.863   \n",
       "93680  2018-06-08 09:00:00                  2.68         0.0      -0.863   \n",
       "93681  2018-06-08 10:00:00                  2.68         0.0      -0.863   \n",
       "93682  2018-06-08 11:00:00                  2.68         0.0      -0.863   \n",
       "\n",
       "       Well Level Well Name  \n",
       "93678        2.68      F179  \n",
       "93679        2.68      F179  \n",
       "93680        2.68      F179  \n",
       "93681        2.68      F179  \n",
       "93682        2.68      F179  "
      ]
     },
     "execution_count": 907,
     "metadata": {},
     "output_type": "execute_result"
    }
   ],
   "source": [
    "df.tail()"
   ]
  },
  {
   "cell_type": "code",
   "execution_count": 909,
   "metadata": {},
   "outputs": [],
   "source": [
    "wells = df['Well Name'].unique()"
   ]
  },
  {
   "cell_type": "code",
   "execution_count": null,
   "metadata": {},
   "outputs": [],
   "source": [
    "wells"
   ]
  },
  {
   "cell_type": "code",
   "execution_count": 916,
   "metadata": {},
   "outputs": [
    {
     "data": {
      "text/plain": [
       "Rain Level    0.000528\n",
       "dtype: float64"
      ]
     },
     "execution_count": 916,
     "metadata": {},
     "output_type": "execute_result"
    }
   ],
   "source": [
    "df.loc[df['Well Name'] == 'G1260', ['DateHour', 'Rain Level']].mean()"
   ]
  },
  {
   "cell_type": "code",
   "execution_count": 922,
   "metadata": {},
   "outputs": [],
   "source": [
    "df.set_index(pd.DatetimeIndex(df['DateHour']), inplace=True)"
   ]
  },
  {
   "cell_type": "code",
   "execution_count": 953,
   "metadata": {
    "scrolled": true
   },
   "outputs": [],
   "source": [
    "sub1 = df.loc['11/04/2010 11:00:00':]\n",
    "sub1 = sub1[sub1['Well Name'] == \"G3549\"]"
   ]
  },
  {
   "cell_type": "code",
   "execution_count": 933,
   "metadata": {},
   "outputs": [
    {
     "name": "stderr",
     "output_type": "stream",
     "text": [
      "C:\\Users\\Christopher\\Anaconda3\\lib\\site-packages\\IPython\\core\\interactiveshell.py:2728: DtypeWarning: Columns (0,1,2,4,5,6,7,9) have mixed types. Specify dtype option on import or set low_memory=False.\n",
      "  interactivity=interactivity, compiler=compiler, result=result)\n"
     ]
    }
   ],
   "source": [
    "sub = pd.read_csv(path + \"../G-3549.csv\")"
   ]
  },
  {
   "cell_type": "code",
   "execution_count": 935,
   "metadata": {},
   "outputs": [],
   "source": [
    "sub.set_index(pd.DatetimeIndex(sub.RainDateHour), inplace=True)"
   ]
  },
  {
   "cell_type": "code",
   "execution_count": 946,
   "metadata": {},
   "outputs": [],
   "source": [
    "sub = sub.loc['11/04/2010 11:00:00':'11/04/2017']"
   ]
  }
 ],
 "metadata": {
  "kernelspec": {
   "display_name": "Python 3",
   "language": "python",
   "name": "python3"
  },
  "language_info": {
   "codemirror_mode": {
    "name": "ipython",
    "version": 3
   },
   "file_extension": ".py",
   "mimetype": "text/x-python",
   "name": "python",
   "nbconvert_exporter": "python",
   "pygments_lexer": "ipython3",
   "version": "3.6.4"
  }
 },
 "nbformat": 4,
 "nbformat_minor": 2
}
