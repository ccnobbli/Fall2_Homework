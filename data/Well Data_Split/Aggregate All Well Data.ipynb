{
 "cells": [
  {
   "cell_type": "code",
   "execution_count": 7,
   "metadata": {},
   "outputs": [
    {
     "name": "stdout",
     "output_type": "stream",
     "text": [
      "current directory is : c:\\\n",
      "Directory name is : \n"
     ]
    }
   ],
   "source": [
    "import os\n",
    " \n",
    "dirpath = os.getcwd()\n",
    "print(\"current directory is : \" + dirpath)\n",
    "foldername = os.path.basename(dirpath)\n",
    "print(\"Directory name is : \" + foldername)"
   ]
  },
  {
   "cell_type": "code",
   "execution_count": 10,
   "metadata": {},
   "outputs": [
    {
     "name": "stdout",
     "output_type": "stream",
     "text": [
      "['F-179.csv', 'F-319.csv', 'F-45.csv', 'G-1220.csv', 'G-1260_Done.csv', 'G-2147.csv', 'G-2866.csv', 'G-3549.csv', 'G-561.csv', 'G-580A.csv', 'G-852_NO_TIDE.csv', 'G-860.csv', 'PB-1680.csv']\n"
     ]
    }
   ],
   "source": [
    "import os\n",
    "import glob\n",
    "\n",
    "path = 'C:/Users/Christopher/Documents/GitHub/Fall2_Homework/data/Well Data_Split/'\n",
    "extension = 'csv'\n",
    "os.chdir(path)\n",
    "result = [i for i in glob.glob('*.{}'.format(extension))]\n",
    "print(result)"
   ]
  },
  {
   "cell_type": "code",
   "execution_count": 11,
   "metadata": {},
   "outputs": [],
   "source": [
    "file = result[1]"
   ]
  },
  {
   "cell_type": "code",
   "execution_count": null,
   "metadata": {},
   "outputs": [],
   "source": []
  },
  {
   "cell_type": "markdown",
   "metadata": {},
   "source": [
    "# Read file"
   ]
  },
  {
   "cell_type": "code",
   "execution_count": 61,
   "metadata": {
    "scrolled": true
   },
   "outputs": [
    {
     "name": "stderr",
     "output_type": "stream",
     "text": [
      "C:\\Users\\Christopher\\Anaconda3\\lib\\site-packages\\IPython\\core\\interactiveshell.py:2728: DtypeWarning: Columns (0,1,2,4,5,6,7,9,11,12) have mixed types. Specify dtype option on import or set low_memory=False.\n",
      "  interactivity=interactivity, compiler=compiler, result=result)\n"
     ]
    }
   ],
   "source": [
    "import pandas as pd\n",
    "df = pd.read_csv(file)"
   ]
  },
  {
   "cell_type": "code",
   "execution_count": 13,
   "metadata": {},
   "outputs": [
    {
     "data": {
      "text/html": [
       "<div>\n",
       "<style scoped>\n",
       "    .dataframe tbody tr th:only-of-type {\n",
       "        vertical-align: middle;\n",
       "    }\n",
       "\n",
       "    .dataframe tbody tr th {\n",
       "        vertical-align: top;\n",
       "    }\n",
       "\n",
       "    .dataframe thead th {\n",
       "        text-align: right;\n",
       "    }\n",
       "</style>\n",
       "<table border=\"1\" class=\"dataframe\">\n",
       "  <thead>\n",
       "    <tr style=\"text-align: right;\">\n",
       "      <th></th>\n",
       "      <th>TideDateHour</th>\n",
       "      <th>Date</th>\n",
       "      <th>Time</th>\n",
       "      <th>Tide_ft</th>\n",
       "      <th>WellDateHour</th>\n",
       "      <th>date</th>\n",
       "      <th>time</th>\n",
       "      <th>tz_cd</th>\n",
       "      <th>Well_ft</th>\n",
       "      <th>Code</th>\n",
       "      <th>Corrected</th>\n",
       "      <th>RainDateHour</th>\n",
       "      <th>Date.1</th>\n",
       "      <th>RAIN_FT</th>\n",
       "    </tr>\n",
       "  </thead>\n",
       "  <tbody>\n",
       "    <tr>\n",
       "      <th>0</th>\n",
       "      <td>10/1/2007 1:00</td>\n",
       "      <td>10/1/2007</td>\n",
       "      <td>1:00</td>\n",
       "      <td>0.965</td>\n",
       "      <td>2007/10/01 01:00</td>\n",
       "      <td>10/1/2007</td>\n",
       "      <td>1:00</td>\n",
       "      <td>EDT</td>\n",
       "      <td>3.05</td>\n",
       "      <td>A</td>\n",
       "      <td>1.501</td>\n",
       "      <td>2007/10/01 01:00</td>\n",
       "      <td>10/1/2007 1:00</td>\n",
       "      <td>0.015250</td>\n",
       "    </tr>\n",
       "    <tr>\n",
       "      <th>1</th>\n",
       "      <td>10/1/2007 2:00</td>\n",
       "      <td>10/1/2007</td>\n",
       "      <td>2:00</td>\n",
       "      <td>0.358</td>\n",
       "      <td>2007/10/01 02:00</td>\n",
       "      <td>10/1/2007</td>\n",
       "      <td>2:00</td>\n",
       "      <td>EDT</td>\n",
       "      <td>3.05</td>\n",
       "      <td>A</td>\n",
       "      <td>1.501</td>\n",
       "      <td>2007/10/01 01:00</td>\n",
       "      <td>10/1/2007 1:15</td>\n",
       "      <td>0.002583</td>\n",
       "    </tr>\n",
       "    <tr>\n",
       "      <th>2</th>\n",
       "      <td>10/1/2007 3:00</td>\n",
       "      <td>10/1/2007</td>\n",
       "      <td>3:00</td>\n",
       "      <td>-0.144</td>\n",
       "      <td>2007/10/01 03:00</td>\n",
       "      <td>10/1/2007</td>\n",
       "      <td>3:00</td>\n",
       "      <td>EDT</td>\n",
       "      <td>3.06</td>\n",
       "      <td>A</td>\n",
       "      <td>1.511</td>\n",
       "      <td>2007/10/01 01:00</td>\n",
       "      <td>10/1/2007 1:30</td>\n",
       "      <td>0.002583</td>\n",
       "    </tr>\n",
       "    <tr>\n",
       "      <th>3</th>\n",
       "      <td>10/1/2007 4:00</td>\n",
       "      <td>10/1/2007</td>\n",
       "      <td>4:00</td>\n",
       "      <td>-0.623</td>\n",
       "      <td>2007/10/01 04:00</td>\n",
       "      <td>10/1/2007</td>\n",
       "      <td>4:00</td>\n",
       "      <td>EDT</td>\n",
       "      <td>3.06</td>\n",
       "      <td>A</td>\n",
       "      <td>1.511</td>\n",
       "      <td>2007/10/01 01:00</td>\n",
       "      <td>10/1/2007 1:45</td>\n",
       "      <td>0.000500</td>\n",
       "    </tr>\n",
       "    <tr>\n",
       "      <th>4</th>\n",
       "      <td>10/1/2007 5:00</td>\n",
       "      <td>10/1/2007</td>\n",
       "      <td>5:00</td>\n",
       "      <td>-0.994</td>\n",
       "      <td>2007/10/01 05:00</td>\n",
       "      <td>10/1/2007</td>\n",
       "      <td>5:00</td>\n",
       "      <td>EDT</td>\n",
       "      <td>3.09</td>\n",
       "      <td>A</td>\n",
       "      <td>1.541</td>\n",
       "      <td>2007/10/01 02:00</td>\n",
       "      <td>10/1/2007 2:00</td>\n",
       "      <td>0.008417</td>\n",
       "    </tr>\n",
       "  </tbody>\n",
       "</table>\n",
       "</div>"
      ],
      "text/plain": [
       "     TideDateHour       Date  Time  Tide_ft      WellDateHour       date  \\\n",
       "0  10/1/2007 1:00  10/1/2007  1:00    0.965  2007/10/01 01:00  10/1/2007   \n",
       "1  10/1/2007 2:00  10/1/2007  2:00    0.358  2007/10/01 02:00  10/1/2007   \n",
       "2  10/1/2007 3:00  10/1/2007  3:00   -0.144  2007/10/01 03:00  10/1/2007   \n",
       "3  10/1/2007 4:00  10/1/2007  4:00   -0.623  2007/10/01 04:00  10/1/2007   \n",
       "4  10/1/2007 5:00  10/1/2007  5:00   -0.994  2007/10/01 05:00  10/1/2007   \n",
       "\n",
       "   time tz_cd  Well_ft Code  Corrected      RainDateHour          Date.1  \\\n",
       "0  1:00   EDT     3.05    A      1.501  2007/10/01 01:00  10/1/2007 1:00   \n",
       "1  2:00   EDT     3.05    A      1.501  2007/10/01 01:00  10/1/2007 1:15   \n",
       "2  3:00   EDT     3.06    A      1.511  2007/10/01 01:00  10/1/2007 1:30   \n",
       "3  4:00   EDT     3.06    A      1.511  2007/10/01 01:00  10/1/2007 1:45   \n",
       "4  5:00   EDT     3.09    A      1.541  2007/10/01 02:00  10/1/2007 2:00   \n",
       "\n",
       "    RAIN_FT  \n",
       "0  0.015250  \n",
       "1  0.002583  \n",
       "2  0.002583  \n",
       "3  0.000500  \n",
       "4  0.008417  "
      ]
     },
     "execution_count": 13,
     "metadata": {},
     "output_type": "execute_result"
    }
   ],
   "source": [
    "df.head()"
   ]
  },
  {
   "cell_type": "markdown",
   "metadata": {},
   "source": [
    "# Aggregate Well Water Elevation"
   ]
  },
  {
   "cell_type": "code",
   "execution_count": 45,
   "metadata": {
    "scrolled": true
   },
   "outputs": [],
   "source": [
    "tide = df.groupby('TideDateHour').mean()"
   ]
  },
  {
   "cell_type": "code",
   "execution_count": 47,
   "metadata": {},
   "outputs": [],
   "source": [
    "tide = tide.set_index(pd.DatetimeIndex(tide.index))"
   ]
  },
  {
   "cell_type": "code",
   "execution_count": 54,
   "metadata": {},
   "outputs": [
    {
     "name": "stdout",
     "output_type": "stream",
     "text": [
      "92244\n"
     ]
    },
    {
     "data": {
      "text/html": [
       "<div>\n",
       "<style scoped>\n",
       "    .dataframe tbody tr th:only-of-type {\n",
       "        vertical-align: middle;\n",
       "    }\n",
       "\n",
       "    .dataframe tbody tr th {\n",
       "        vertical-align: top;\n",
       "    }\n",
       "\n",
       "    .dataframe thead th {\n",
       "        text-align: right;\n",
       "    }\n",
       "</style>\n",
       "<table border=\"1\" class=\"dataframe\">\n",
       "  <thead>\n",
       "    <tr style=\"text-align: right;\">\n",
       "      <th></th>\n",
       "      <th>Tide_ft</th>\n",
       "      <th>Well_ft</th>\n",
       "      <th>Corrected</th>\n",
       "      <th>RAIN_FT</th>\n",
       "    </tr>\n",
       "    <tr>\n",
       "      <th>TideDateHour</th>\n",
       "      <th></th>\n",
       "      <th></th>\n",
       "      <th></th>\n",
       "      <th></th>\n",
       "    </tr>\n",
       "  </thead>\n",
       "  <tbody>\n",
       "    <tr>\n",
       "      <th>2008-01-01 00:00:00</th>\n",
       "      <td>-0.741</td>\n",
       "      <td>2.17</td>\n",
       "      <td>0.621</td>\n",
       "      <td>0.000000</td>\n",
       "    </tr>\n",
       "    <tr>\n",
       "      <th>2008-01-01 10:00:00</th>\n",
       "      <td>-1.417</td>\n",
       "      <td>2.17</td>\n",
       "      <td>0.621</td>\n",
       "      <td>0.000000</td>\n",
       "    </tr>\n",
       "    <tr>\n",
       "      <th>2008-01-01 11:00:00</th>\n",
       "      <td>-1.207</td>\n",
       "      <td>2.17</td>\n",
       "      <td>0.621</td>\n",
       "      <td>0.000000</td>\n",
       "    </tr>\n",
       "    <tr>\n",
       "      <th>2008-01-01 12:00:00</th>\n",
       "      <td>-0.889</td>\n",
       "      <td>2.17</td>\n",
       "      <td>0.621</td>\n",
       "      <td>0.000000</td>\n",
       "    </tr>\n",
       "    <tr>\n",
       "      <th>2008-01-01 13:00:00</th>\n",
       "      <td>-0.604</td>\n",
       "      <td>2.17</td>\n",
       "      <td>0.621</td>\n",
       "      <td>0.002583</td>\n",
       "    </tr>\n",
       "  </tbody>\n",
       "</table>\n",
       "</div>"
      ],
      "text/plain": [
       "                     Tide_ft  Well_ft  Corrected   RAIN_FT\n",
       "TideDateHour                                              \n",
       "2008-01-01 00:00:00   -0.741     2.17      0.621  0.000000\n",
       "2008-01-01 10:00:00   -1.417     2.17      0.621  0.000000\n",
       "2008-01-01 11:00:00   -1.207     2.17      0.621  0.000000\n",
       "2008-01-01 12:00:00   -0.889     2.17      0.621  0.000000\n",
       "2008-01-01 13:00:00   -0.604     2.17      0.621  0.002583"
      ]
     },
     "execution_count": 54,
     "metadata": {},
     "output_type": "execute_result"
    }
   ],
   "source": [
    "print(len(tide))\n",
    "tide.head()"
   ]
  },
  {
   "cell_type": "markdown",
   "metadata": {},
   "source": [
    "# Aggregate Rain"
   ]
  },
  {
   "cell_type": "code",
   "execution_count": 50,
   "metadata": {},
   "outputs": [],
   "source": [
    "rain = df.groupby('RainDateHour').mean()"
   ]
  },
  {
   "cell_type": "code",
   "execution_count": 51,
   "metadata": {},
   "outputs": [],
   "source": [
    "rain = rain.set_index(pd.DatetimeIndex(rain.index))"
   ]
  },
  {
   "cell_type": "code",
   "execution_count": 53,
   "metadata": {},
   "outputs": [
    {
     "name": "stdout",
     "output_type": "stream",
     "text": [
      "92244\n"
     ]
    },
    {
     "data": {
      "text/html": [
       "<div>\n",
       "<style scoped>\n",
       "    .dataframe tbody tr th:only-of-type {\n",
       "        vertical-align: middle;\n",
       "    }\n",
       "\n",
       "    .dataframe tbody tr th {\n",
       "        vertical-align: top;\n",
       "    }\n",
       "\n",
       "    .dataframe thead th {\n",
       "        text-align: right;\n",
       "    }\n",
       "</style>\n",
       "<table border=\"1\" class=\"dataframe\">\n",
       "  <thead>\n",
       "    <tr style=\"text-align: right;\">\n",
       "      <th></th>\n",
       "      <th>Tide_ft</th>\n",
       "      <th>Well_ft</th>\n",
       "      <th>Corrected</th>\n",
       "      <th>RAIN_FT</th>\n",
       "    </tr>\n",
       "    <tr>\n",
       "      <th>RainDateHour</th>\n",
       "      <th></th>\n",
       "      <th></th>\n",
       "      <th></th>\n",
       "      <th></th>\n",
       "    </tr>\n",
       "  </thead>\n",
       "  <tbody>\n",
       "    <tr>\n",
       "      <th>2007-10-01 01:00:00</th>\n",
       "      <td>0.13900</td>\n",
       "      <td>3.0550</td>\n",
       "      <td>1.5060</td>\n",
       "      <td>0.005229</td>\n",
       "    </tr>\n",
       "    <tr>\n",
       "      <th>2007-10-01 02:00:00</th>\n",
       "      <td>-0.87925</td>\n",
       "      <td>3.1625</td>\n",
       "      <td>1.6135</td>\n",
       "      <td>0.004708</td>\n",
       "    </tr>\n",
       "    <tr>\n",
       "      <th>2007-10-01 03:00:00</th>\n",
       "      <td>0.76875</td>\n",
       "      <td>3.5800</td>\n",
       "      <td>2.0310</td>\n",
       "      <td>0.005083</td>\n",
       "    </tr>\n",
       "    <tr>\n",
       "      <th>2007-10-01 04:00:00</th>\n",
       "      <td>0.64950</td>\n",
       "      <td>3.7600</td>\n",
       "      <td>2.2110</td>\n",
       "      <td>0.005771</td>\n",
       "    </tr>\n",
       "    <tr>\n",
       "      <th>2007-10-01 05:00:00</th>\n",
       "      <td>-0.40025</td>\n",
       "      <td>3.7675</td>\n",
       "      <td>2.2185</td>\n",
       "      <td>0.001708</td>\n",
       "    </tr>\n",
       "  </tbody>\n",
       "</table>\n",
       "</div>"
      ],
      "text/plain": [
       "                     Tide_ft  Well_ft  Corrected   RAIN_FT\n",
       "RainDateHour                                              \n",
       "2007-10-01 01:00:00  0.13900   3.0550     1.5060  0.005229\n",
       "2007-10-01 02:00:00 -0.87925   3.1625     1.6135  0.004708\n",
       "2007-10-01 03:00:00  0.76875   3.5800     2.0310  0.005083\n",
       "2007-10-01 04:00:00  0.64950   3.7600     2.2110  0.005771\n",
       "2007-10-01 05:00:00 -0.40025   3.7675     2.2185  0.001708"
      ]
     },
     "execution_count": 53,
     "metadata": {},
     "output_type": "execute_result"
    }
   ],
   "source": [
    "print(len(rain))\n",
    "rain.head()"
   ]
  },
  {
   "cell_type": "markdown",
   "metadata": {},
   "source": [
    "# Aggregate Well"
   ]
  },
  {
   "cell_type": "code",
   "execution_count": 62,
   "metadata": {},
   "outputs": [],
   "source": [
    "well = df.groupby('WellDateHour').mean()"
   ]
  },
  {
   "cell_type": "code",
   "execution_count": 63,
   "metadata": {},
   "outputs": [],
   "source": [
    "well = well.set_index(pd.DatetimeIndex(well.index))"
   ]
  },
  {
   "cell_type": "code",
   "execution_count": 64,
   "metadata": {},
   "outputs": [
    {
     "name": "stdout",
     "output_type": "stream",
     "text": [
      "90222\n"
     ]
    },
    {
     "data": {
      "text/html": [
       "<div>\n",
       "<style scoped>\n",
       "    .dataframe tbody tr th:only-of-type {\n",
       "        vertical-align: middle;\n",
       "    }\n",
       "\n",
       "    .dataframe tbody tr th {\n",
       "        vertical-align: top;\n",
       "    }\n",
       "\n",
       "    .dataframe thead th {\n",
       "        text-align: right;\n",
       "    }\n",
       "</style>\n",
       "<table border=\"1\" class=\"dataframe\">\n",
       "  <thead>\n",
       "    <tr style=\"text-align: right;\">\n",
       "      <th></th>\n",
       "      <th>Tide_ft</th>\n",
       "      <th>Well_ft</th>\n",
       "      <th>Corrected</th>\n",
       "      <th>RAIN_FT</th>\n",
       "    </tr>\n",
       "    <tr>\n",
       "      <th>WellDateHour</th>\n",
       "      <th></th>\n",
       "      <th></th>\n",
       "      <th></th>\n",
       "      <th></th>\n",
       "    </tr>\n",
       "  </thead>\n",
       "  <tbody>\n",
       "    <tr>\n",
       "      <th>2007-10-01 01:00:00</th>\n",
       "      <td>0.965</td>\n",
       "      <td>3.05</td>\n",
       "      <td>1.501</td>\n",
       "      <td>0.015250</td>\n",
       "    </tr>\n",
       "    <tr>\n",
       "      <th>2007-10-01 02:00:00</th>\n",
       "      <td>0.358</td>\n",
       "      <td>3.05</td>\n",
       "      <td>1.501</td>\n",
       "      <td>0.002583</td>\n",
       "    </tr>\n",
       "    <tr>\n",
       "      <th>2007-10-01 03:00:00</th>\n",
       "      <td>-0.144</td>\n",
       "      <td>3.06</td>\n",
       "      <td>1.511</td>\n",
       "      <td>0.002583</td>\n",
       "    </tr>\n",
       "    <tr>\n",
       "      <th>2007-10-01 04:00:00</th>\n",
       "      <td>-0.623</td>\n",
       "      <td>3.06</td>\n",
       "      <td>1.511</td>\n",
       "      <td>0.000500</td>\n",
       "    </tr>\n",
       "    <tr>\n",
       "      <th>2007-10-01 05:00:00</th>\n",
       "      <td>-0.994</td>\n",
       "      <td>3.09</td>\n",
       "      <td>1.541</td>\n",
       "      <td>0.008417</td>\n",
       "    </tr>\n",
       "  </tbody>\n",
       "</table>\n",
       "</div>"
      ],
      "text/plain": [
       "                     Tide_ft  Well_ft  Corrected   RAIN_FT\n",
       "WellDateHour                                              \n",
       "2007-10-01 01:00:00    0.965     3.05      1.501  0.015250\n",
       "2007-10-01 02:00:00    0.358     3.05      1.501  0.002583\n",
       "2007-10-01 03:00:00   -0.144     3.06      1.511  0.002583\n",
       "2007-10-01 04:00:00   -0.623     3.06      1.511  0.000500\n",
       "2007-10-01 05:00:00   -0.994     3.09      1.541  0.008417"
      ]
     },
     "execution_count": 64,
     "metadata": {},
     "output_type": "execute_result"
    }
   ],
   "source": [
    "print(len(well))\n",
    "well.head()"
   ]
  }
 ],
 "metadata": {
  "kernelspec": {
   "display_name": "Python 3",
   "language": "python",
   "name": "python3"
  },
  "language_info": {
   "codemirror_mode": {
    "name": "ipython",
    "version": 3
   },
   "file_extension": ".py",
   "mimetype": "text/x-python",
   "name": "python",
   "nbconvert_exporter": "python",
   "pygments_lexer": "ipython3",
   "version": "3.6.4"
  }
 },
 "nbformat": 4,
 "nbformat_minor": 2
}
