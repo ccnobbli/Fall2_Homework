{
 "cells": [
  {
   "cell_type": "code",
   "execution_count": 7,
   "metadata": {},
   "outputs": [
    {
     "name": "stdout",
     "output_type": "stream",
     "text": [
      "current directory is : c:\\\n",
      "Directory name is : \n"
     ]
    }
   ],
   "source": [
    "import os\n",
    " \n",
    "dirpath = os.getcwd()\n",
    "print(\"current directory is : \" + dirpath)\n",
    "foldername = os.path.basename(dirpath)\n",
    "print(\"Directory name is : \" + foldername)"
   ]
  },
  {
   "cell_type": "code",
   "execution_count": 10,
   "metadata": {},
   "outputs": [
    {
     "name": "stdout",
     "output_type": "stream",
     "text": [
      "['F-179.csv', 'F-319.csv', 'F-45.csv', 'G-1220.csv', 'G-1260_Done.csv', 'G-2147.csv', 'G-2866.csv', 'G-3549.csv', 'G-561.csv', 'G-580A.csv', 'G-852_NO_TIDE.csv', 'G-860.csv', 'PB-1680.csv']\n"
     ]
    }
   ],
   "source": [
    "import os\n",
    "import glob\n",
    "import pandas\n",
    "\n",
    "path = 'C:/Users/Christopher/Documents/GitHub/Fall2_Homework/data/Well Data_Split/'\n",
    "extension = 'csv'\n",
    "os.chdir(path)\n",
    "result = [i for i in glob.glob('*.{}'.format(extension))]\n",
    "print(result)"
   ]
  },
  {
   "cell_type": "markdown",
   "metadata": {},
   "source": [
    "# Read file"
   ]
  },
  {
   "cell_type": "code",
   "execution_count": 487,
   "metadata": {},
   "outputs": [],
   "source": [
    "# Dont do number 4\n",
    "# Problems with 11, 12\n",
    "# Next to do: 12"
   ]
  },
  {
   "cell_type": "code",
   "execution_count": 488,
   "metadata": {},
   "outputs": [],
   "source": [
    "start = '2007-10-01 01:00:00'\n",
    "end = '2018-06-08 11:00:00'\n",
    "time_range = pd.date_range(start=start, end=end,freq='H')"
   ]
  },
  {
   "cell_type": "code",
   "execution_count": 489,
   "metadata": {},
   "outputs": [
    {
     "data": {
      "text/plain": [
       "93683"
      ]
     },
     "execution_count": 489,
     "metadata": {},
     "output_type": "execute_result"
    }
   ],
   "source": [
    "len(time_range)"
   ]
  },
  {
   "cell_type": "code",
   "execution_count": 512,
   "metadata": {},
   "outputs": [
    {
     "data": {
      "text/plain": [
       "'PB-1680.csv'"
      ]
     },
     "execution_count": 512,
     "metadata": {},
     "output_type": "execute_result"
    }
   ],
   "source": [
    "file"
   ]
  },
  {
   "cell_type": "code",
   "execution_count": 510,
   "metadata": {
    "scrolled": false
   },
   "outputs": [
    {
     "name": "stderr",
     "output_type": "stream",
     "text": [
      "C:\\Users\\Christopher\\Anaconda3\\lib\\site-packages\\IPython\\core\\interactiveshell.py:2728: DtypeWarning: Columns (0,2,3,4,5,7) have mixed types. Specify dtype option on import or set low_memory=False.\n",
      "  interactivity=interactivity, compiler=compiler, result=result)\n"
     ]
    }
   ],
   "source": [
    "file = result[12]\n",
    "df = pd.read_csv(file)\n",
    "\n",
    "if 'Code' in df:\n",
    "    df = df[df.Code == \"A\"]"
   ]
  },
  {
   "cell_type": "code",
   "execution_count": 513,
   "metadata": {
    "scrolled": false
   },
   "outputs": [
    {
     "data": {
      "text/html": [
       "<div>\n",
       "<style scoped>\n",
       "    .dataframe tbody tr th:only-of-type {\n",
       "        vertical-align: middle;\n",
       "    }\n",
       "\n",
       "    .dataframe tbody tr th {\n",
       "        vertical-align: top;\n",
       "    }\n",
       "\n",
       "    .dataframe thead th {\n",
       "        text-align: right;\n",
       "    }\n",
       "</style>\n",
       "<table border=\"1\" class=\"dataframe\">\n",
       "  <thead>\n",
       "    <tr style=\"text-align: right;\">\n",
       "      <th></th>\n",
       "      <th>DateHour</th>\n",
       "      <th>TideLevel</th>\n",
       "      <th>WellDateHour</th>\n",
       "      <th>date</th>\n",
       "      <th>time</th>\n",
       "      <th>tz_cd</th>\n",
       "      <th>Well_ft</th>\n",
       "      <th>Code</th>\n",
       "      <th>Corrected</th>\n",
       "      <th>RainDateHour</th>\n",
       "      <th>Date</th>\n",
       "      <th>RAIN_FT</th>\n",
       "    </tr>\n",
       "  </thead>\n",
       "  <tbody>\n",
       "    <tr>\n",
       "      <th>0</th>\n",
       "      <td>10/1/2007 1:00</td>\n",
       "      <td>-0.098</td>\n",
       "      <td>2007/10/01 01:00</td>\n",
       "      <td>10/1/2007</td>\n",
       "      <td>1:00</td>\n",
       "      <td>EDT</td>\n",
       "      <td>4.43</td>\n",
       "      <td>A</td>\n",
       "      <td>2.872</td>\n",
       "      <td>2007/10/01 01:00</td>\n",
       "      <td>10/1/2007 1:00</td>\n",
       "      <td>0.000000</td>\n",
       "    </tr>\n",
       "    <tr>\n",
       "      <th>1</th>\n",
       "      <td>10/1/2007 2:00</td>\n",
       "      <td>0.000</td>\n",
       "      <td>2007/10/01 02:00</td>\n",
       "      <td>10/1/2007</td>\n",
       "      <td>2:00</td>\n",
       "      <td>EDT</td>\n",
       "      <td>4.44</td>\n",
       "      <td>A</td>\n",
       "      <td>2.882</td>\n",
       "      <td>2007/10/01 01:00</td>\n",
       "      <td>10/1/2007 1:15</td>\n",
       "      <td>0.000000</td>\n",
       "    </tr>\n",
       "    <tr>\n",
       "      <th>2</th>\n",
       "      <td>10/1/2007 3:00</td>\n",
       "      <td>-0.273</td>\n",
       "      <td>2007/10/01 03:00</td>\n",
       "      <td>10/1/2007</td>\n",
       "      <td>3:00</td>\n",
       "      <td>EDT</td>\n",
       "      <td>4.44</td>\n",
       "      <td>A</td>\n",
       "      <td>2.882</td>\n",
       "      <td>2007/10/01 01:00</td>\n",
       "      <td>10/1/2007 1:30</td>\n",
       "      <td>0.000000</td>\n",
       "    </tr>\n",
       "    <tr>\n",
       "      <th>3</th>\n",
       "      <td>10/1/2007 4:00</td>\n",
       "      <td>-0.822</td>\n",
       "      <td>2007/10/01 04:00</td>\n",
       "      <td>10/1/2007</td>\n",
       "      <td>4:00</td>\n",
       "      <td>EDT</td>\n",
       "      <td>4.44</td>\n",
       "      <td>A</td>\n",
       "      <td>2.882</td>\n",
       "      <td>2007/10/01 01:00</td>\n",
       "      <td>10/1/2007 1:45</td>\n",
       "      <td>0.000000</td>\n",
       "    </tr>\n",
       "    <tr>\n",
       "      <th>4</th>\n",
       "      <td>10/1/2007 5:00</td>\n",
       "      <td>-1.475</td>\n",
       "      <td>2007/10/01 05:00</td>\n",
       "      <td>10/1/2007</td>\n",
       "      <td>5:00</td>\n",
       "      <td>EDT</td>\n",
       "      <td>4.44</td>\n",
       "      <td>A</td>\n",
       "      <td>2.882</td>\n",
       "      <td>2007/10/01 02:00</td>\n",
       "      <td>10/1/2007 2:00</td>\n",
       "      <td>0.005333</td>\n",
       "    </tr>\n",
       "  </tbody>\n",
       "</table>\n",
       "</div>"
      ],
      "text/plain": [
       "         DateHour  TideLevel      WellDateHour       date  time tz_cd  \\\n",
       "0  10/1/2007 1:00     -0.098  2007/10/01 01:00  10/1/2007  1:00   EDT   \n",
       "1  10/1/2007 2:00      0.000  2007/10/01 02:00  10/1/2007  2:00   EDT   \n",
       "2  10/1/2007 3:00     -0.273  2007/10/01 03:00  10/1/2007  3:00   EDT   \n",
       "3  10/1/2007 4:00     -0.822  2007/10/01 04:00  10/1/2007  4:00   EDT   \n",
       "4  10/1/2007 5:00     -1.475  2007/10/01 05:00  10/1/2007  5:00   EDT   \n",
       "\n",
       "   Well_ft Code  Corrected      RainDateHour            Date   RAIN_FT  \n",
       "0     4.43    A      2.872  2007/10/01 01:00  10/1/2007 1:00  0.000000  \n",
       "1     4.44    A      2.882  2007/10/01 01:00  10/1/2007 1:15  0.000000  \n",
       "2     4.44    A      2.882  2007/10/01 01:00  10/1/2007 1:30  0.000000  \n",
       "3     4.44    A      2.882  2007/10/01 01:00  10/1/2007 1:45  0.000000  \n",
       "4     4.44    A      2.882  2007/10/01 02:00  10/1/2007 2:00  0.005333  "
      ]
     },
     "execution_count": 513,
     "metadata": {},
     "output_type": "execute_result"
    }
   ],
   "source": [
    "df.head()"
   ]
  },
  {
   "cell_type": "markdown",
   "metadata": {},
   "source": [
    "# Aggregate Tide Water Elevation"
   ]
  },
  {
   "cell_type": "code",
   "execution_count": 509,
   "metadata": {},
   "outputs": [
    {
     "data": {
      "text/html": [
       "<div>\n",
       "<style scoped>\n",
       "    .dataframe tbody tr th:only-of-type {\n",
       "        vertical-align: middle;\n",
       "    }\n",
       "\n",
       "    .dataframe tbody tr th {\n",
       "        vertical-align: top;\n",
       "    }\n",
       "\n",
       "    .dataframe thead th {\n",
       "        text-align: right;\n",
       "    }\n",
       "</style>\n",
       "<table border=\"1\" class=\"dataframe\">\n",
       "  <thead>\n",
       "    <tr style=\"text-align: right;\">\n",
       "      <th></th>\n",
       "      <th>TideDateHour</th>\n",
       "      <th>Date</th>\n",
       "      <th>Time</th>\n",
       "      <th>Tide_ft</th>\n",
       "      <th>WellDateHour</th>\n",
       "      <th>date</th>\n",
       "      <th>time</th>\n",
       "      <th>tz_cd</th>\n",
       "      <th>Well_ft</th>\n",
       "      <th>Code</th>\n",
       "      <th>Corrected</th>\n",
       "      <th>RainDateHour</th>\n",
       "      <th>Date.1</th>\n",
       "      <th>RAIN_FT</th>\n",
       "    </tr>\n",
       "  </thead>\n",
       "  <tbody>\n",
       "    <tr>\n",
       "      <th>0</th>\n",
       "      <td>2007/10/01 01:00</td>\n",
       "      <td>10/1/2007</td>\n",
       "      <td>1:00</td>\n",
       "      <td>0.085</td>\n",
       "      <td>2007/10/01 01:00</td>\n",
       "      <td>10/1/2007</td>\n",
       "      <td>1:00</td>\n",
       "      <td>EDT</td>\n",
       "      <td>2.33</td>\n",
       "      <td>A</td>\n",
       "      <td>0.795</td>\n",
       "      <td>2007/10/01 01:00</td>\n",
       "      <td>10/1/07 1:00</td>\n",
       "      <td>0.0</td>\n",
       "    </tr>\n",
       "    <tr>\n",
       "      <th>1</th>\n",
       "      <td>2007/10/01 02:00</td>\n",
       "      <td>10/1/2007</td>\n",
       "      <td>2:00</td>\n",
       "      <td>0.385</td>\n",
       "      <td>2007/10/01 02:00</td>\n",
       "      <td>10/1/2007</td>\n",
       "      <td>2:00</td>\n",
       "      <td>EDT</td>\n",
       "      <td>2.38</td>\n",
       "      <td>A</td>\n",
       "      <td>0.845</td>\n",
       "      <td>2007/10/01 01:00</td>\n",
       "      <td>10/1/07 1:15</td>\n",
       "      <td>0.0</td>\n",
       "    </tr>\n",
       "    <tr>\n",
       "      <th>2</th>\n",
       "      <td>2007/10/01 03:00</td>\n",
       "      <td>10/1/2007</td>\n",
       "      <td>3:00</td>\n",
       "      <td>0.755</td>\n",
       "      <td>2007/10/01 03:00</td>\n",
       "      <td>10/1/2007</td>\n",
       "      <td>3:00</td>\n",
       "      <td>EDT</td>\n",
       "      <td>2.42</td>\n",
       "      <td>A</td>\n",
       "      <td>0.885</td>\n",
       "      <td>2007/10/01 01:00</td>\n",
       "      <td>10/1/07 1:30</td>\n",
       "      <td>0.0</td>\n",
       "    </tr>\n",
       "    <tr>\n",
       "      <th>3</th>\n",
       "      <td>2007/10/01 04:00</td>\n",
       "      <td>10/1/2007</td>\n",
       "      <td>4:00</td>\n",
       "      <td>1.205</td>\n",
       "      <td>2007/10/01 04:00</td>\n",
       "      <td>10/1/2007</td>\n",
       "      <td>4:00</td>\n",
       "      <td>EDT</td>\n",
       "      <td>2.47</td>\n",
       "      <td>A</td>\n",
       "      <td>0.935</td>\n",
       "      <td>2007/10/01 01:00</td>\n",
       "      <td>10/1/07 1:45</td>\n",
       "      <td>0.0</td>\n",
       "    </tr>\n",
       "    <tr>\n",
       "      <th>4</th>\n",
       "      <td>2007/10/01 05:00</td>\n",
       "      <td>10/1/2007</td>\n",
       "      <td>5:00</td>\n",
       "      <td>1.675</td>\n",
       "      <td>2007/10/01 05:00</td>\n",
       "      <td>10/1/2007</td>\n",
       "      <td>5:00</td>\n",
       "      <td>EDT</td>\n",
       "      <td>2.49</td>\n",
       "      <td>A</td>\n",
       "      <td>0.955</td>\n",
       "      <td>2007/10/01 02:00</td>\n",
       "      <td>10/1/07 2:00</td>\n",
       "      <td>0.0</td>\n",
       "    </tr>\n",
       "  </tbody>\n",
       "</table>\n",
       "</div>"
      ],
      "text/plain": [
       "       TideDateHour       Date  Time  Tide_ft      WellDateHour       date  \\\n",
       "0  2007/10/01 01:00  10/1/2007  1:00    0.085  2007/10/01 01:00  10/1/2007   \n",
       "1  2007/10/01 02:00  10/1/2007  2:00    0.385  2007/10/01 02:00  10/1/2007   \n",
       "2  2007/10/01 03:00  10/1/2007  3:00    0.755  2007/10/01 03:00  10/1/2007   \n",
       "3  2007/10/01 04:00  10/1/2007  4:00    1.205  2007/10/01 04:00  10/1/2007   \n",
       "4  2007/10/01 05:00  10/1/2007  5:00    1.675  2007/10/01 05:00  10/1/2007   \n",
       "\n",
       "   time tz_cd  Well_ft Code  Corrected      RainDateHour        Date.1  \\\n",
       "0  1:00   EDT     2.33    A      0.795  2007/10/01 01:00  10/1/07 1:00   \n",
       "1  2:00   EDT     2.38    A      0.845  2007/10/01 01:00  10/1/07 1:15   \n",
       "2  3:00   EDT     2.42    A      0.885  2007/10/01 01:00  10/1/07 1:30   \n",
       "3  4:00   EDT     2.47    A      0.935  2007/10/01 01:00  10/1/07 1:45   \n",
       "4  5:00   EDT     2.49    A      0.955  2007/10/01 02:00  10/1/07 2:00   \n",
       "\n",
       "   RAIN_FT  \n",
       "0      0.0  \n",
       "1      0.0  \n",
       "2      0.0  \n",
       "3      0.0  \n",
       "4      0.0  "
      ]
     },
     "execution_count": 509,
     "metadata": {},
     "output_type": "execute_result"
    }
   ],
   "source": [
    "df.head()"
   ]
  },
  {
   "cell_type": "code",
   "execution_count": 511,
   "metadata": {},
   "outputs": [
    {
     "ename": "KeyError",
     "evalue": "\"None of [['TideDateHour', 'Tide_ft']] are in the [columns]\"",
     "output_type": "error",
     "traceback": [
      "\u001b[1;31m---------------------------------------------------------------------------\u001b[0m",
      "\u001b[1;31mKeyError\u001b[0m                                  Traceback (most recent call last)",
      "\u001b[1;32m<ipython-input-511-8021130456e6>\u001b[0m in \u001b[0;36m<module>\u001b[1;34m()\u001b[0m\n\u001b[0;32m      1\u001b[0m \u001b[1;31m#%% Create a set format for which to read the string as a datetime variable\u001b[0m\u001b[1;33m\u001b[0m\u001b[1;33m\u001b[0m\u001b[0m\n\u001b[1;32m----> 2\u001b[1;33m \u001b[0mtide\u001b[0m \u001b[1;33m=\u001b[0m \u001b[0mdf\u001b[0m\u001b[1;33m.\u001b[0m\u001b[0mloc\u001b[0m\u001b[1;33m[\u001b[0m\u001b[1;33m:\u001b[0m\u001b[1;33m,\u001b[0m \u001b[1;33m[\u001b[0m\u001b[1;34m'TideDateHour'\u001b[0m\u001b[1;33m,\u001b[0m \u001b[1;34m'Tide_ft'\u001b[0m\u001b[1;33m]\u001b[0m\u001b[1;33m]\u001b[0m\u001b[1;33m\u001b[0m\u001b[0m\n\u001b[0m\u001b[0;32m      3\u001b[0m \u001b[1;33m\u001b[0m\u001b[0m\n\u001b[0;32m      4\u001b[0m \u001b[1;33m\u001b[0m\u001b[0m\n\u001b[0;32m      5\u001b[0m \u001b[0mtime_format\u001b[0m \u001b[1;33m=\u001b[0m \u001b[1;34m\"%Y/%m/%d %H:%M\"\u001b[0m\u001b[1;33m\u001b[0m\u001b[0m\n",
      "\u001b[1;32m~\\Anaconda3\\lib\\site-packages\\pandas\\core\\indexing.py\u001b[0m in \u001b[0;36m__getitem__\u001b[1;34m(self, key)\u001b[0m\n\u001b[0;32m   1365\u001b[0m             \u001b[1;32mexcept\u001b[0m \u001b[1;33m(\u001b[0m\u001b[0mKeyError\u001b[0m\u001b[1;33m,\u001b[0m \u001b[0mIndexError\u001b[0m\u001b[1;33m)\u001b[0m\u001b[1;33m:\u001b[0m\u001b[1;33m\u001b[0m\u001b[0m\n\u001b[0;32m   1366\u001b[0m                 \u001b[1;32mpass\u001b[0m\u001b[1;33m\u001b[0m\u001b[0m\n\u001b[1;32m-> 1367\u001b[1;33m             \u001b[1;32mreturn\u001b[0m \u001b[0mself\u001b[0m\u001b[1;33m.\u001b[0m\u001b[0m_getitem_tuple\u001b[0m\u001b[1;33m(\u001b[0m\u001b[0mkey\u001b[0m\u001b[1;33m)\u001b[0m\u001b[1;33m\u001b[0m\u001b[0m\n\u001b[0m\u001b[0;32m   1368\u001b[0m         \u001b[1;32melse\u001b[0m\u001b[1;33m:\u001b[0m\u001b[1;33m\u001b[0m\u001b[0m\n\u001b[0;32m   1369\u001b[0m             \u001b[1;31m# we by definition only have the 0th axis\u001b[0m\u001b[1;33m\u001b[0m\u001b[1;33m\u001b[0m\u001b[0m\n",
      "\u001b[1;32m~\\Anaconda3\\lib\\site-packages\\pandas\\core\\indexing.py\u001b[0m in \u001b[0;36m_getitem_tuple\u001b[1;34m(self, tup)\u001b[0m\n\u001b[0;32m    861\u001b[0m \u001b[1;33m\u001b[0m\u001b[0m\n\u001b[0;32m    862\u001b[0m         \u001b[1;31m# no multi-index, so validate all of the indexers\u001b[0m\u001b[1;33m\u001b[0m\u001b[1;33m\u001b[0m\u001b[0m\n\u001b[1;32m--> 863\u001b[1;33m         \u001b[0mself\u001b[0m\u001b[1;33m.\u001b[0m\u001b[0m_has_valid_tuple\u001b[0m\u001b[1;33m(\u001b[0m\u001b[0mtup\u001b[0m\u001b[1;33m)\u001b[0m\u001b[1;33m\u001b[0m\u001b[0m\n\u001b[0m\u001b[0;32m    864\u001b[0m \u001b[1;33m\u001b[0m\u001b[0m\n\u001b[0;32m    865\u001b[0m         \u001b[1;31m# ugly hack for GH #836\u001b[0m\u001b[1;33m\u001b[0m\u001b[1;33m\u001b[0m\u001b[0m\n",
      "\u001b[1;32m~\\Anaconda3\\lib\\site-packages\\pandas\\core\\indexing.py\u001b[0m in \u001b[0;36m_has_valid_tuple\u001b[1;34m(self, key)\u001b[0m\n\u001b[0;32m    202\u001b[0m             \u001b[1;32mif\u001b[0m \u001b[0mi\u001b[0m \u001b[1;33m>=\u001b[0m \u001b[0mself\u001b[0m\u001b[1;33m.\u001b[0m\u001b[0mobj\u001b[0m\u001b[1;33m.\u001b[0m\u001b[0mndim\u001b[0m\u001b[1;33m:\u001b[0m\u001b[1;33m\u001b[0m\u001b[0m\n\u001b[0;32m    203\u001b[0m                 \u001b[1;32mraise\u001b[0m \u001b[0mIndexingError\u001b[0m\u001b[1;33m(\u001b[0m\u001b[1;34m'Too many indexers'\u001b[0m\u001b[1;33m)\u001b[0m\u001b[1;33m\u001b[0m\u001b[0m\n\u001b[1;32m--> 204\u001b[1;33m             \u001b[1;32mif\u001b[0m \u001b[1;32mnot\u001b[0m \u001b[0mself\u001b[0m\u001b[1;33m.\u001b[0m\u001b[0m_has_valid_type\u001b[0m\u001b[1;33m(\u001b[0m\u001b[0mk\u001b[0m\u001b[1;33m,\u001b[0m \u001b[0mi\u001b[0m\u001b[1;33m)\u001b[0m\u001b[1;33m:\u001b[0m\u001b[1;33m\u001b[0m\u001b[0m\n\u001b[0m\u001b[0;32m    205\u001b[0m                 raise ValueError(\"Location based indexing can only have \"\n\u001b[0;32m    206\u001b[0m                                  \u001b[1;34m\"[{types}] types\"\u001b[0m\u001b[1;33m\u001b[0m\u001b[0m\n",
      "\u001b[1;32m~\\Anaconda3\\lib\\site-packages\\pandas\\core\\indexing.py\u001b[0m in \u001b[0;36m_has_valid_type\u001b[1;34m(self, key, axis)\u001b[0m\n\u001b[0;32m   1470\u001b[0m                         raise KeyError(\n\u001b[0;32m   1471\u001b[0m                             u\"None of [{key}] are in the [{axis}]\".format(\n\u001b[1;32m-> 1472\u001b[1;33m                                 key=key, axis=self.obj._get_axis_name(axis)))\n\u001b[0m\u001b[0;32m   1473\u001b[0m                     \u001b[1;32melse\u001b[0m\u001b[1;33m:\u001b[0m\u001b[1;33m\u001b[0m\u001b[0m\n\u001b[0;32m   1474\u001b[0m \u001b[1;33m\u001b[0m\u001b[0m\n",
      "\u001b[1;31mKeyError\u001b[0m: \"None of [['TideDateHour', 'Tide_ft']] are in the [columns]\""
     ]
    }
   ],
   "source": [
    "#%% Create a set format for which to read the string as a datetime variable\n",
    "tide = df.loc[:, ['TideDateHour', 'Tide_ft']]\n",
    "\n",
    "\n",
    "time_format = \"%Y/%m/%d %H:%M\"\n",
    "\n",
    "tide['TideDateHour'] = pd.to_datetime(tide['TideDateHour'], format = time_format)\n",
    "\n",
    "#%% Reorganize the column order\n",
    "#df = df[['date_hour','date','time','Corrected']]\n",
    "\n",
    "#%% Setting index to be the date_hour column\n",
    "tide = tide.set_index('TideDateHour')\n",
    "\n",
    "#%% Select dates in the range required\n",
    "data_tide = tide['2007-10-01 01:00:00':'2018-06-08 11:00:00']\n",
    "\n",
    "#%% Resample data to hourly\n",
    "data_tide = data_tide.resample('H').mean()\n",
    "\n",
    "data_tide['Tide_ft'] = data_tide['Tide_ft'].interpolate()\n",
    "\n",
    "#%% Write the final clean data to csv\n",
    "#data_hourly.to_csv('G-1260_Hourly.csv')"
   ]
  },
  {
   "cell_type": "markdown",
   "metadata": {},
   "source": [
    "# Aggregate Rain"
   ]
  },
  {
   "cell_type": "code",
   "execution_count": 493,
   "metadata": {},
   "outputs": [
    {
     "name": "stdout",
     "output_type": "stream",
     "text": [
      "                      RAIN_FT\n",
      "RainDateHour                 \n",
      "2010-08-15 11:00:00  0.000000\n",
      "2010-08-15 12:00:00  0.000000\n",
      "2010-08-15 13:00:00  0.000000\n",
      "2010-08-15 14:00:00  0.000000\n",
      "2010-08-15 15:00:00  0.006667\n"
     ]
    }
   ],
   "source": [
    "#%% Create a set format for which to read the string as a datetime variable\n",
    "rain = df.loc[:, ['RainDateHour', 'RAIN_FT']]\n",
    "\n",
    "\n",
    "time_format = \"%Y/%m/%d %H:%M\"\n",
    "\n",
    "rain['RainDateHour'] = pd.to_datetime(rain['RainDateHour'], format = time_format)\n",
    "\n",
    "#%% Reorganize the column order\n",
    "#df = df[['date_hour','date','time','Corrected']]\n",
    "\n",
    "#%% Setting index to be the date_hour column\n",
    "rain = rain.set_index('RainDateHour')\n",
    "\n",
    "print(data_rain.tail())\n",
    "#%% Select dates in the range required\n",
    "data_rain = rain['2007-10-01 01:00:00':'2018-06-08 11:00:00']\n",
    "\n",
    "#%% Resample data to hourly\n",
    "data_rain = data_rain.resample('H').mean()\n",
    "\n",
    "data_rain['RAIN_FT'] = data_rain['RAIN_FT'].interpolate()\n",
    "\n",
    "#%% Write the final clean data to csv\n",
    "#data_hourly.to_csv('G-1260_Hourly.csv')"
   ]
  },
  {
   "cell_type": "markdown",
   "metadata": {},
   "source": [
    "# Aggregate Well"
   ]
  },
  {
   "cell_type": "code",
   "execution_count": 494,
   "metadata": {},
   "outputs": [],
   "source": [
    "#%% Create a set format for which to read the string as a datetime variable\n",
    "well = df.loc[:, ['WellDateHour', 'Well_ft']]\n",
    "\n",
    "\n",
    "\n",
    "well['WellDateHour'] = pd.to_datetime(well['WellDateHour'], format = time_format)\n",
    "\n",
    "#%% Reorganize the column order\n",
    "#df = df[['date_hour','date','time','Corrected']]\n",
    "\n",
    "#%% Setting index to be the date_hour column\n",
    "well = well.set_index('WellDateHour')\n",
    "\n",
    "#%% Select dates in the range required\n",
    "data_narrow = well['2007-10-01 01:00:00':'2018-06-08 11:00:00']\n",
    "\n",
    "#%% Resample data to hourly\n",
    "data_well = data_narrow.resample('H').mean()\n",
    "\n",
    "data_well['Well_ft'] = data_well.Well_ft.interpolate()\n",
    "\n",
    "#%% Write the final clean data to csv\n",
    "#data_hourly.to_csv('G-1260_Hourly.csv')"
   ]
  },
  {
   "cell_type": "markdown",
   "metadata": {},
   "source": [
    "# Merge all of the data into one table and save"
   ]
  },
  {
   "cell_type": "code",
   "execution_count": 495,
   "metadata": {
    "scrolled": false
   },
   "outputs": [
    {
     "data": {
      "text/plain": [
       "'G-580A.csv'"
      ]
     },
     "execution_count": 495,
     "metadata": {},
     "output_type": "execute_result"
    }
   ],
   "source": [
    "file"
   ]
  },
  {
   "cell_type": "code",
   "execution_count": 496,
   "metadata": {
    "scrolled": false
   },
   "outputs": [
    {
     "data": {
      "text/plain": [
       "93683"
      ]
     },
     "execution_count": 496,
     "metadata": {},
     "output_type": "execute_result"
    }
   ],
   "source": [
    "len(time_range)"
   ]
  },
  {
   "cell_type": "code",
   "execution_count": 497,
   "metadata": {},
   "outputs": [],
   "source": [
    "full = pd.DataFrame(index=pd.DatetimeIndex(time_range))"
   ]
  },
  {
   "cell_type": "code",
   "execution_count": 498,
   "metadata": {},
   "outputs": [
    {
     "name": "stdout",
     "output_type": "stream",
     "text": [
      "<class 'pandas.core.frame.DataFrame'>\n",
      "DatetimeIndex: 93683 entries, 2007-10-01 01:00:00 to 2018-06-08 11:00:00\n",
      "Freq: H\n",
      "Empty DataFrame"
     ]
    }
   ],
   "source": [
    "full.info()"
   ]
  },
  {
   "cell_type": "code",
   "execution_count": 499,
   "metadata": {},
   "outputs": [],
   "source": [
    "full['Well_ft'] = data_well['Well_ft']\n",
    "full['Tide_ft'] = data_tide['Tide_ft']\n",
    "full['Rain_ft'] = data_rain['RAIN_FT']\n",
    "full.index.name = 'DateHour'"
   ]
  },
  {
   "cell_type": "code",
   "execution_count": 500,
   "metadata": {},
   "outputs": [],
   "source": [
    "full.Tide_ft.interpolate(inplace=True)\n",
    "full.Tide_ft.fillna(method='ffill', inplace=True)\n",
    "full.Tide_ft.fillna(method='bfill', inplace=True)\n",
    "\n",
    "\n",
    "full.Rain_ft.interpolate(inplace=True)\n",
    "full.Rain_ft.fillna(method='ffill', inplace=True)\n",
    "full.Rain_ft.fillna(method='bfill', inplace=True)\n",
    "\n",
    "full.Well_ft.interpolate(inplace=True)\n",
    "full.Well_ft.fillna(method='ffill', inplace=True)\n",
    "full.Well_ft.fillna(method='bfill', inplace=True)\n"
   ]
  },
  {
   "cell_type": "code",
   "execution_count": 501,
   "metadata": {},
   "outputs": [],
   "source": [
    "assert not sum(full.Tide_ft.isna())\n",
    "assert not sum(full.Rain_ft.isna())\n",
    "assert not sum(full.Well_ft.isna())"
   ]
  },
  {
   "cell_type": "code",
   "execution_count": 502,
   "metadata": {},
   "outputs": [],
   "source": [
    "new_file = \"final_wells/\" + file[0:len(file)-4] + \"_ALL.csv\""
   ]
  },
  {
   "cell_type": "code",
   "execution_count": 503,
   "metadata": {},
   "outputs": [
    {
     "data": {
      "text/plain": [
       "'final_wells/G-580A_ALL.csv'"
      ]
     },
     "execution_count": 503,
     "metadata": {},
     "output_type": "execute_result"
    }
   ],
   "source": [
    "new_file"
   ]
  },
  {
   "cell_type": "code",
   "execution_count": 504,
   "metadata": {},
   "outputs": [],
   "source": [
    "full.to_csv(new_file, index=True)"
   ]
  },
  {
   "cell_type": "markdown",
   "metadata": {},
   "source": [
    "# Incorporate Predicted Well Water Elevation After SAS Prediction"
   ]
  },
  {
   "cell_type": "code",
   "execution_count": 633,
   "metadata": {},
   "outputs": [
    {
     "data": {
      "text/plain": [
       "'Well G-860'"
      ]
     },
     "execution_count": 633,
     "metadata": {},
     "output_type": "execute_result"
    }
   ],
   "source": [
    "file = result[11]\n",
    "well = file[:len(file)-4].replace(\"_\", \"\").replace(\"-\", \"\")\n",
    "well_name = \"Well \" + file[:len(file)-4]\n",
    "well_name"
   ]
  },
  {
   "cell_type": "code",
   "execution_count": 626,
   "metadata": {},
   "outputs": [],
   "source": [
    "pred = pd.read_sas(\"C:/Users/Christopher/Documents/GitHub/Fall2_Homework/data/Well Data_Split/final_wells/\" + well + \"_all_pred.sas7bdat\")\n",
    "full = pd.read_csv(\"C:/Users/Christopher/Documents/GitHub/Fall2_Homework/data/Well Data_Split/final_wells/\" + well + \"_ALL.csv\", index_col='DateHour')\n",
    "pred.set_index(full.index, inplace=True)"
   ]
  },
  {
   "cell_type": "code",
   "execution_count": 627,
   "metadata": {},
   "outputs": [
    {
     "data": {
      "text/html": [
       "<div>\n",
       "<style scoped>\n",
       "    .dataframe tbody tr th:only-of-type {\n",
       "        vertical-align: middle;\n",
       "    }\n",
       "\n",
       "    .dataframe tbody tr th {\n",
       "        vertical-align: top;\n",
       "    }\n",
       "\n",
       "    .dataframe thead th {\n",
       "        text-align: right;\n",
       "    }\n",
       "</style>\n",
       "<table border=\"1\" class=\"dataframe\">\n",
       "  <thead>\n",
       "    <tr style=\"text-align: right;\">\n",
       "      <th></th>\n",
       "      <th>Well_ft</th>\n",
       "      <th>Tide_ft</th>\n",
       "      <th>Rain_ft</th>\n",
       "    </tr>\n",
       "    <tr>\n",
       "      <th>DateHour</th>\n",
       "      <th></th>\n",
       "      <th></th>\n",
       "      <th></th>\n",
       "    </tr>\n",
       "  </thead>\n",
       "  <tbody>\n",
       "    <tr>\n",
       "      <th>2007-10-01 01:00:00</th>\n",
       "      <td>2.92</td>\n",
       "      <td>1.328</td>\n",
       "      <td>0.001188</td>\n",
       "    </tr>\n",
       "    <tr>\n",
       "      <th>2007-10-01 02:00:00</th>\n",
       "      <td>2.93</td>\n",
       "      <td>0.978</td>\n",
       "      <td>0.005375</td>\n",
       "    </tr>\n",
       "    <tr>\n",
       "      <th>2007-10-01 03:00:00</th>\n",
       "      <td>2.93</td>\n",
       "      <td>0.558</td>\n",
       "      <td>0.009625</td>\n",
       "    </tr>\n",
       "    <tr>\n",
       "      <th>2007-10-01 04:00:00</th>\n",
       "      <td>2.95</td>\n",
       "      <td>0.138</td>\n",
       "      <td>0.013625</td>\n",
       "    </tr>\n",
       "    <tr>\n",
       "      <th>2007-10-01 05:00:00</th>\n",
       "      <td>2.96</td>\n",
       "      <td>-0.052</td>\n",
       "      <td>0.003125</td>\n",
       "    </tr>\n",
       "  </tbody>\n",
       "</table>\n",
       "</div>"
      ],
      "text/plain": [
       "                     Well_ft  Tide_ft   Rain_ft\n",
       "DateHour                                       \n",
       "2007-10-01 01:00:00     2.92    1.328  0.001188\n",
       "2007-10-01 02:00:00     2.93    0.978  0.005375\n",
       "2007-10-01 03:00:00     2.93    0.558  0.009625\n",
       "2007-10-01 04:00:00     2.95    0.138  0.013625\n",
       "2007-10-01 05:00:00     2.96   -0.052  0.003125"
      ]
     },
     "execution_count": 627,
     "metadata": {},
     "output_type": "execute_result"
    }
   ],
   "source": [
    "full.head()"
   ]
  },
  {
   "cell_type": "code",
   "execution_count": 628,
   "metadata": {
    "scrolled": true
   },
   "outputs": [
    {
     "data": {
      "text/html": [
       "<div>\n",
       "<style scoped>\n",
       "    .dataframe tbody tr th:only-of-type {\n",
       "        vertical-align: middle;\n",
       "    }\n",
       "\n",
       "    .dataframe tbody tr th {\n",
       "        vertical-align: top;\n",
       "    }\n",
       "\n",
       "    .dataframe thead th {\n",
       "        text-align: right;\n",
       "    }\n",
       "</style>\n",
       "<table border=\"1\" class=\"dataframe\">\n",
       "  <thead>\n",
       "    <tr style=\"text-align: right;\">\n",
       "      <th></th>\n",
       "      <th>Well_ft</th>\n",
       "      <th>FORECAST</th>\n",
       "      <th>STD</th>\n",
       "      <th>L95</th>\n",
       "      <th>U95</th>\n",
       "      <th>RESIDUAL</th>\n",
       "    </tr>\n",
       "    <tr>\n",
       "      <th>DateHour</th>\n",
       "      <th></th>\n",
       "      <th></th>\n",
       "      <th></th>\n",
       "      <th></th>\n",
       "      <th></th>\n",
       "      <th></th>\n",
       "    </tr>\n",
       "  </thead>\n",
       "  <tbody>\n",
       "    <tr>\n",
       "      <th>2007-10-01 01:00:00</th>\n",
       "      <td>2.92</td>\n",
       "      <td>NaN</td>\n",
       "      <td>NaN</td>\n",
       "      <td>NaN</td>\n",
       "      <td>NaN</td>\n",
       "      <td>NaN</td>\n",
       "    </tr>\n",
       "    <tr>\n",
       "      <th>2007-10-01 02:00:00</th>\n",
       "      <td>2.93</td>\n",
       "      <td>NaN</td>\n",
       "      <td>NaN</td>\n",
       "      <td>NaN</td>\n",
       "      <td>NaN</td>\n",
       "      <td>NaN</td>\n",
       "    </tr>\n",
       "    <tr>\n",
       "      <th>2007-10-01 03:00:00</th>\n",
       "      <td>2.93</td>\n",
       "      <td>NaN</td>\n",
       "      <td>NaN</td>\n",
       "      <td>NaN</td>\n",
       "      <td>NaN</td>\n",
       "      <td>NaN</td>\n",
       "    </tr>\n",
       "    <tr>\n",
       "      <th>2007-10-01 04:00:00</th>\n",
       "      <td>2.95</td>\n",
       "      <td>NaN</td>\n",
       "      <td>NaN</td>\n",
       "      <td>NaN</td>\n",
       "      <td>NaN</td>\n",
       "      <td>NaN</td>\n",
       "    </tr>\n",
       "    <tr>\n",
       "      <th>2007-10-01 05:00:00</th>\n",
       "      <td>2.96</td>\n",
       "      <td>2.964296</td>\n",
       "      <td>0.008857</td>\n",
       "      <td>2.946937</td>\n",
       "      <td>2.981655</td>\n",
       "      <td>-0.004296</td>\n",
       "    </tr>\n",
       "  </tbody>\n",
       "</table>\n",
       "</div>"
      ],
      "text/plain": [
       "                     Well_ft  FORECAST       STD       L95       U95  RESIDUAL\n",
       "DateHour                                                                      \n",
       "2007-10-01 01:00:00     2.92       NaN       NaN       NaN       NaN       NaN\n",
       "2007-10-01 02:00:00     2.93       NaN       NaN       NaN       NaN       NaN\n",
       "2007-10-01 03:00:00     2.93       NaN       NaN       NaN       NaN       NaN\n",
       "2007-10-01 04:00:00     2.95       NaN       NaN       NaN       NaN       NaN\n",
       "2007-10-01 05:00:00     2.96  2.964296  0.008857  2.946937  2.981655 -0.004296"
      ]
     },
     "execution_count": 628,
     "metadata": {},
     "output_type": "execute_result"
    }
   ],
   "source": [
    "pred.head()"
   ]
  },
  {
   "cell_type": "code",
   "execution_count": 629,
   "metadata": {},
   "outputs": [],
   "source": [
    "full[well_name + \" Well Level\"] = full.Well_ft\n",
    "full[well_name + \" Tide Level\"] = full.Tide_ft\n",
    "full[well_name + \" Rain Level\"] = full.Rain_ft\n",
    "full[well_name + \" Predicted Well Level\"] = pred['FORECAST']\n",
    "full[well_name + \" Lower 95% Confidence Interval\"] = pred.L95\n",
    "full[well_name + \" Upper 95% Confidence Interval\"] = pred.U95"
   ]
  },
  {
   "cell_type": "code",
   "execution_count": 630,
   "metadata": {},
   "outputs": [
    {
     "data": {
      "text/html": [
       "<div>\n",
       "<style scoped>\n",
       "    .dataframe tbody tr th:only-of-type {\n",
       "        vertical-align: middle;\n",
       "    }\n",
       "\n",
       "    .dataframe tbody tr th {\n",
       "        vertical-align: top;\n",
       "    }\n",
       "\n",
       "    .dataframe thead th {\n",
       "        text-align: right;\n",
       "    }\n",
       "</style>\n",
       "<table border=\"1\" class=\"dataframe\">\n",
       "  <thead>\n",
       "    <tr style=\"text-align: right;\">\n",
       "      <th></th>\n",
       "      <th>Well_ft</th>\n",
       "      <th>Tide_ft</th>\n",
       "      <th>Rain_ft</th>\n",
       "      <th>Well G-580A Well Level</th>\n",
       "      <th>Well G-580A Tide Level</th>\n",
       "      <th>Well G-580A Rain Level</th>\n",
       "      <th>Well G-580A Predicted Well Level</th>\n",
       "      <th>Well G-580A Lower 95% Confidence Interval</th>\n",
       "      <th>Well G-580A Upper 95% Confidence Interval</th>\n",
       "    </tr>\n",
       "    <tr>\n",
       "      <th>DateHour</th>\n",
       "      <th></th>\n",
       "      <th></th>\n",
       "      <th></th>\n",
       "      <th></th>\n",
       "      <th></th>\n",
       "      <th></th>\n",
       "      <th></th>\n",
       "      <th></th>\n",
       "      <th></th>\n",
       "    </tr>\n",
       "  </thead>\n",
       "  <tbody>\n",
       "    <tr>\n",
       "      <th>2007-10-01 01:00:00</th>\n",
       "      <td>2.92</td>\n",
       "      <td>1.328</td>\n",
       "      <td>0.001188</td>\n",
       "      <td>2.92</td>\n",
       "      <td>1.328</td>\n",
       "      <td>0.001188</td>\n",
       "      <td>NaN</td>\n",
       "      <td>NaN</td>\n",
       "      <td>NaN</td>\n",
       "    </tr>\n",
       "    <tr>\n",
       "      <th>2007-10-01 02:00:00</th>\n",
       "      <td>2.93</td>\n",
       "      <td>0.978</td>\n",
       "      <td>0.005375</td>\n",
       "      <td>2.93</td>\n",
       "      <td>0.978</td>\n",
       "      <td>0.005375</td>\n",
       "      <td>NaN</td>\n",
       "      <td>NaN</td>\n",
       "      <td>NaN</td>\n",
       "    </tr>\n",
       "    <tr>\n",
       "      <th>2007-10-01 03:00:00</th>\n",
       "      <td>2.93</td>\n",
       "      <td>0.558</td>\n",
       "      <td>0.009625</td>\n",
       "      <td>2.93</td>\n",
       "      <td>0.558</td>\n",
       "      <td>0.009625</td>\n",
       "      <td>NaN</td>\n",
       "      <td>NaN</td>\n",
       "      <td>NaN</td>\n",
       "    </tr>\n",
       "    <tr>\n",
       "      <th>2007-10-01 04:00:00</th>\n",
       "      <td>2.95</td>\n",
       "      <td>0.138</td>\n",
       "      <td>0.013625</td>\n",
       "      <td>2.95</td>\n",
       "      <td>0.138</td>\n",
       "      <td>0.013625</td>\n",
       "      <td>NaN</td>\n",
       "      <td>NaN</td>\n",
       "      <td>NaN</td>\n",
       "    </tr>\n",
       "    <tr>\n",
       "      <th>2007-10-01 05:00:00</th>\n",
       "      <td>2.96</td>\n",
       "      <td>-0.052</td>\n",
       "      <td>0.003125</td>\n",
       "      <td>2.96</td>\n",
       "      <td>-0.052</td>\n",
       "      <td>0.003125</td>\n",
       "      <td>2.964296</td>\n",
       "      <td>2.946937</td>\n",
       "      <td>2.981655</td>\n",
       "    </tr>\n",
       "  </tbody>\n",
       "</table>\n",
       "</div>"
      ],
      "text/plain": [
       "                     Well_ft  Tide_ft   Rain_ft  Well G-580A Well Level  \\\n",
       "DateHour                                                                  \n",
       "2007-10-01 01:00:00     2.92    1.328  0.001188                    2.92   \n",
       "2007-10-01 02:00:00     2.93    0.978  0.005375                    2.93   \n",
       "2007-10-01 03:00:00     2.93    0.558  0.009625                    2.93   \n",
       "2007-10-01 04:00:00     2.95    0.138  0.013625                    2.95   \n",
       "2007-10-01 05:00:00     2.96   -0.052  0.003125                    2.96   \n",
       "\n",
       "                     Well G-580A Tide Level  Well G-580A Rain Level  \\\n",
       "DateHour                                                              \n",
       "2007-10-01 01:00:00                   1.328                0.001188   \n",
       "2007-10-01 02:00:00                   0.978                0.005375   \n",
       "2007-10-01 03:00:00                   0.558                0.009625   \n",
       "2007-10-01 04:00:00                   0.138                0.013625   \n",
       "2007-10-01 05:00:00                  -0.052                0.003125   \n",
       "\n",
       "                     Well G-580A Predicted Well Level  \\\n",
       "DateHour                                                \n",
       "2007-10-01 01:00:00                               NaN   \n",
       "2007-10-01 02:00:00                               NaN   \n",
       "2007-10-01 03:00:00                               NaN   \n",
       "2007-10-01 04:00:00                               NaN   \n",
       "2007-10-01 05:00:00                          2.964296   \n",
       "\n",
       "                     Well G-580A Lower 95% Confidence Interval  \\\n",
       "DateHour                                                         \n",
       "2007-10-01 01:00:00                                        NaN   \n",
       "2007-10-01 02:00:00                                        NaN   \n",
       "2007-10-01 03:00:00                                        NaN   \n",
       "2007-10-01 04:00:00                                        NaN   \n",
       "2007-10-01 05:00:00                                   2.946937   \n",
       "\n",
       "                     Well G-580A Upper 95% Confidence Interval  \n",
       "DateHour                                                        \n",
       "2007-10-01 01:00:00                                        NaN  \n",
       "2007-10-01 02:00:00                                        NaN  \n",
       "2007-10-01 03:00:00                                        NaN  \n",
       "2007-10-01 04:00:00                                        NaN  \n",
       "2007-10-01 05:00:00                                   2.981655  "
      ]
     },
     "execution_count": 630,
     "metadata": {},
     "output_type": "execute_result"
    }
   ],
   "source": [
    "full.head()"
   ]
  },
  {
   "cell_type": "code",
   "execution_count": 631,
   "metadata": {},
   "outputs": [],
   "source": [
    "full = full.iloc[:, 3:]\n",
    "full.to_csv(\"C:/Users/Christopher/Documents/GitHub/Fall2_Homework/data/Well Data_Split/final_wells/\" + well + \"_FINAL.csv\", index=True)"
   ]
  }
 ],
 "metadata": {
  "kernelspec": {
   "display_name": "Python 3",
   "language": "python",
   "name": "python3"
  },
  "language_info": {
   "codemirror_mode": {
    "name": "ipython",
    "version": 3
   },
   "file_extension": ".py",
   "mimetype": "text/x-python",
   "name": "python",
   "nbconvert_exporter": "python",
   "pygments_lexer": "ipython3",
   "version": "3.6.4"
  }
 },
 "nbformat": 4,
 "nbformat_minor": 2
}
