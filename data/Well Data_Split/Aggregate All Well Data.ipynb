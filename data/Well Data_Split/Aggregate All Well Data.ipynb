{
 "cells": [
  {
   "cell_type": "code",
   "execution_count": 7,
   "metadata": {},
   "outputs": [
    {
     "name": "stdout",
     "output_type": "stream",
     "text": [
      "current directory is : c:\\\n",
      "Directory name is : \n"
     ]
    }
   ],
   "source": [
    "import os\n",
    " \n",
    "dirpath = os.getcwd()\n",
    "print(\"current directory is : \" + dirpath)\n",
    "foldername = os.path.basename(dirpath)\n",
    "print(\"Directory name is : \" + foldername)"
   ]
  },
  {
   "cell_type": "code",
   "execution_count": 1483,
   "metadata": {},
   "outputs": [
    {
     "name": "stdout",
     "output_type": "stream",
     "text": [
      "['F-179.csv', 'F-319.csv', 'F-45.csv', 'G-1220.csv', 'G-1260_Done.csv', 'G-2147.csv', 'G-2866.csv', 'G-3549.csv', 'G-561.csv', 'G-580A.csv', 'G-852_NO_TIDE.csv', 'G-860.csv', 'PB-1680.csv', 'Well Coords.csv']\n"
     ]
    }
   ],
   "source": [
    "import os\n",
    "import glob\n",
    "import pandas\n",
    "\n",
    "path = 'C:/Users/Christopher/Documents/GitHub/Fall2_Homework/data/Well Data_Split/'\n",
    "extension = 'csv'\n",
    "os.chdir(path)\n",
    "result = [i for i in glob.glob('*.{}'.format(extension))]\n",
    "print(result)"
   ]
  },
  {
   "cell_type": "markdown",
   "metadata": {},
   "source": [
    "# Read file"
   ]
  },
  {
   "cell_type": "code",
   "execution_count": 487,
   "metadata": {},
   "outputs": [],
   "source": [
    "# Dont do number 4\n",
    "# Next to do: g1260, 11 (NO TIDE)"
   ]
  },
  {
   "cell_type": "code",
   "execution_count": 488,
   "metadata": {},
   "outputs": [],
   "source": [
    "start = '2007-10-01 01:00:00'\n",
    "end = '2018-06-08 11:00:00'\n",
    "time_range = pd.date_range(start=start, end=end,freq='H')"
   ]
  },
  {
   "cell_type": "code",
   "execution_count": 1487,
   "metadata": {
    "scrolled": false
   },
   "outputs": [
    {
     "name": "stderr",
     "output_type": "stream",
     "text": [
      "C:\\Users\\Christopher\\Anaconda3\\lib\\site-packages\\IPython\\core\\interactiveshell.py:2728: DtypeWarning: Columns (0,1,2,4,5,6,7,9) have mixed types. Specify dtype option on import or set low_memory=False.\n",
      "  interactivity=interactivity, compiler=compiler, result=result)\n"
     ]
    },
    {
     "data": {
      "text/plain": [
       "'F-179.csv'"
      ]
     },
     "execution_count": 1487,
     "metadata": {},
     "output_type": "execute_result"
    }
   ],
   "source": [
    "file = result[0]\n",
    "df = pd.read_csv(file, delimiter=\"\\t\")\n",
    "\n",
    "#if 'Code' in df:\n",
    "  # df = df[df.Code == \"A\"]\n",
    "file"
   ]
  },
  {
   "cell_type": "code",
   "execution_count": 1489,
   "metadata": {
    "scrolled": false
   },
   "outputs": [
    {
     "data": {
      "text/plain": [
       "count     253925\n",
       "unique         1\n",
       "top            A\n",
       "freq      253925\n",
       "Name: Code, dtype: object"
      ]
     },
     "execution_count": 1489,
     "metadata": {},
     "output_type": "execute_result"
    }
   ],
   "source": [
    "df.Code.describe()"
   ]
  },
  {
   "cell_type": "code",
   "execution_count": 1242,
   "metadata": {
    "scrolled": true
   },
   "outputs": [],
   "source": [
    "df = df[df.Code != \"P\"]"
   ]
  },
  {
   "cell_type": "code",
   "execution_count": 1243,
   "metadata": {},
   "outputs": [
    {
     "data": {
      "text/plain": [
       "array(['A', nan], dtype=object)"
      ]
     },
     "execution_count": 1243,
     "metadata": {},
     "output_type": "execute_result"
    }
   ],
   "source": [
    "df.Code.unique()"
   ]
  },
  {
   "cell_type": "code",
   "execution_count": 1038,
   "metadata": {},
   "outputs": [
    {
     "data": {
      "text/html": [
       "<div>\n",
       "<style scoped>\n",
       "    .dataframe tbody tr th:only-of-type {\n",
       "        vertical-align: middle;\n",
       "    }\n",
       "\n",
       "    .dataframe tbody tr th {\n",
       "        vertical-align: top;\n",
       "    }\n",
       "\n",
       "    .dataframe thead th {\n",
       "        text-align: right;\n",
       "    }\n",
       "</style>\n",
       "<table border=\"1\" class=\"dataframe\">\n",
       "  <thead>\n",
       "    <tr style=\"text-align: right;\">\n",
       "      <th></th>\n",
       "      <th>TideDateHour</th>\n",
       "      <th>Date</th>\n",
       "      <th>Time</th>\n",
       "      <th>Tide_ft</th>\n",
       "      <th>WellDateHour</th>\n",
       "      <th>date</th>\n",
       "      <th>time</th>\n",
       "      <th>tz_cd</th>\n",
       "      <th>Well_ft</th>\n",
       "      <th>Code</th>\n",
       "      <th>Corrected</th>\n",
       "      <th>RainDateHour</th>\n",
       "      <th>Date.1</th>\n",
       "      <th>RAIN_FT</th>\n",
       "    </tr>\n",
       "  </thead>\n",
       "  <tbody>\n",
       "    <tr>\n",
       "      <th>368972</th>\n",
       "      <td>NaN</td>\n",
       "      <td>NaN</td>\n",
       "      <td>NaN</td>\n",
       "      <td>NaN</td>\n",
       "      <td>NaN</td>\n",
       "      <td>NaN</td>\n",
       "      <td>NaN</td>\n",
       "      <td>NaN</td>\n",
       "      <td>NaN</td>\n",
       "      <td>NaN</td>\n",
       "      <td>NaN</td>\n",
       "      <td>2018/04/09 11:00</td>\n",
       "      <td>4/9/18 11:00</td>\n",
       "      <td>0.0</td>\n",
       "    </tr>\n",
       "  </tbody>\n",
       "</table>\n",
       "</div>"
      ],
      "text/plain": [
       "       TideDateHour Date Time  Tide_ft WellDateHour date time tz_cd  Well_ft  \\\n",
       "368972          NaN  NaN  NaN      NaN          NaN  NaN  NaN   NaN      NaN   \n",
       "\n",
       "       Code  Corrected      RainDateHour        Date.1  RAIN_FT  \n",
       "368972  NaN        NaN  2018/04/09 11:00  4/9/18 11:00      0.0  "
      ]
     },
     "execution_count": 1038,
     "metadata": {},
     "output_type": "execute_result"
    }
   ],
   "source": [
    "df[df.RainDateHour == '2018/04/09 11:00']"
   ]
  },
  {
   "cell_type": "code",
   "execution_count": null,
   "metadata": {},
   "outputs": [],
   "source": []
  },
  {
   "cell_type": "code",
   "execution_count": 1488,
   "metadata": {},
   "outputs": [
    {
     "data": {
      "text/html": [
       "<div>\n",
       "<style scoped>\n",
       "    .dataframe tbody tr th:only-of-type {\n",
       "        vertical-align: middle;\n",
       "    }\n",
       "\n",
       "    .dataframe tbody tr th {\n",
       "        vertical-align: top;\n",
       "    }\n",
       "\n",
       "    .dataframe thead th {\n",
       "        text-align: right;\n",
       "    }\n",
       "</style>\n",
       "<table border=\"1\" class=\"dataframe\">\n",
       "  <thead>\n",
       "    <tr style=\"text-align: right;\">\n",
       "      <th></th>\n",
       "      <th>TideDateHour</th>\n",
       "      <th>Date</th>\n",
       "      <th>Time</th>\n",
       "      <th>Tide_ft</th>\n",
       "      <th>WellDateHour</th>\n",
       "      <th>date</th>\n",
       "      <th>time</th>\n",
       "      <th>tz_cd</th>\n",
       "      <th>Well_ft</th>\n",
       "      <th>Code</th>\n",
       "      <th>Corrected</th>\n",
       "      <th>RainDateHour</th>\n",
       "      <th>Date.1</th>\n",
       "      <th>RAIN_FT</th>\n",
       "    </tr>\n",
       "  </thead>\n",
       "  <tbody>\n",
       "    <tr>\n",
       "      <th>0</th>\n",
       "      <td>10/1/2007 1:00</td>\n",
       "      <td>10/1/2007</td>\n",
       "      <td>1:00</td>\n",
       "      <td>0.965</td>\n",
       "      <td>2007/10/01 01:00</td>\n",
       "      <td>10/1/2007</td>\n",
       "      <td>1:00</td>\n",
       "      <td>EDT</td>\n",
       "      <td>3.17</td>\n",
       "      <td>A</td>\n",
       "      <td>1.621</td>\n",
       "      <td>10/1/2007 1:00</td>\n",
       "      <td>10/1/2007 1:00</td>\n",
       "      <td>0.002167</td>\n",
       "    </tr>\n",
       "    <tr>\n",
       "      <th>1</th>\n",
       "      <td>10/1/2007 2:00</td>\n",
       "      <td>10/1/2007</td>\n",
       "      <td>2:00</td>\n",
       "      <td>0.358</td>\n",
       "      <td>2007/10/01 01:00</td>\n",
       "      <td>10/1/2007</td>\n",
       "      <td>1:15</td>\n",
       "      <td>EDT</td>\n",
       "      <td>3.18</td>\n",
       "      <td>A</td>\n",
       "      <td>1.631</td>\n",
       "      <td>10/1/2007 1:00</td>\n",
       "      <td>10/1/2007 1:15</td>\n",
       "      <td>0.002333</td>\n",
       "    </tr>\n",
       "    <tr>\n",
       "      <th>2</th>\n",
       "      <td>10/1/2007 3:00</td>\n",
       "      <td>10/1/2007</td>\n",
       "      <td>3:00</td>\n",
       "      <td>-0.144</td>\n",
       "      <td>2007/10/01 01:00</td>\n",
       "      <td>10/1/2007</td>\n",
       "      <td>1:30</td>\n",
       "      <td>EDT</td>\n",
       "      <td>3.18</td>\n",
       "      <td>A</td>\n",
       "      <td>1.631</td>\n",
       "      <td>10/1/2007 1:00</td>\n",
       "      <td>10/1/2007 1:30</td>\n",
       "      <td>0.001667</td>\n",
       "    </tr>\n",
       "    <tr>\n",
       "      <th>3</th>\n",
       "      <td>10/1/2007 4:00</td>\n",
       "      <td>10/1/2007</td>\n",
       "      <td>4:00</td>\n",
       "      <td>-0.623</td>\n",
       "      <td>2007/10/01 01:00</td>\n",
       "      <td>10/1/2007</td>\n",
       "      <td>1:45</td>\n",
       "      <td>EDT</td>\n",
       "      <td>3.18</td>\n",
       "      <td>A</td>\n",
       "      <td>1.631</td>\n",
       "      <td>10/1/2007 1:00</td>\n",
       "      <td>10/1/2007 1:45</td>\n",
       "      <td>0.000917</td>\n",
       "    </tr>\n",
       "    <tr>\n",
       "      <th>4</th>\n",
       "      <td>10/1/2007 5:00</td>\n",
       "      <td>10/1/2007</td>\n",
       "      <td>5:00</td>\n",
       "      <td>-0.994</td>\n",
       "      <td>2007/10/01 02:00</td>\n",
       "      <td>10/1/2007</td>\n",
       "      <td>2:00</td>\n",
       "      <td>EDT</td>\n",
       "      <td>3.18</td>\n",
       "      <td>A</td>\n",
       "      <td>1.631</td>\n",
       "      <td>10/1/2007 2:00</td>\n",
       "      <td>10/1/2007 2:00</td>\n",
       "      <td>0.003333</td>\n",
       "    </tr>\n",
       "  </tbody>\n",
       "</table>\n",
       "</div>"
      ],
      "text/plain": [
       "     TideDateHour       Date  Time  Tide_ft      WellDateHour       date  \\\n",
       "0  10/1/2007 1:00  10/1/2007  1:00    0.965  2007/10/01 01:00  10/1/2007   \n",
       "1  10/1/2007 2:00  10/1/2007  2:00    0.358  2007/10/01 01:00  10/1/2007   \n",
       "2  10/1/2007 3:00  10/1/2007  3:00   -0.144  2007/10/01 01:00  10/1/2007   \n",
       "3  10/1/2007 4:00  10/1/2007  4:00   -0.623  2007/10/01 01:00  10/1/2007   \n",
       "4  10/1/2007 5:00  10/1/2007  5:00   -0.994  2007/10/01 02:00  10/1/2007   \n",
       "\n",
       "   time tz_cd  Well_ft Code  Corrected    RainDateHour          Date.1  \\\n",
       "0  1:00   EDT     3.17    A      1.621  10/1/2007 1:00  10/1/2007 1:00   \n",
       "1  1:15   EDT     3.18    A      1.631  10/1/2007 1:00  10/1/2007 1:15   \n",
       "2  1:30   EDT     3.18    A      1.631  10/1/2007 1:00  10/1/2007 1:30   \n",
       "3  1:45   EDT     3.18    A      1.631  10/1/2007 1:00  10/1/2007 1:45   \n",
       "4  2:00   EDT     3.18    A      1.631  10/1/2007 2:00  10/1/2007 2:00   \n",
       "\n",
       "    RAIN_FT  \n",
       "0  0.002167  \n",
       "1  0.002333  \n",
       "2  0.001667  \n",
       "3  0.000917  \n",
       "4  0.003333  "
      ]
     },
     "execution_count": 1488,
     "metadata": {},
     "output_type": "execute_result"
    }
   ],
   "source": [
    "df.head()"
   ]
  },
  {
   "cell_type": "markdown",
   "metadata": {},
   "source": [
    "# Aggregate Tide Water Elevation"
   ]
  },
  {
   "cell_type": "code",
   "execution_count": 1491,
   "metadata": {},
   "outputs": [],
   "source": [
    "#%% Create a set format for which to read the string as a datetime variable\n",
    "\n",
    "#df['TideDateHour'] = df.loc[:, 'DateHour']\n",
    "#df['Tide_ft'] = df.loc[:, 'TideLevel']\n",
    "tide = df.loc[:, ['TideDateHour', 'Tide_ft']]\n",
    "\n",
    "tide = tide.loc[tide.TideDateHour != '1900/01/00 00:00']\n",
    "\n",
    "time_format = \"%m/%d/%Y %H:%M\"\n",
    "\n",
    "tide['TideDateHour'] = pd.to_datetime(tide.loc[:,'TideDateHour'], format = time_format)\n",
    "\n",
    "#%% Reorganize the column order\n",
    "#df = df[['date_hour','date','time','Corrected']]\n",
    "\n",
    "#%% Setting index to be the date_hour column\n",
    "tide = tide.set_index('TideDateHour')\n",
    "\n",
    "#%% Select dates in the range required\n",
    "data_tide = tide['2007-10-01 01:00:00':'2018-06-08 11:00:00']\n",
    "\n",
    "#%% Resample data to hourly\n",
    "data_tide = data_tide.resample('H').mean()"
   ]
  },
  {
   "cell_type": "code",
   "execution_count": 1492,
   "metadata": {},
   "outputs": [
    {
     "data": {
      "text/html": [
       "<div>\n",
       "<style scoped>\n",
       "    .dataframe tbody tr th:only-of-type {\n",
       "        vertical-align: middle;\n",
       "    }\n",
       "\n",
       "    .dataframe tbody tr th {\n",
       "        vertical-align: top;\n",
       "    }\n",
       "\n",
       "    .dataframe thead th {\n",
       "        text-align: right;\n",
       "    }\n",
       "</style>\n",
       "<table border=\"1\" class=\"dataframe\">\n",
       "  <thead>\n",
       "    <tr style=\"text-align: right;\">\n",
       "      <th></th>\n",
       "      <th>TideDateHour</th>\n",
       "      <th>Date</th>\n",
       "      <th>Time</th>\n",
       "      <th>Tide_ft</th>\n",
       "      <th>WellDateHour</th>\n",
       "      <th>date</th>\n",
       "      <th>time</th>\n",
       "      <th>tz_cd</th>\n",
       "      <th>Well_ft</th>\n",
       "      <th>Code</th>\n",
       "      <th>Corrected</th>\n",
       "      <th>RainDateHour</th>\n",
       "      <th>Date.1</th>\n",
       "      <th>RAIN_FT</th>\n",
       "    </tr>\n",
       "  </thead>\n",
       "  <tbody>\n",
       "    <tr>\n",
       "      <th>0</th>\n",
       "      <td>10/1/2007 1:00</td>\n",
       "      <td>10/1/2007</td>\n",
       "      <td>1:00</td>\n",
       "      <td>0.965</td>\n",
       "      <td>2007/10/01 01:00</td>\n",
       "      <td>10/1/2007</td>\n",
       "      <td>1:00</td>\n",
       "      <td>EDT</td>\n",
       "      <td>3.17</td>\n",
       "      <td>A</td>\n",
       "      <td>1.621</td>\n",
       "      <td>10/1/2007 1:00</td>\n",
       "      <td>10/1/2007 1:00</td>\n",
       "      <td>0.002167</td>\n",
       "    </tr>\n",
       "    <tr>\n",
       "      <th>1</th>\n",
       "      <td>10/1/2007 2:00</td>\n",
       "      <td>10/1/2007</td>\n",
       "      <td>2:00</td>\n",
       "      <td>0.358</td>\n",
       "      <td>2007/10/01 01:00</td>\n",
       "      <td>10/1/2007</td>\n",
       "      <td>1:15</td>\n",
       "      <td>EDT</td>\n",
       "      <td>3.18</td>\n",
       "      <td>A</td>\n",
       "      <td>1.631</td>\n",
       "      <td>10/1/2007 1:00</td>\n",
       "      <td>10/1/2007 1:15</td>\n",
       "      <td>0.002333</td>\n",
       "    </tr>\n",
       "    <tr>\n",
       "      <th>2</th>\n",
       "      <td>10/1/2007 3:00</td>\n",
       "      <td>10/1/2007</td>\n",
       "      <td>3:00</td>\n",
       "      <td>-0.144</td>\n",
       "      <td>2007/10/01 01:00</td>\n",
       "      <td>10/1/2007</td>\n",
       "      <td>1:30</td>\n",
       "      <td>EDT</td>\n",
       "      <td>3.18</td>\n",
       "      <td>A</td>\n",
       "      <td>1.631</td>\n",
       "      <td>10/1/2007 1:00</td>\n",
       "      <td>10/1/2007 1:30</td>\n",
       "      <td>0.001667</td>\n",
       "    </tr>\n",
       "    <tr>\n",
       "      <th>3</th>\n",
       "      <td>10/1/2007 4:00</td>\n",
       "      <td>10/1/2007</td>\n",
       "      <td>4:00</td>\n",
       "      <td>-0.623</td>\n",
       "      <td>2007/10/01 01:00</td>\n",
       "      <td>10/1/2007</td>\n",
       "      <td>1:45</td>\n",
       "      <td>EDT</td>\n",
       "      <td>3.18</td>\n",
       "      <td>A</td>\n",
       "      <td>1.631</td>\n",
       "      <td>10/1/2007 1:00</td>\n",
       "      <td>10/1/2007 1:45</td>\n",
       "      <td>0.000917</td>\n",
       "    </tr>\n",
       "    <tr>\n",
       "      <th>4</th>\n",
       "      <td>10/1/2007 5:00</td>\n",
       "      <td>10/1/2007</td>\n",
       "      <td>5:00</td>\n",
       "      <td>-0.994</td>\n",
       "      <td>2007/10/01 02:00</td>\n",
       "      <td>10/1/2007</td>\n",
       "      <td>2:00</td>\n",
       "      <td>EDT</td>\n",
       "      <td>3.18</td>\n",
       "      <td>A</td>\n",
       "      <td>1.631</td>\n",
       "      <td>10/1/2007 2:00</td>\n",
       "      <td>10/1/2007 2:00</td>\n",
       "      <td>0.003333</td>\n",
       "    </tr>\n",
       "  </tbody>\n",
       "</table>\n",
       "</div>"
      ],
      "text/plain": [
       "     TideDateHour       Date  Time  Tide_ft      WellDateHour       date  \\\n",
       "0  10/1/2007 1:00  10/1/2007  1:00    0.965  2007/10/01 01:00  10/1/2007   \n",
       "1  10/1/2007 2:00  10/1/2007  2:00    0.358  2007/10/01 01:00  10/1/2007   \n",
       "2  10/1/2007 3:00  10/1/2007  3:00   -0.144  2007/10/01 01:00  10/1/2007   \n",
       "3  10/1/2007 4:00  10/1/2007  4:00   -0.623  2007/10/01 01:00  10/1/2007   \n",
       "4  10/1/2007 5:00  10/1/2007  5:00   -0.994  2007/10/01 02:00  10/1/2007   \n",
       "\n",
       "   time tz_cd  Well_ft Code  Corrected    RainDateHour          Date.1  \\\n",
       "0  1:00   EDT     3.17    A      1.621  10/1/2007 1:00  10/1/2007 1:00   \n",
       "1  1:15   EDT     3.18    A      1.631  10/1/2007 1:00  10/1/2007 1:15   \n",
       "2  1:30   EDT     3.18    A      1.631  10/1/2007 1:00  10/1/2007 1:30   \n",
       "3  1:45   EDT     3.18    A      1.631  10/1/2007 1:00  10/1/2007 1:45   \n",
       "4  2:00   EDT     3.18    A      1.631  10/1/2007 2:00  10/1/2007 2:00   \n",
       "\n",
       "    RAIN_FT  \n",
       "0  0.002167  \n",
       "1  0.002333  \n",
       "2  0.001667  \n",
       "3  0.000917  \n",
       "4  0.003333  "
      ]
     },
     "execution_count": 1492,
     "metadata": {},
     "output_type": "execute_result"
    }
   ],
   "source": [
    "df.head()"
   ]
  },
  {
   "cell_type": "code",
   "execution_count": 1496,
   "metadata": {},
   "outputs": [],
   "source": [
    "# Aggregate Rain\n",
    "\n",
    "#%% Create a set format for which to read the string as a datetime variable\n",
    "rain = df.loc[:, ['RainDateHour', 'RAIN_FT']]\n",
    "\n",
    "time_format = \"%m/%d/%Y %H:%M\"\n",
    "\n",
    "rain['RainDateHour'] = pd.to_datetime(rain['RainDateHour'], format = time_format)\n",
    "\n",
    "#%% Reorganize the column order\n",
    "#df = df[['date_hour','date','time','Corrected']]\n",
    "\n",
    "#%% Setting index to be the date_hour column\n",
    "rain = rain.set_index('RainDateHour')\n",
    "\n",
    "#%% Select dates in the range required\n",
    "data_rain = rain['2007-10-01 01:00:00':'2018-06-08 11:00:00']\n",
    "\n",
    "#%% Resample data to hourly\n",
    "data_rain = data_rain.resample('H').mean()\n",
    "\n",
    "# Aggregate Well\n",
    "\n",
    "#%% Create a set format for which to read the string as a datetime variable\n",
    "well = df.loc[:, ['WellDateHour', 'Well_ft']]\n",
    "\n",
    "time_format = \"%Y/%m/%d %H:%M\"\n",
    "\n",
    "well = well.loc[well.WellDateHour != '1900/01/00 00:00']\n",
    "well['WellDateHour'] = pd.to_datetime(well['WellDateHour'], format = time_format)\n",
    "\n",
    "#%% Reorganize the column order\n",
    "#df = df[['date_hour','date','time','Corrected']]\n",
    "\n",
    "#%% Setting index to be the date_hour column\n",
    "well = well.set_index('WellDateHour')\n",
    "\n",
    "#%% Select dates in the range required\n",
    "data_narrow = well['2007-10-01 01:00:00':'2018-06-08 11:00:00']\n",
    "\n",
    "#%% Resample data to hourly\n",
    "data_well = data_narrow.resample('H').mean()\n",
    "\n",
    "data_well['Well_ft'] = data_well.Well_ft.interpolate()"
   ]
  },
  {
   "cell_type": "markdown",
   "metadata": {},
   "source": [
    "# Merge all of the data into one table and save"
   ]
  },
  {
   "cell_type": "code",
   "execution_count": 1497,
   "metadata": {
    "scrolled": true
   },
   "outputs": [
    {
     "data": {
      "text/plain": [
       "'F-179.csv'"
      ]
     },
     "execution_count": 1497,
     "metadata": {},
     "output_type": "execute_result"
    }
   ],
   "source": [
    "file"
   ]
  },
  {
   "cell_type": "code",
   "execution_count": 1498,
   "metadata": {
    "scrolled": true
   },
   "outputs": [
    {
     "data": {
      "text/plain": [
       "93683"
      ]
     },
     "execution_count": 1498,
     "metadata": {},
     "output_type": "execute_result"
    }
   ],
   "source": [
    "len(time_range)"
   ]
  },
  {
   "cell_type": "code",
   "execution_count": 1499,
   "metadata": {},
   "outputs": [],
   "source": [
    "full = pd.DataFrame(index=pd.DatetimeIndex(time_range))"
   ]
  },
  {
   "cell_type": "code",
   "execution_count": 1500,
   "metadata": {
    "scrolled": true
   },
   "outputs": [
    {
     "name": "stdout",
     "output_type": "stream",
     "text": [
      "<class 'pandas.core.frame.DataFrame'>\n",
      "DatetimeIndex: 93683 entries, 2007-10-01 01:00:00 to 2018-06-08 11:00:00\n",
      "Freq: H\n",
      "Empty DataFrame"
     ]
    }
   ],
   "source": [
    "full.info()"
   ]
  },
  {
   "cell_type": "code",
   "execution_count": 1501,
   "metadata": {},
   "outputs": [],
   "source": [
    "full['Well_ft'] = data_well['Well_ft']\n",
    "full['Tide_ft'] = data_tide['Tide_ft']\n",
    "full['Rain_ft'] = data_rain['RAIN_FT']\n",
    "full.index.name = 'DateHour'"
   ]
  },
  {
   "cell_type": "code",
   "execution_count": 1502,
   "metadata": {},
   "outputs": [],
   "source": [
    "full.Tide_ft.interpolate(inplace=True)\n",
    "full.Rain_ft.interpolate(inplace=True)\n",
    "full.Well_ft.interpolate(inplace=True)\n",
    "\n",
    "# Fill in empty begininngs and ends\n",
    "avg_tide = full.Tide_ft.mean()\n",
    "full.Tide_ft.fillna(value=avg_tide, inplace=True)\n",
    "full.Tide_ft.fillna(value=avg_tide, inplace=True)\n",
    "\n",
    "full.Rain_ft.fillna(value=0, inplace=True)\n",
    "full.Rain_ft.fillna(value=0, inplace=True)\n",
    "\n",
    "avg_well = full.Well_ft.mean()\n",
    "full.Well_ft.fillna(value=avg_well, inplace=True)\n",
    "full.Well_ft.fillna(value=avg_well, inplace=True)\n"
   ]
  },
  {
   "cell_type": "code",
   "execution_count": 1503,
   "metadata": {},
   "outputs": [],
   "source": [
    "assert not sum(full.Tide_ft.isna())\n",
    "assert not sum(full.Rain_ft.isna())\n",
    "assert not sum(full.Well_ft.isna())"
   ]
  },
  {
   "cell_type": "code",
   "execution_count": 1504,
   "metadata": {},
   "outputs": [
    {
     "data": {
      "text/plain": [
       "DateHour\n",
       "2017-09-10 05:00:00    0.004583\n",
       "2017-09-10 06:00:00    0.012292\n",
       "2017-09-10 07:00:00    0.004792\n",
       "2017-09-10 08:00:00    0.004375\n",
       "2017-09-10 09:00:00    0.006250\n",
       "Freq: H, Name: Rain_ft, dtype: float64"
      ]
     },
     "execution_count": 1504,
     "metadata": {},
     "output_type": "execute_result"
    }
   ],
   "source": [
    "full.loc['09/10/2017 05:00:00':, 'Rain_ft'].head()"
   ]
  },
  {
   "cell_type": "code",
   "execution_count": 1505,
   "metadata": {},
   "outputs": [],
   "source": [
    "new_file = \"final_wells/\" + file[0:len(file)-4].replace(\"-\", \"\") + \"_ALL.csv\""
   ]
  },
  {
   "cell_type": "code",
   "execution_count": 1506,
   "metadata": {},
   "outputs": [
    {
     "data": {
      "text/plain": [
       "'final_wells/F179_ALL.csv'"
      ]
     },
     "execution_count": 1506,
     "metadata": {},
     "output_type": "execute_result"
    }
   ],
   "source": [
    "new_file"
   ]
  },
  {
   "cell_type": "code",
   "execution_count": 1507,
   "metadata": {},
   "outputs": [],
   "source": [
    "full.to_csv(new_file, index=True)"
   ]
  },
  {
   "cell_type": "markdown",
   "metadata": {},
   "source": [
    "# Incorporate Predicted Well Water Elevation After SAS Prediction"
   ]
  },
  {
   "cell_type": "code",
   "execution_count": 1509,
   "metadata": {
    "scrolled": true
   },
   "outputs": [
    {
     "name": "stdout",
     "output_type": "stream",
     "text": [
      "Well F179\n",
      "F179\n"
     ]
    }
   ],
   "source": [
    "file = result[0]\n",
    "well = file[:len(file)-4].replace(\"_\", \"\").replace(\"-\", \"\")\n",
    "well_name = \"Well \" + well #file[:len(file)-9]\n",
    "print(well_name)\n",
    "print(well)"
   ]
  },
  {
   "cell_type": "code",
   "execution_count": 1510,
   "metadata": {},
   "outputs": [],
   "source": [
    "pred = pd.read_sas(\"C:/Users/Christopher/Documents/GitHub/Fall2_Homework/data/Well Data_Split/final_wells/\" + str(well) + \"_all_pred.sas7bdat\")\n",
    "full = pd.read_csv(\"C:/Users/Christopher/Documents/GitHub/Fall2_Homework/data/Well Data_Split/final_wells/\" + str(well) + \"_ALL.csv\", index_col='DateHour')\n",
    "pred.set_index(full.index, inplace=True)\n",
    "\n",
    "full[well_name + \" Well Level\"] = full.Well_ft\n",
    "full[well_name + \" Tide Level\"] = full.Tide_ft\n",
    "full[well_name + \" Rain Level\"] = full.Rain_ft\n",
    "full[well_name + \" Predicted Well Level\"] = pred['FORECAST']\n",
    "full[well_name + \" Lower 95% Confidence Interval\"] = pred.L95\n",
    "full[well_name + \" Upper 95% Confidence Interval\"] = pred.U95"
   ]
  },
  {
   "cell_type": "code",
   "execution_count": 1511,
   "metadata": {},
   "outputs": [],
   "source": [
    "full[well_name + \" Well Level\"] = full.Well_ft\n",
    "full[well_name + \" Tide Level\"] = full.Tide_ft\n",
    "full[well_name + \" Rain Level\"] = full.Rain_ft\n",
    "full[well_name + \" Predicted Well Level\"] = pred['FORECAST']\n",
    "full[well_name + \" Lower 95% Confidence Interval\"] = pred.L95\n",
    "full[well_name + \" Upper 95% Confidence Interval\"] = pred.U95"
   ]
  },
  {
   "cell_type": "code",
   "execution_count": 1512,
   "metadata": {
    "scrolled": true
   },
   "outputs": [
    {
     "data": {
      "text/html": [
       "<div>\n",
       "<style scoped>\n",
       "    .dataframe tbody tr th:only-of-type {\n",
       "        vertical-align: middle;\n",
       "    }\n",
       "\n",
       "    .dataframe tbody tr th {\n",
       "        vertical-align: top;\n",
       "    }\n",
       "\n",
       "    .dataframe thead th {\n",
       "        text-align: right;\n",
       "    }\n",
       "</style>\n",
       "<table border=\"1\" class=\"dataframe\">\n",
       "  <thead>\n",
       "    <tr style=\"text-align: right;\">\n",
       "      <th></th>\n",
       "      <th>Well_ft</th>\n",
       "      <th>Tide_ft</th>\n",
       "      <th>Rain_ft</th>\n",
       "      <th>Well F179 Well Level</th>\n",
       "      <th>Well F179 Tide Level</th>\n",
       "      <th>Well F179 Rain Level</th>\n",
       "      <th>Well F179 Predicted Well Level</th>\n",
       "      <th>Well F179 Lower 95% Confidence Interval</th>\n",
       "      <th>Well F179 Upper 95% Confidence Interval</th>\n",
       "    </tr>\n",
       "    <tr>\n",
       "      <th>DateHour</th>\n",
       "      <th></th>\n",
       "      <th></th>\n",
       "      <th></th>\n",
       "      <th></th>\n",
       "      <th></th>\n",
       "      <th></th>\n",
       "      <th></th>\n",
       "      <th></th>\n",
       "      <th></th>\n",
       "    </tr>\n",
       "  </thead>\n",
       "  <tbody>\n",
       "    <tr>\n",
       "      <th>2007-10-01 01:00:00</th>\n",
       "      <td>3.1775</td>\n",
       "      <td>0.965</td>\n",
       "      <td>0.001771</td>\n",
       "      <td>3.1775</td>\n",
       "      <td>0.965</td>\n",
       "      <td>0.001771</td>\n",
       "      <td>NaN</td>\n",
       "      <td>NaN</td>\n",
       "      <td>NaN</td>\n",
       "    </tr>\n",
       "    <tr>\n",
       "      <th>2007-10-01 02:00:00</th>\n",
       "      <td>3.1900</td>\n",
       "      <td>0.358</td>\n",
       "      <td>0.002146</td>\n",
       "      <td>3.1900</td>\n",
       "      <td>0.358</td>\n",
       "      <td>0.002146</td>\n",
       "      <td>NaN</td>\n",
       "      <td>NaN</td>\n",
       "      <td>NaN</td>\n",
       "    </tr>\n",
       "    <tr>\n",
       "      <th>2007-10-01 03:00:00</th>\n",
       "      <td>3.2075</td>\n",
       "      <td>-0.144</td>\n",
       "      <td>0.005104</td>\n",
       "      <td>3.2075</td>\n",
       "      <td>-0.144</td>\n",
       "      <td>0.005104</td>\n",
       "      <td>NaN</td>\n",
       "      <td>NaN</td>\n",
       "      <td>NaN</td>\n",
       "    </tr>\n",
       "    <tr>\n",
       "      <th>2007-10-01 04:00:00</th>\n",
       "      <td>3.2275</td>\n",
       "      <td>-0.623</td>\n",
       "      <td>0.004792</td>\n",
       "      <td>3.2275</td>\n",
       "      <td>-0.623</td>\n",
       "      <td>0.004792</td>\n",
       "      <td>NaN</td>\n",
       "      <td>NaN</td>\n",
       "      <td>NaN</td>\n",
       "    </tr>\n",
       "    <tr>\n",
       "      <th>2007-10-01 05:00:00</th>\n",
       "      <td>3.2550</td>\n",
       "      <td>-0.994</td>\n",
       "      <td>0.002188</td>\n",
       "      <td>3.2550</td>\n",
       "      <td>-0.994</td>\n",
       "      <td>0.002188</td>\n",
       "      <td>3.288089</td>\n",
       "      <td>3.277932</td>\n",
       "      <td>3.298246</td>\n",
       "    </tr>\n",
       "  </tbody>\n",
       "</table>\n",
       "</div>"
      ],
      "text/plain": [
       "                     Well_ft  Tide_ft   Rain_ft  Well F179 Well Level  \\\n",
       "DateHour                                                                \n",
       "2007-10-01 01:00:00   3.1775    0.965  0.001771                3.1775   \n",
       "2007-10-01 02:00:00   3.1900    0.358  0.002146                3.1900   \n",
       "2007-10-01 03:00:00   3.2075   -0.144  0.005104                3.2075   \n",
       "2007-10-01 04:00:00   3.2275   -0.623  0.004792                3.2275   \n",
       "2007-10-01 05:00:00   3.2550   -0.994  0.002188                3.2550   \n",
       "\n",
       "                     Well F179 Tide Level  Well F179 Rain Level  \\\n",
       "DateHour                                                          \n",
       "2007-10-01 01:00:00                 0.965              0.001771   \n",
       "2007-10-01 02:00:00                 0.358              0.002146   \n",
       "2007-10-01 03:00:00                -0.144              0.005104   \n",
       "2007-10-01 04:00:00                -0.623              0.004792   \n",
       "2007-10-01 05:00:00                -0.994              0.002188   \n",
       "\n",
       "                     Well F179 Predicted Well Level  \\\n",
       "DateHour                                              \n",
       "2007-10-01 01:00:00                             NaN   \n",
       "2007-10-01 02:00:00                             NaN   \n",
       "2007-10-01 03:00:00                             NaN   \n",
       "2007-10-01 04:00:00                             NaN   \n",
       "2007-10-01 05:00:00                        3.288089   \n",
       "\n",
       "                     Well F179 Lower 95% Confidence Interval  \\\n",
       "DateHour                                                       \n",
       "2007-10-01 01:00:00                                      NaN   \n",
       "2007-10-01 02:00:00                                      NaN   \n",
       "2007-10-01 03:00:00                                      NaN   \n",
       "2007-10-01 04:00:00                                      NaN   \n",
       "2007-10-01 05:00:00                                 3.277932   \n",
       "\n",
       "                     Well F179 Upper 95% Confidence Interval  \n",
       "DateHour                                                      \n",
       "2007-10-01 01:00:00                                      NaN  \n",
       "2007-10-01 02:00:00                                      NaN  \n",
       "2007-10-01 03:00:00                                      NaN  \n",
       "2007-10-01 04:00:00                                      NaN  \n",
       "2007-10-01 05:00:00                                 3.298246  "
      ]
     },
     "execution_count": 1512,
     "metadata": {},
     "output_type": "execute_result"
    }
   ],
   "source": [
    "pred = pd.read_sas(\"C:/Users/Christopher/Documents/GitHub/Fall2_Homework/data/Well Data_Split/final_wells/\" + str(well) + \"_all_pred.sas7bdat\")\n",
    "full = pd.read_csv(\"C:/Users/Christopher/Documents/GitHub/Fall2_Homework/data/Well Data_Split/final_wells/\" + str(well) + \"_ALL.csv\", index_col='DateHour')\n",
    "pred.set_index(full.index, inplace=True)\n",
    "\n",
    "full[well_name + \" Well Level\"] = full.Well_ft\n",
    "full[well_name + \" Tide Level\"] = full.Tide_ft\n",
    "full[well_name + \" Rain Level\"] = full.Rain_ft\n",
    "full[well_name + \" Predicted Well Level\"] = pred['FORECAST']\n",
    "full[well_name + \" Lower 95% Confidence Interval\"] = pred.L95\n",
    "full[well_name + \" Upper 95% Confidence Interval\"] = pred.U95\n",
    "\n",
    "full.head()"
   ]
  },
  {
   "cell_type": "code",
   "execution_count": 1513,
   "metadata": {},
   "outputs": [],
   "source": [
    "#full = full.iloc[:, 3:]\n",
    "full.to_csv(\"C:/Users/Christopher/Documents/GitHub/Fall2_Homework/data/Well Data_Split/final_wells/\" + str(well) + \"_FINAL.csv\", index=True)"
   ]
  },
  {
   "cell_type": "markdown",
   "metadata": {},
   "source": [
    "# Aggregate all data"
   ]
  },
  {
   "cell_type": "code",
   "execution_count": 1514,
   "metadata": {},
   "outputs": [
    {
     "name": "stdout",
     "output_type": "stream",
     "text": [
      "F179_ALL.csv\n",
      "['F179_FINAL.csv', 'F319_FINAL.csv', 'F45_FINAL.csv', 'G1220_FINAL.csv', 'G1260_FINAL.csv', 'G2147_FINAL.csv', 'G2866_FINAL.csv', 'G3549_FINAL.csv', 'G561_FINAL.csv', 'G580A_FINAL.csv', 'G860_FINAL.csv', 'PB1680_FINAL.csv']\n"
     ]
    }
   ],
   "source": [
    "import os\n",
    "import glob\n",
    "import pandas\n",
    "\n",
    "path = 'C:/Users/Christopher/Documents/GitHub/Fall2_Homework/data/Well Data_Split/final_wells/'\n",
    "extension = 'csv'\n",
    "os.chdir(path)\n",
    "result = [i for i in glob.glob('*.{}'.format(extension))]\n",
    "\n",
    "term = result[1]\n",
    "print(term)\n",
    "result = [i for i in result if i[(len(i)-9):len(i)] == \"FINAL.csv\"]\n",
    "print(result)"
   ]
  },
  {
   "cell_type": "code",
   "execution_count": 1519,
   "metadata": {},
   "outputs": [
    {
     "data": {
      "text/html": [
       "<div>\n",
       "<style scoped>\n",
       "    .dataframe tbody tr th:only-of-type {\n",
       "        vertical-align: middle;\n",
       "    }\n",
       "\n",
       "    .dataframe tbody tr th {\n",
       "        vertical-align: top;\n",
       "    }\n",
       "\n",
       "    .dataframe thead th {\n",
       "        text-align: right;\n",
       "    }\n",
       "</style>\n",
       "<table border=\"1\" class=\"dataframe\">\n",
       "  <thead>\n",
       "    <tr style=\"text-align: right;\">\n",
       "      <th></th>\n",
       "      <th>Rain Level</th>\n",
       "      <th>Well Level</th>\n",
       "      <th>Predicted Well Level</th>\n",
       "    </tr>\n",
       "  </thead>\n",
       "  <tbody>\n",
       "    <tr>\n",
       "      <th>87182</th>\n",
       "      <td>0.00125</td>\n",
       "      <td>4.92</td>\n",
       "      <td>2.680768</td>\n",
       "    </tr>\n",
       "  </tbody>\n",
       "</table>\n",
       "</div>"
      ],
      "text/plain": [
       "       Rain Level  Well Level  Predicted Well Level\n",
       "87182     0.00125        4.92              2.680768"
      ]
     },
     "execution_count": 1519,
     "metadata": {},
     "output_type": "execute_result"
    }
   ],
   "source": [
    "df.loc[df['DateHour'] == '2017-09-10 15:00:00', ['Rain Level', 'Well Level', 'Predicted Well Level']]"
   ]
  },
  {
   "cell_type": "code",
   "execution_count": 1525,
   "metadata": {},
   "outputs": [
    {
     "ename": "IndexError",
     "evalue": "single positional indexer is out-of-bounds",
     "output_type": "error",
     "traceback": [
      "\u001b[1;31m---------------------------------------------------------------------------\u001b[0m",
      "\u001b[1;31mIndexError\u001b[0m                                Traceback (most recent call last)",
      "\u001b[1;32m<ipython-input-1525-babb61921133>\u001b[0m in \u001b[0;36m<module>\u001b[1;34m()\u001b[0m\n\u001b[0;32m      7\u001b[0m     \u001b[1;34m'Tide Level'\u001b[0m\u001b[1;33m:\u001b[0m \u001b[0mwell\u001b[0m\u001b[1;33m.\u001b[0m\u001b[0miloc\u001b[0m\u001b[1;33m[\u001b[0m\u001b[1;33m:\u001b[0m\u001b[1;33m,\u001b[0m \u001b[1;36m2\u001b[0m\u001b[1;33m]\u001b[0m\u001b[1;33m,\u001b[0m\u001b[1;33m\u001b[0m\u001b[0m\n\u001b[0;32m      8\u001b[0m     \u001b[1;34m'Rain Level'\u001b[0m\u001b[1;33m:\u001b[0m \u001b[0mwell\u001b[0m\u001b[1;33m.\u001b[0m\u001b[0miloc\u001b[0m\u001b[1;33m[\u001b[0m\u001b[1;33m:\u001b[0m\u001b[1;33m,\u001b[0m \u001b[1;36m3\u001b[0m\u001b[1;33m]\u001b[0m\u001b[1;33m,\u001b[0m\u001b[1;33m\u001b[0m\u001b[0m\n\u001b[1;32m----> 9\u001b[1;33m     \u001b[1;34m'Predicted Well Level'\u001b[0m\u001b[1;33m:\u001b[0m \u001b[0mwell\u001b[0m\u001b[1;33m.\u001b[0m\u001b[0miloc\u001b[0m\u001b[1;33m[\u001b[0m\u001b[1;33m:\u001b[0m\u001b[1;33m,\u001b[0m\u001b[1;36m7\u001b[0m\u001b[1;33m]\u001b[0m\u001b[1;33m,\u001b[0m\u001b[1;33m\u001b[0m\u001b[0m\n\u001b[0m\u001b[0;32m     10\u001b[0m     \u001b[1;34m'Well Name'\u001b[0m\u001b[1;33m:\u001b[0m \u001b[0mpd\u001b[0m\u001b[1;33m.\u001b[0m\u001b[0mSeries\u001b[0m\u001b[1;33m(\u001b[0m\u001b[1;33m[\u001b[0m\u001b[0mresult\u001b[0m\u001b[1;33m[\u001b[0m\u001b[0mi\u001b[0m\u001b[1;33m]\u001b[0m\u001b[1;33m[\u001b[0m\u001b[1;33m:\u001b[0m\u001b[0mlen\u001b[0m\u001b[1;33m(\u001b[0m\u001b[0mresult\u001b[0m\u001b[1;33m[\u001b[0m\u001b[0mi\u001b[0m\u001b[1;33m]\u001b[0m\u001b[1;33m)\u001b[0m\u001b[1;33m-\u001b[0m\u001b[1;36m10\u001b[0m\u001b[1;33m]\u001b[0m \u001b[1;32mfor\u001b[0m \u001b[0mname\u001b[0m \u001b[1;32min\u001b[0m \u001b[0mrange\u001b[0m\u001b[1;33m(\u001b[0m\u001b[0mlen\u001b[0m\u001b[1;33m(\u001b[0m\u001b[0mwell\u001b[0m\u001b[1;33m)\u001b[0m\u001b[1;33m)\u001b[0m\u001b[1;33m]\u001b[0m\u001b[1;33m)\u001b[0m\u001b[1;33m\u001b[0m\u001b[0m\n\u001b[0;32m     11\u001b[0m }\n",
      "\u001b[1;32m~\\Anaconda3\\lib\\site-packages\\pandas\\core\\indexing.py\u001b[0m in \u001b[0;36m__getitem__\u001b[1;34m(self, key)\u001b[0m\n\u001b[0;32m   1365\u001b[0m             \u001b[1;32mexcept\u001b[0m \u001b[1;33m(\u001b[0m\u001b[0mKeyError\u001b[0m\u001b[1;33m,\u001b[0m \u001b[0mIndexError\u001b[0m\u001b[1;33m)\u001b[0m\u001b[1;33m:\u001b[0m\u001b[1;33m\u001b[0m\u001b[0m\n\u001b[0;32m   1366\u001b[0m                 \u001b[1;32mpass\u001b[0m\u001b[1;33m\u001b[0m\u001b[0m\n\u001b[1;32m-> 1367\u001b[1;33m             \u001b[1;32mreturn\u001b[0m \u001b[0mself\u001b[0m\u001b[1;33m.\u001b[0m\u001b[0m_getitem_tuple\u001b[0m\u001b[1;33m(\u001b[0m\u001b[0mkey\u001b[0m\u001b[1;33m)\u001b[0m\u001b[1;33m\u001b[0m\u001b[0m\n\u001b[0m\u001b[0;32m   1368\u001b[0m         \u001b[1;32melse\u001b[0m\u001b[1;33m:\u001b[0m\u001b[1;33m\u001b[0m\u001b[0m\n\u001b[0;32m   1369\u001b[0m             \u001b[1;31m# we by definition only have the 0th axis\u001b[0m\u001b[1;33m\u001b[0m\u001b[1;33m\u001b[0m\u001b[0m\n",
      "\u001b[1;32m~\\Anaconda3\\lib\\site-packages\\pandas\\core\\indexing.py\u001b[0m in \u001b[0;36m_getitem_tuple\u001b[1;34m(self, tup)\u001b[0m\n\u001b[0;32m   1735\u001b[0m     \u001b[1;32mdef\u001b[0m \u001b[0m_getitem_tuple\u001b[0m\u001b[1;33m(\u001b[0m\u001b[0mself\u001b[0m\u001b[1;33m,\u001b[0m \u001b[0mtup\u001b[0m\u001b[1;33m)\u001b[0m\u001b[1;33m:\u001b[0m\u001b[1;33m\u001b[0m\u001b[0m\n\u001b[0;32m   1736\u001b[0m \u001b[1;33m\u001b[0m\u001b[0m\n\u001b[1;32m-> 1737\u001b[1;33m         \u001b[0mself\u001b[0m\u001b[1;33m.\u001b[0m\u001b[0m_has_valid_tuple\u001b[0m\u001b[1;33m(\u001b[0m\u001b[0mtup\u001b[0m\u001b[1;33m)\u001b[0m\u001b[1;33m\u001b[0m\u001b[0m\n\u001b[0m\u001b[0;32m   1738\u001b[0m         \u001b[1;32mtry\u001b[0m\u001b[1;33m:\u001b[0m\u001b[1;33m\u001b[0m\u001b[0m\n\u001b[0;32m   1739\u001b[0m             \u001b[1;32mreturn\u001b[0m \u001b[0mself\u001b[0m\u001b[1;33m.\u001b[0m\u001b[0m_getitem_lowerdim\u001b[0m\u001b[1;33m(\u001b[0m\u001b[0mtup\u001b[0m\u001b[1;33m)\u001b[0m\u001b[1;33m\u001b[0m\u001b[0m\n",
      "\u001b[1;32m~\\Anaconda3\\lib\\site-packages\\pandas\\core\\indexing.py\u001b[0m in \u001b[0;36m_has_valid_tuple\u001b[1;34m(self, key)\u001b[0m\n\u001b[0;32m    202\u001b[0m             \u001b[1;32mif\u001b[0m \u001b[0mi\u001b[0m \u001b[1;33m>=\u001b[0m \u001b[0mself\u001b[0m\u001b[1;33m.\u001b[0m\u001b[0mobj\u001b[0m\u001b[1;33m.\u001b[0m\u001b[0mndim\u001b[0m\u001b[1;33m:\u001b[0m\u001b[1;33m\u001b[0m\u001b[0m\n\u001b[0;32m    203\u001b[0m                 \u001b[1;32mraise\u001b[0m \u001b[0mIndexingError\u001b[0m\u001b[1;33m(\u001b[0m\u001b[1;34m'Too many indexers'\u001b[0m\u001b[1;33m)\u001b[0m\u001b[1;33m\u001b[0m\u001b[0m\n\u001b[1;32m--> 204\u001b[1;33m             \u001b[1;32mif\u001b[0m \u001b[1;32mnot\u001b[0m \u001b[0mself\u001b[0m\u001b[1;33m.\u001b[0m\u001b[0m_has_valid_type\u001b[0m\u001b[1;33m(\u001b[0m\u001b[0mk\u001b[0m\u001b[1;33m,\u001b[0m \u001b[0mi\u001b[0m\u001b[1;33m)\u001b[0m\u001b[1;33m:\u001b[0m\u001b[1;33m\u001b[0m\u001b[0m\n\u001b[0m\u001b[0;32m    205\u001b[0m                 raise ValueError(\"Location based indexing can only have \"\n\u001b[0;32m    206\u001b[0m                                  \u001b[1;34m\"[{types}] types\"\u001b[0m\u001b[1;33m\u001b[0m\u001b[0m\n",
      "\u001b[1;32m~\\Anaconda3\\lib\\site-packages\\pandas\\core\\indexing.py\u001b[0m in \u001b[0;36m_has_valid_type\u001b[1;34m(self, key, axis)\u001b[0m\n\u001b[0;32m   1670\u001b[0m             \u001b[1;32mreturn\u001b[0m \u001b[1;32mTrue\u001b[0m\u001b[1;33m\u001b[0m\u001b[0m\n\u001b[0;32m   1671\u001b[0m         \u001b[1;32melif\u001b[0m \u001b[0mis_integer\u001b[0m\u001b[1;33m(\u001b[0m\u001b[0mkey\u001b[0m\u001b[1;33m)\u001b[0m\u001b[1;33m:\u001b[0m\u001b[1;33m\u001b[0m\u001b[0m\n\u001b[1;32m-> 1672\u001b[1;33m             \u001b[1;32mreturn\u001b[0m \u001b[0mself\u001b[0m\u001b[1;33m.\u001b[0m\u001b[0m_is_valid_integer\u001b[0m\u001b[1;33m(\u001b[0m\u001b[0mkey\u001b[0m\u001b[1;33m,\u001b[0m \u001b[0maxis\u001b[0m\u001b[1;33m)\u001b[0m\u001b[1;33m\u001b[0m\u001b[0m\n\u001b[0m\u001b[0;32m   1673\u001b[0m         \u001b[1;32melif\u001b[0m \u001b[0mis_list_like_indexer\u001b[0m\u001b[1;33m(\u001b[0m\u001b[0mkey\u001b[0m\u001b[1;33m)\u001b[0m\u001b[1;33m:\u001b[0m\u001b[1;33m\u001b[0m\u001b[0m\n\u001b[0;32m   1674\u001b[0m             \u001b[1;32mreturn\u001b[0m \u001b[0mself\u001b[0m\u001b[1;33m.\u001b[0m\u001b[0m_is_valid_list_like\u001b[0m\u001b[1;33m(\u001b[0m\u001b[0mkey\u001b[0m\u001b[1;33m,\u001b[0m \u001b[0maxis\u001b[0m\u001b[1;33m)\u001b[0m\u001b[1;33m\u001b[0m\u001b[0m\n",
      "\u001b[1;32m~\\Anaconda3\\lib\\site-packages\\pandas\\core\\indexing.py\u001b[0m in \u001b[0;36m_is_valid_integer\u001b[1;34m(self, key, axis)\u001b[0m\n\u001b[0;32m   1711\u001b[0m         \u001b[0ml\u001b[0m \u001b[1;33m=\u001b[0m \u001b[0mlen\u001b[0m\u001b[1;33m(\u001b[0m\u001b[0max\u001b[0m\u001b[1;33m)\u001b[0m\u001b[1;33m\u001b[0m\u001b[0m\n\u001b[0;32m   1712\u001b[0m         \u001b[1;32mif\u001b[0m \u001b[0mkey\u001b[0m \u001b[1;33m>=\u001b[0m \u001b[0ml\u001b[0m \u001b[1;32mor\u001b[0m \u001b[0mkey\u001b[0m \u001b[1;33m<\u001b[0m \u001b[1;33m-\u001b[0m\u001b[0ml\u001b[0m\u001b[1;33m:\u001b[0m\u001b[1;33m\u001b[0m\u001b[0m\n\u001b[1;32m-> 1713\u001b[1;33m             \u001b[1;32mraise\u001b[0m \u001b[0mIndexError\u001b[0m\u001b[1;33m(\u001b[0m\u001b[1;34m\"single positional indexer is out-of-bounds\"\u001b[0m\u001b[1;33m)\u001b[0m\u001b[1;33m\u001b[0m\u001b[0m\n\u001b[0m\u001b[0;32m   1714\u001b[0m         \u001b[1;32mreturn\u001b[0m \u001b[1;32mTrue\u001b[0m\u001b[1;33m\u001b[0m\u001b[0m\n\u001b[0;32m   1715\u001b[0m \u001b[1;33m\u001b[0m\u001b[0m\n",
      "\u001b[1;31mIndexError\u001b[0m: single positional indexer is out-of-bounds"
     ]
    }
   ],
   "source": [
    "i=4\n",
    "well = pd.read_csv(path + result[i])\n",
    "\n",
    "new_df = {\n",
    "    'DateHour': well.iloc[:, 0],\n",
    "    'Well Level': well.iloc[:, 1],\n",
    "    'Tide Level': well.iloc[:, 2],\n",
    "    'Rain Level': well.iloc[:, 3]/12,\n",
    "    'Predicted Well Level': well.iloc[:,4],\n",
    "    'Well Name': pd.Series([result[i][:len(result[i])-10] for name in range(len(well))])\n",
    "}\n",
    "#print(well.head())\n",
    "#df = pd.DataFrame(new_df)\n",
    "\n",
    "df = df.append(pd.DataFrame(new_df))\n",
    "print(df.tail())\n",
    "print(len(df))"
   ]
  },
  {
   "cell_type": "code",
   "execution_count": 1481,
   "metadata": {},
   "outputs": [
    {
     "data": {
      "text/plain": [
       "93683.0"
      ]
     },
     "execution_count": 1481,
     "metadata": {},
     "output_type": "execute_result"
    }
   ],
   "source": [
    "len(df)/12"
   ]
  },
  {
   "cell_type": "code",
   "execution_count": 1318,
   "metadata": {
    "scrolled": true
   },
   "outputs": [
    {
     "data": {
      "text/plain": [
       "array(['F179', 'F319', 'F45', 'G1220', 'G1260', 'G2147', 'G2866', 'G3549',\n",
       "       'G561', 'G580A', 'G860', 'PB1680'], dtype=object)"
      ]
     },
     "execution_count": 1318,
     "metadata": {},
     "output_type": "execute_result"
    }
   ],
   "source": [
    "df['Well Name'].unique()"
   ]
  },
  {
   "cell_type": "code",
   "execution_count": 1454,
   "metadata": {},
   "outputs": [
    {
     "data": {
      "text/plain": [
       "0.105828"
      ]
     },
     "execution_count": 1454,
     "metadata": {},
     "output_type": "execute_result"
    }
   ],
   "source": [
    "0.008819*12"
   ]
  },
  {
   "cell_type": "code",
   "execution_count": 1453,
   "metadata": {},
   "outputs": [
    {
     "data": {
      "text/html": [
       "<div>\n",
       "<style scoped>\n",
       "    .dataframe tbody tr th:only-of-type {\n",
       "        vertical-align: middle;\n",
       "    }\n",
       "\n",
       "    .dataframe tbody tr th {\n",
       "        vertical-align: top;\n",
       "    }\n",
       "\n",
       "    .dataframe thead th {\n",
       "        text-align: right;\n",
       "    }\n",
       "</style>\n",
       "<table border=\"1\" class=\"dataframe\">\n",
       "  <thead>\n",
       "    <tr style=\"text-align: right;\">\n",
       "      <th></th>\n",
       "      <th>DateHour</th>\n",
       "      <th>Predicted Well Level</th>\n",
       "      <th>Rain Level</th>\n",
       "      <th>Tide Level</th>\n",
       "      <th>Well Level</th>\n",
       "      <th>Well Name</th>\n",
       "    </tr>\n",
       "    <tr>\n",
       "      <th>DateHour</th>\n",
       "      <th></th>\n",
       "      <th></th>\n",
       "      <th></th>\n",
       "      <th></th>\n",
       "      <th></th>\n",
       "      <th></th>\n",
       "    </tr>\n",
       "  </thead>\n",
       "  <tbody>\n",
       "    <tr>\n",
       "      <th>2008-07-08</th>\n",
       "      <td>2008-07-08 00:00:00</td>\n",
       "      <td>2.409600</td>\n",
       "      <td>0.000000</td>\n",
       "      <td>0.194</td>\n",
       "      <td>2.420</td>\n",
       "      <td>F179</td>\n",
       "    </tr>\n",
       "    <tr>\n",
       "      <th>2008-07-08</th>\n",
       "      <td>2008-07-08 00:00:00</td>\n",
       "      <td>2.552621</td>\n",
       "      <td>0.000000</td>\n",
       "      <td>0.194</td>\n",
       "      <td>2.540</td>\n",
       "      <td>F319</td>\n",
       "    </tr>\n",
       "    <tr>\n",
       "      <th>2008-07-08</th>\n",
       "      <td>2008-07-08 00:00:00</td>\n",
       "      <td>2.384075</td>\n",
       "      <td>0.000000</td>\n",
       "      <td>-1.212</td>\n",
       "      <td>2.390</td>\n",
       "      <td>F45</td>\n",
       "    </tr>\n",
       "    <tr>\n",
       "      <th>2008-07-08</th>\n",
       "      <td>2008-07-08 00:00:00</td>\n",
       "      <td>1.518461</td>\n",
       "      <td>0.000000</td>\n",
       "      <td>0.307</td>\n",
       "      <td>1.520</td>\n",
       "      <td>G1220</td>\n",
       "    </tr>\n",
       "    <tr>\n",
       "      <th>2008-07-08</th>\n",
       "      <td>2008-07-08 00:00:00</td>\n",
       "      <td>3.793960</td>\n",
       "      <td>0.105833</td>\n",
       "      <td>-0.976</td>\n",
       "      <td>3.792</td>\n",
       "      <td>G1260</td>\n",
       "    </tr>\n",
       "    <tr>\n",
       "      <th>2008-07-08</th>\n",
       "      <td>2008-07-08 00:00:00</td>\n",
       "      <td>4.256672</td>\n",
       "      <td>0.020208</td>\n",
       "      <td>0.126</td>\n",
       "      <td>4.210</td>\n",
       "      <td>G2147</td>\n",
       "    </tr>\n",
       "    <tr>\n",
       "      <th>2008-07-08</th>\n",
       "      <td>2008-07-08 00:00:00</td>\n",
       "      <td>6.277313</td>\n",
       "      <td>0.032292</td>\n",
       "      <td>0.126</td>\n",
       "      <td>6.280</td>\n",
       "      <td>G2866</td>\n",
       "    </tr>\n",
       "    <tr>\n",
       "      <th>2008-07-08</th>\n",
       "      <td>2008-07-08 00:00:00</td>\n",
       "      <td>2.127667</td>\n",
       "      <td>0.000000</td>\n",
       "      <td>-0.436</td>\n",
       "      <td>2.130</td>\n",
       "      <td>G3549</td>\n",
       "    </tr>\n",
       "    <tr>\n",
       "      <th>2008-07-08</th>\n",
       "      <td>2008-07-08 00:00:00</td>\n",
       "      <td>1.952280</td>\n",
       "      <td>0.000000</td>\n",
       "      <td>0.307</td>\n",
       "      <td>1.970</td>\n",
       "      <td>G561</td>\n",
       "    </tr>\n",
       "    <tr>\n",
       "      <th>2008-07-08</th>\n",
       "      <td>2008-07-08 00:00:00</td>\n",
       "      <td>2.864636</td>\n",
       "      <td>0.000000</td>\n",
       "      <td>0.178</td>\n",
       "      <td>2.860</td>\n",
       "      <td>G580A</td>\n",
       "    </tr>\n",
       "    <tr>\n",
       "      <th>2008-07-08</th>\n",
       "      <td>2008-07-08 00:00:00</td>\n",
       "      <td>3.100738</td>\n",
       "      <td>0.000000</td>\n",
       "      <td>-1.225</td>\n",
       "      <td>3.100</td>\n",
       "      <td>G860</td>\n",
       "    </tr>\n",
       "    <tr>\n",
       "      <th>2008-07-08</th>\n",
       "      <td>2008-07-08 00:00:00</td>\n",
       "      <td>3.546960</td>\n",
       "      <td>0.002083</td>\n",
       "      <td>-0.976</td>\n",
       "      <td>3.550</td>\n",
       "      <td>PB1680</td>\n",
       "    </tr>\n",
       "  </tbody>\n",
       "</table>\n",
       "</div>"
      ],
      "text/plain": [
       "                       DateHour  Predicted Well Level  Rain Level  Tide Level  \\\n",
       "DateHour                                                                        \n",
       "2008-07-08  2008-07-08 00:00:00              2.409600    0.000000       0.194   \n",
       "2008-07-08  2008-07-08 00:00:00              2.552621    0.000000       0.194   \n",
       "2008-07-08  2008-07-08 00:00:00              2.384075    0.000000      -1.212   \n",
       "2008-07-08  2008-07-08 00:00:00              1.518461    0.000000       0.307   \n",
       "2008-07-08  2008-07-08 00:00:00              3.793960    0.105833      -0.976   \n",
       "2008-07-08  2008-07-08 00:00:00              4.256672    0.020208       0.126   \n",
       "2008-07-08  2008-07-08 00:00:00              6.277313    0.032292       0.126   \n",
       "2008-07-08  2008-07-08 00:00:00              2.127667    0.000000      -0.436   \n",
       "2008-07-08  2008-07-08 00:00:00              1.952280    0.000000       0.307   \n",
       "2008-07-08  2008-07-08 00:00:00              2.864636    0.000000       0.178   \n",
       "2008-07-08  2008-07-08 00:00:00              3.100738    0.000000      -1.225   \n",
       "2008-07-08  2008-07-08 00:00:00              3.546960    0.002083      -0.976   \n",
       "\n",
       "            Well Level Well Name  \n",
       "DateHour                          \n",
       "2008-07-08       2.420      F179  \n",
       "2008-07-08       2.540      F319  \n",
       "2008-07-08       2.390       F45  \n",
       "2008-07-08       1.520     G1220  \n",
       "2008-07-08       3.792     G1260  \n",
       "2008-07-08       4.210     G2147  \n",
       "2008-07-08       6.280     G2866  \n",
       "2008-07-08       2.130     G3549  \n",
       "2008-07-08       1.970      G561  \n",
       "2008-07-08       2.860     G580A  \n",
       "2008-07-08       3.100      G860  \n",
       "2008-07-08       3.550    PB1680  "
      ]
     },
     "execution_count": 1453,
     "metadata": {},
     "output_type": "execute_result"
    }
   ],
   "source": [
    "test['2008 July 8 00:00:00']"
   ]
  },
  {
   "cell_type": "code",
   "execution_count": 1458,
   "metadata": {},
   "outputs": [
    {
     "ename": "ValueError",
     "evalue": "cannot reindex from a duplicate axis",
     "output_type": "error",
     "traceback": [
      "\u001b[1;31m---------------------------------------------------------------------------\u001b[0m",
      "\u001b[1;31mValueError\u001b[0m                                Traceback (most recent call last)",
      "\u001b[1;32m<ipython-input-1458-a0f69bea7d94>\u001b[0m in \u001b[0;36m<module>\u001b[1;34m()\u001b[0m\n\u001b[1;32m----> 1\u001b[1;33m \u001b[0mtest\u001b[0m\u001b[1;33m.\u001b[0m\u001b[0mreindex\u001b[0m\u001b[1;33m(\u001b[0m\u001b[0mrange\u001b[0m\u001b[1;33m(\u001b[0m\u001b[1;36m0\u001b[0m\u001b[1;33m,\u001b[0m \u001b[0mlen\u001b[0m\u001b[1;33m(\u001b[0m\u001b[0mtest\u001b[0m\u001b[1;33m)\u001b[0m\u001b[1;33m)\u001b[0m\u001b[1;33m)\u001b[0m\u001b[1;33m\u001b[0m\u001b[0m\n\u001b[0m",
      "\u001b[1;32m~\\Anaconda3\\lib\\site-packages\\pandas\\util\\_decorators.py\u001b[0m in \u001b[0;36mwrapper\u001b[1;34m(*args, **kwargs)\u001b[0m\n\u001b[0;32m    125\u001b[0m         \u001b[1;33m@\u001b[0m\u001b[0mwraps\u001b[0m\u001b[1;33m(\u001b[0m\u001b[0mfunc\u001b[0m\u001b[1;33m)\u001b[0m\u001b[1;33m\u001b[0m\u001b[0m\n\u001b[0;32m    126\u001b[0m         \u001b[1;32mdef\u001b[0m \u001b[0mwrapper\u001b[0m\u001b[1;33m(\u001b[0m\u001b[1;33m*\u001b[0m\u001b[0margs\u001b[0m\u001b[1;33m,\u001b[0m \u001b[1;33m**\u001b[0m\u001b[0mkwargs\u001b[0m\u001b[1;33m)\u001b[0m\u001b[1;33m:\u001b[0m\u001b[1;33m\u001b[0m\u001b[0m\n\u001b[1;32m--> 127\u001b[1;33m             \u001b[1;32mreturn\u001b[0m \u001b[0mfunc\u001b[0m\u001b[1;33m(\u001b[0m\u001b[1;33m*\u001b[0m\u001b[0margs\u001b[0m\u001b[1;33m,\u001b[0m \u001b[1;33m**\u001b[0m\u001b[0mkwargs\u001b[0m\u001b[1;33m)\u001b[0m\u001b[1;33m\u001b[0m\u001b[0m\n\u001b[0m\u001b[0;32m    128\u001b[0m \u001b[1;33m\u001b[0m\u001b[0m\n\u001b[0;32m    129\u001b[0m         \u001b[1;32mif\u001b[0m \u001b[1;32mnot\u001b[0m \u001b[0mPY2\u001b[0m\u001b[1;33m:\u001b[0m\u001b[1;33m\u001b[0m\u001b[0m\n",
      "\u001b[1;32m~\\Anaconda3\\lib\\site-packages\\pandas\\core\\frame.py\u001b[0m in \u001b[0;36mreindex\u001b[1;34m(self, *args, **kwargs)\u001b[0m\n\u001b[0;32m   2933\u001b[0m         \u001b[0mkwargs\u001b[0m\u001b[1;33m.\u001b[0m\u001b[0mpop\u001b[0m\u001b[1;33m(\u001b[0m\u001b[1;34m'axis'\u001b[0m\u001b[1;33m,\u001b[0m \u001b[1;32mNone\u001b[0m\u001b[1;33m)\u001b[0m\u001b[1;33m\u001b[0m\u001b[0m\n\u001b[0;32m   2934\u001b[0m         \u001b[0mkwargs\u001b[0m\u001b[1;33m.\u001b[0m\u001b[0mpop\u001b[0m\u001b[1;33m(\u001b[0m\u001b[1;34m'labels'\u001b[0m\u001b[1;33m,\u001b[0m \u001b[1;32mNone\u001b[0m\u001b[1;33m)\u001b[0m\u001b[1;33m\u001b[0m\u001b[0m\n\u001b[1;32m-> 2935\u001b[1;33m         \u001b[1;32mreturn\u001b[0m \u001b[0msuper\u001b[0m\u001b[1;33m(\u001b[0m\u001b[0mDataFrame\u001b[0m\u001b[1;33m,\u001b[0m \u001b[0mself\u001b[0m\u001b[1;33m)\u001b[0m\u001b[1;33m.\u001b[0m\u001b[0mreindex\u001b[0m\u001b[1;33m(\u001b[0m\u001b[1;33m**\u001b[0m\u001b[0mkwargs\u001b[0m\u001b[1;33m)\u001b[0m\u001b[1;33m\u001b[0m\u001b[0m\n\u001b[0m\u001b[0;32m   2936\u001b[0m \u001b[1;33m\u001b[0m\u001b[0m\n\u001b[0;32m   2937\u001b[0m     \u001b[1;33m@\u001b[0m\u001b[0mAppender\u001b[0m\u001b[1;33m(\u001b[0m\u001b[0m_shared_docs\u001b[0m\u001b[1;33m[\u001b[0m\u001b[1;34m'reindex_axis'\u001b[0m\u001b[1;33m]\u001b[0m \u001b[1;33m%\u001b[0m \u001b[0m_shared_doc_kwargs\u001b[0m\u001b[1;33m)\u001b[0m\u001b[1;33m\u001b[0m\u001b[0m\n",
      "\u001b[1;32m~\\Anaconda3\\lib\\site-packages\\pandas\\core\\generic.py\u001b[0m in \u001b[0;36mreindex\u001b[1;34m(self, *args, **kwargs)\u001b[0m\n\u001b[0;32m   3021\u001b[0m         \u001b[1;31m# perform the reindex on the axes\u001b[0m\u001b[1;33m\u001b[0m\u001b[1;33m\u001b[0m\u001b[0m\n\u001b[0;32m   3022\u001b[0m         return self._reindex_axes(axes, level, limit, tolerance, method,\n\u001b[1;32m-> 3023\u001b[1;33m                                   fill_value, copy).__finalize__(self)\n\u001b[0m\u001b[0;32m   3024\u001b[0m \u001b[1;33m\u001b[0m\u001b[0m\n\u001b[0;32m   3025\u001b[0m     def _reindex_axes(self, axes, level, limit, tolerance, method, fill_value,\n",
      "\u001b[1;32m~\\Anaconda3\\lib\\site-packages\\pandas\\core\\frame.py\u001b[0m in \u001b[0;36m_reindex_axes\u001b[1;34m(self, axes, level, limit, tolerance, method, fill_value, copy)\u001b[0m\n\u001b[0;32m   2868\u001b[0m         \u001b[1;32mif\u001b[0m \u001b[0mindex\u001b[0m \u001b[1;32mis\u001b[0m \u001b[1;32mnot\u001b[0m \u001b[1;32mNone\u001b[0m\u001b[1;33m:\u001b[0m\u001b[1;33m\u001b[0m\u001b[0m\n\u001b[0;32m   2869\u001b[0m             frame = frame._reindex_index(index, method, copy, level,\n\u001b[1;32m-> 2870\u001b[1;33m                                          fill_value, limit, tolerance)\n\u001b[0m\u001b[0;32m   2871\u001b[0m \u001b[1;33m\u001b[0m\u001b[0m\n\u001b[0;32m   2872\u001b[0m         \u001b[1;32mreturn\u001b[0m \u001b[0mframe\u001b[0m\u001b[1;33m\u001b[0m\u001b[0m\n",
      "\u001b[1;32m~\\Anaconda3\\lib\\site-packages\\pandas\\core\\frame.py\u001b[0m in \u001b[0;36m_reindex_index\u001b[1;34m(self, new_index, method, copy, level, fill_value, limit, tolerance)\u001b[0m\n\u001b[0;32m   2879\u001b[0m         return self._reindex_with_indexers({0: [new_index, indexer]},\n\u001b[0;32m   2880\u001b[0m                                            \u001b[0mcopy\u001b[0m\u001b[1;33m=\u001b[0m\u001b[0mcopy\u001b[0m\u001b[1;33m,\u001b[0m \u001b[0mfill_value\u001b[0m\u001b[1;33m=\u001b[0m\u001b[0mfill_value\u001b[0m\u001b[1;33m,\u001b[0m\u001b[1;33m\u001b[0m\u001b[0m\n\u001b[1;32m-> 2881\u001b[1;33m                                            allow_dups=False)\n\u001b[0m\u001b[0;32m   2882\u001b[0m \u001b[1;33m\u001b[0m\u001b[0m\n\u001b[0;32m   2883\u001b[0m     def _reindex_columns(self, new_columns, method, copy, level,\n",
      "\u001b[1;32m~\\Anaconda3\\lib\\site-packages\\pandas\\core\\generic.py\u001b[0m in \u001b[0;36m_reindex_with_indexers\u001b[1;34m(self, reindexers, fill_value, copy, allow_dups)\u001b[0m\n\u001b[0;32m   3143\u001b[0m                                                 \u001b[0mfill_value\u001b[0m\u001b[1;33m=\u001b[0m\u001b[0mfill_value\u001b[0m\u001b[1;33m,\u001b[0m\u001b[1;33m\u001b[0m\u001b[0m\n\u001b[0;32m   3144\u001b[0m                                                 \u001b[0mallow_dups\u001b[0m\u001b[1;33m=\u001b[0m\u001b[0mallow_dups\u001b[0m\u001b[1;33m,\u001b[0m\u001b[1;33m\u001b[0m\u001b[0m\n\u001b[1;32m-> 3145\u001b[1;33m                                                 copy=copy)\n\u001b[0m\u001b[0;32m   3146\u001b[0m \u001b[1;33m\u001b[0m\u001b[0m\n\u001b[0;32m   3147\u001b[0m         \u001b[1;32mif\u001b[0m \u001b[0mcopy\u001b[0m \u001b[1;32mand\u001b[0m \u001b[0mnew_data\u001b[0m \u001b[1;32mis\u001b[0m \u001b[0mself\u001b[0m\u001b[1;33m.\u001b[0m\u001b[0m_data\u001b[0m\u001b[1;33m:\u001b[0m\u001b[1;33m\u001b[0m\u001b[0m\n",
      "\u001b[1;32m~\\Anaconda3\\lib\\site-packages\\pandas\\core\\internals.py\u001b[0m in \u001b[0;36mreindex_indexer\u001b[1;34m(self, new_axis, indexer, axis, fill_value, allow_dups, copy)\u001b[0m\n\u001b[0;32m   4137\u001b[0m         \u001b[1;31m# some axes don't allow reindexing with dups\u001b[0m\u001b[1;33m\u001b[0m\u001b[1;33m\u001b[0m\u001b[0m\n\u001b[0;32m   4138\u001b[0m         \u001b[1;32mif\u001b[0m \u001b[1;32mnot\u001b[0m \u001b[0mallow_dups\u001b[0m\u001b[1;33m:\u001b[0m\u001b[1;33m\u001b[0m\u001b[0m\n\u001b[1;32m-> 4139\u001b[1;33m             \u001b[0mself\u001b[0m\u001b[1;33m.\u001b[0m\u001b[0maxes\u001b[0m\u001b[1;33m[\u001b[0m\u001b[0maxis\u001b[0m\u001b[1;33m]\u001b[0m\u001b[1;33m.\u001b[0m\u001b[0m_can_reindex\u001b[0m\u001b[1;33m(\u001b[0m\u001b[0mindexer\u001b[0m\u001b[1;33m)\u001b[0m\u001b[1;33m\u001b[0m\u001b[0m\n\u001b[0m\u001b[0;32m   4140\u001b[0m \u001b[1;33m\u001b[0m\u001b[0m\n\u001b[0;32m   4141\u001b[0m         \u001b[1;32mif\u001b[0m \u001b[0maxis\u001b[0m \u001b[1;33m>=\u001b[0m \u001b[0mself\u001b[0m\u001b[1;33m.\u001b[0m\u001b[0mndim\u001b[0m\u001b[1;33m:\u001b[0m\u001b[1;33m\u001b[0m\u001b[0m\n",
      "\u001b[1;32m~\\Anaconda3\\lib\\site-packages\\pandas\\core\\indexes\\base.py\u001b[0m in \u001b[0;36m_can_reindex\u001b[1;34m(self, indexer)\u001b[0m\n\u001b[0;32m   2942\u001b[0m         \u001b[1;31m# trying to reindex on an axis with duplicates\u001b[0m\u001b[1;33m\u001b[0m\u001b[1;33m\u001b[0m\u001b[0m\n\u001b[0;32m   2943\u001b[0m         \u001b[1;32mif\u001b[0m \u001b[1;32mnot\u001b[0m \u001b[0mself\u001b[0m\u001b[1;33m.\u001b[0m\u001b[0mis_unique\u001b[0m \u001b[1;32mand\u001b[0m \u001b[0mlen\u001b[0m\u001b[1;33m(\u001b[0m\u001b[0mindexer\u001b[0m\u001b[1;33m)\u001b[0m\u001b[1;33m:\u001b[0m\u001b[1;33m\u001b[0m\u001b[0m\n\u001b[1;32m-> 2944\u001b[1;33m             \u001b[1;32mraise\u001b[0m \u001b[0mValueError\u001b[0m\u001b[1;33m(\u001b[0m\u001b[1;34m\"cannot reindex from a duplicate axis\"\u001b[0m\u001b[1;33m)\u001b[0m\u001b[1;33m\u001b[0m\u001b[0m\n\u001b[0m\u001b[0;32m   2945\u001b[0m \u001b[1;33m\u001b[0m\u001b[0m\n\u001b[0;32m   2946\u001b[0m     def reindex(self, target, method=None, level=None, limit=None,\n",
      "\u001b[1;31mValueError\u001b[0m: cannot reindex from a duplicate axis"
     ]
    }
   ],
   "source": []
  },
  {
   "cell_type": "code",
   "execution_count": 1452,
   "metadata": {},
   "outputs": [],
   "source": [
    "test = df.set_index(pd.DatetimeIndex(df['DateHour']))\n",
    "test.loc[test['Well Name'] == 'G1260', 'Rain Level'] *= 12"
   ]
  },
  {
   "cell_type": "code",
   "execution_count": 1461,
   "metadata": {},
   "outputs": [],
   "source": [
    "df.loc[df['Well Name'] == 'G1260', 'Rain Level'] = test.loc[test['Well Name'] == 'G1260', 'Rain Level']"
   ]
  },
  {
   "cell_type": "code",
   "execution_count": 1456,
   "metadata": {},
   "outputs": [
    {
     "ename": "ValueError",
     "evalue": "Can only compare identically-labeled DataFrame objects",
     "output_type": "error",
     "traceback": [
      "\u001b[1;31m---------------------------------------------------------------------------\u001b[0m",
      "\u001b[1;31mValueError\u001b[0m                                Traceback (most recent call last)",
      "\u001b[1;32m<ipython-input-1456-ed2f2d2b596c>\u001b[0m in \u001b[0;36m<module>\u001b[1;34m()\u001b[0m\n\u001b[1;32m----> 1\u001b[1;33m \u001b[0msum\u001b[0m\u001b[1;33m(\u001b[0m\u001b[0mdf\u001b[0m\u001b[1;33m[\u001b[0m\u001b[1;33m[\u001b[0m\u001b[1;34m'Rain Level'\u001b[0m\u001b[1;33m]\u001b[0m\u001b[1;33m]\u001b[0m \u001b[1;33m==\u001b[0m \u001b[0mtest\u001b[0m\u001b[1;33m[\u001b[0m\u001b[1;33m[\u001b[0m\u001b[1;34m'Rain Level'\u001b[0m\u001b[1;33m]\u001b[0m\u001b[1;33m]\u001b[0m\u001b[1;33m)\u001b[0m\u001b[1;33m\u001b[0m\u001b[0m\n\u001b[0m",
      "\u001b[1;32m~\\Anaconda3\\lib\\site-packages\\pandas\\core\\ops.py\u001b[0m in \u001b[0;36mf\u001b[1;34m(self, other)\u001b[0m\n\u001b[0;32m   1324\u001b[0m     \u001b[1;32mdef\u001b[0m \u001b[0mf\u001b[0m\u001b[1;33m(\u001b[0m\u001b[0mself\u001b[0m\u001b[1;33m,\u001b[0m \u001b[0mother\u001b[0m\u001b[1;33m)\u001b[0m\u001b[1;33m:\u001b[0m\u001b[1;33m\u001b[0m\u001b[0m\n\u001b[0;32m   1325\u001b[0m         \u001b[1;32mif\u001b[0m \u001b[0misinstance\u001b[0m\u001b[1;33m(\u001b[0m\u001b[0mother\u001b[0m\u001b[1;33m,\u001b[0m \u001b[0mABCDataFrame\u001b[0m\u001b[1;33m)\u001b[0m\u001b[1;33m:\u001b[0m  \u001b[1;31m# Another DataFrame\u001b[0m\u001b[1;33m\u001b[0m\u001b[0m\n\u001b[1;32m-> 1326\u001b[1;33m             \u001b[1;32mreturn\u001b[0m \u001b[0mself\u001b[0m\u001b[1;33m.\u001b[0m\u001b[0m_compare_frame\u001b[0m\u001b[1;33m(\u001b[0m\u001b[0mother\u001b[0m\u001b[1;33m,\u001b[0m \u001b[0mfunc\u001b[0m\u001b[1;33m,\u001b[0m \u001b[0mstr_rep\u001b[0m\u001b[1;33m)\u001b[0m\u001b[1;33m\u001b[0m\u001b[0m\n\u001b[0m\u001b[0;32m   1327\u001b[0m         \u001b[1;32melif\u001b[0m \u001b[0misinstance\u001b[0m\u001b[1;33m(\u001b[0m\u001b[0mother\u001b[0m\u001b[1;33m,\u001b[0m \u001b[0mABCSeries\u001b[0m\u001b[1;33m)\u001b[0m\u001b[1;33m:\u001b[0m\u001b[1;33m\u001b[0m\u001b[0m\n\u001b[0;32m   1328\u001b[0m             \u001b[1;32mreturn\u001b[0m \u001b[0mself\u001b[0m\u001b[1;33m.\u001b[0m\u001b[0m_combine_series_infer\u001b[0m\u001b[1;33m(\u001b[0m\u001b[0mother\u001b[0m\u001b[1;33m,\u001b[0m \u001b[0mfunc\u001b[0m\u001b[1;33m,\u001b[0m \u001b[0mtry_cast\u001b[0m\u001b[1;33m=\u001b[0m\u001b[1;32mFalse\u001b[0m\u001b[1;33m)\u001b[0m\u001b[1;33m\u001b[0m\u001b[0m\n",
      "\u001b[1;32m~\\Anaconda3\\lib\\site-packages\\pandas\\core\\frame.py\u001b[0m in \u001b[0;36m_compare_frame\u001b[1;34m(self, other, func, str_rep, try_cast)\u001b[0m\n\u001b[0;32m   4015\u001b[0m     \u001b[1;32mdef\u001b[0m \u001b[0m_compare_frame\u001b[0m\u001b[1;33m(\u001b[0m\u001b[0mself\u001b[0m\u001b[1;33m,\u001b[0m \u001b[0mother\u001b[0m\u001b[1;33m,\u001b[0m \u001b[0mfunc\u001b[0m\u001b[1;33m,\u001b[0m \u001b[0mstr_rep\u001b[0m\u001b[1;33m,\u001b[0m \u001b[0mtry_cast\u001b[0m\u001b[1;33m=\u001b[0m\u001b[1;32mTrue\u001b[0m\u001b[1;33m)\u001b[0m\u001b[1;33m:\u001b[0m\u001b[1;33m\u001b[0m\u001b[0m\n\u001b[0;32m   4016\u001b[0m         \u001b[1;32mif\u001b[0m \u001b[1;32mnot\u001b[0m \u001b[0mself\u001b[0m\u001b[1;33m.\u001b[0m\u001b[0m_indexed_same\u001b[0m\u001b[1;33m(\u001b[0m\u001b[0mother\u001b[0m\u001b[1;33m)\u001b[0m\u001b[1;33m:\u001b[0m\u001b[1;33m\u001b[0m\u001b[0m\n\u001b[1;32m-> 4017\u001b[1;33m             raise ValueError('Can only compare identically-labeled '\n\u001b[0m\u001b[0;32m   4018\u001b[0m                              'DataFrame objects')\n\u001b[0;32m   4019\u001b[0m         return self._compare_frame_evaluate(other, func, str_rep,\n",
      "\u001b[1;31mValueError\u001b[0m: Can only compare identically-labeled DataFrame objects"
     ]
    }
   ],
   "source": [
    "sum(df[['Rain Level']] == test[['Rain Level']])"
   ]
  },
  {
   "cell_type": "code",
   "execution_count": 1464,
   "metadata": {},
   "outputs": [
    {
     "data": {
      "text/plain": [
       "93683.0"
      ]
     },
     "execution_count": 1464,
     "metadata": {},
     "output_type": "execute_result"
    }
   ],
   "source": []
  },
  {
   "cell_type": "code",
   "execution_count": 1482,
   "metadata": {},
   "outputs": [],
   "source": [
    "df.to_csv(path + \"Combined.csv\", index=False)"
   ]
  },
  {
   "cell_type": "code",
   "execution_count": 1363,
   "metadata": {
    "scrolled": true
   },
   "outputs": [
    {
     "data": {
      "text/html": [
       "<div>\n",
       "<style scoped>\n",
       "    .dataframe tbody tr th:only-of-type {\n",
       "        vertical-align: middle;\n",
       "    }\n",
       "\n",
       "    .dataframe tbody tr th {\n",
       "        vertical-align: top;\n",
       "    }\n",
       "\n",
       "    .dataframe thead th {\n",
       "        text-align: right;\n",
       "    }\n",
       "</style>\n",
       "<table border=\"1\" class=\"dataframe\">\n",
       "  <thead>\n",
       "    <tr style=\"text-align: right;\">\n",
       "      <th></th>\n",
       "      <th>DateHour</th>\n",
       "      <th>Predicted Well Level</th>\n",
       "      <th>Rain Level</th>\n",
       "      <th>Tide Level</th>\n",
       "      <th>Well Level</th>\n",
       "      <th>Well Name</th>\n",
       "    </tr>\n",
       "  </thead>\n",
       "  <tbody>\n",
       "    <tr>\n",
       "      <th>93515</th>\n",
       "      <td>2018-06-01 12:00:00</td>\n",
       "      <td>2.248987</td>\n",
       "      <td>0.0</td>\n",
       "      <td>-1.937</td>\n",
       "      <td>2.25</td>\n",
       "      <td>PB1680</td>\n",
       "    </tr>\n",
       "    <tr>\n",
       "      <th>93516</th>\n",
       "      <td>2018-06-01 13:00:00</td>\n",
       "      <td>2.247563</td>\n",
       "      <td>0.0</td>\n",
       "      <td>-1.937</td>\n",
       "      <td>2.25</td>\n",
       "      <td>PB1680</td>\n",
       "    </tr>\n",
       "    <tr>\n",
       "      <th>93517</th>\n",
       "      <td>2018-06-01 14:00:00</td>\n",
       "      <td>2.245858</td>\n",
       "      <td>0.0</td>\n",
       "      <td>-1.937</td>\n",
       "      <td>2.25</td>\n",
       "      <td>PB1680</td>\n",
       "    </tr>\n",
       "    <tr>\n",
       "      <th>93518</th>\n",
       "      <td>2018-06-01 15:00:00</td>\n",
       "      <td>2.243967</td>\n",
       "      <td>0.0</td>\n",
       "      <td>-1.937</td>\n",
       "      <td>2.25</td>\n",
       "      <td>PB1680</td>\n",
       "    </tr>\n",
       "    <tr>\n",
       "      <th>93519</th>\n",
       "      <td>2018-06-01 16:00:00</td>\n",
       "      <td>2.241922</td>\n",
       "      <td>0.0</td>\n",
       "      <td>-1.937</td>\n",
       "      <td>2.25</td>\n",
       "      <td>PB1680</td>\n",
       "    </tr>\n",
       "    <tr>\n",
       "      <th>93520</th>\n",
       "      <td>2018-06-01 17:00:00</td>\n",
       "      <td>2.239782</td>\n",
       "      <td>0.0</td>\n",
       "      <td>-1.937</td>\n",
       "      <td>2.25</td>\n",
       "      <td>PB1680</td>\n",
       "    </tr>\n",
       "    <tr>\n",
       "      <th>93521</th>\n",
       "      <td>2018-06-01 18:00:00</td>\n",
       "      <td>2.237588</td>\n",
       "      <td>0.0</td>\n",
       "      <td>-1.937</td>\n",
       "      <td>2.25</td>\n",
       "      <td>PB1680</td>\n",
       "    </tr>\n",
       "    <tr>\n",
       "      <th>93522</th>\n",
       "      <td>2018-06-01 19:00:00</td>\n",
       "      <td>2.235364</td>\n",
       "      <td>0.0</td>\n",
       "      <td>-1.937</td>\n",
       "      <td>2.25</td>\n",
       "      <td>PB1680</td>\n",
       "    </tr>\n",
       "    <tr>\n",
       "      <th>93523</th>\n",
       "      <td>2018-06-01 20:00:00</td>\n",
       "      <td>2.233122</td>\n",
       "      <td>0.0</td>\n",
       "      <td>-1.937</td>\n",
       "      <td>2.25</td>\n",
       "      <td>PB1680</td>\n",
       "    </tr>\n",
       "    <tr>\n",
       "      <th>93524</th>\n",
       "      <td>2018-06-01 21:00:00</td>\n",
       "      <td>2.230873</td>\n",
       "      <td>0.0</td>\n",
       "      <td>-1.937</td>\n",
       "      <td>2.25</td>\n",
       "      <td>PB1680</td>\n",
       "    </tr>\n",
       "    <tr>\n",
       "      <th>93525</th>\n",
       "      <td>2018-06-01 22:00:00</td>\n",
       "      <td>2.228619</td>\n",
       "      <td>0.0</td>\n",
       "      <td>-1.937</td>\n",
       "      <td>2.25</td>\n",
       "      <td>PB1680</td>\n",
       "    </tr>\n",
       "    <tr>\n",
       "      <th>93526</th>\n",
       "      <td>2018-06-01 23:00:00</td>\n",
       "      <td>2.226346</td>\n",
       "      <td>0.0</td>\n",
       "      <td>-1.937</td>\n",
       "      <td>2.25</td>\n",
       "      <td>PB1680</td>\n",
       "    </tr>\n",
       "    <tr>\n",
       "      <th>93527</th>\n",
       "      <td>2018-06-02 00:00:00</td>\n",
       "      <td>2.224036</td>\n",
       "      <td>0.0</td>\n",
       "      <td>-1.937</td>\n",
       "      <td>2.25</td>\n",
       "      <td>PB1680</td>\n",
       "    </tr>\n",
       "    <tr>\n",
       "      <th>93528</th>\n",
       "      <td>2018-06-02 01:00:00</td>\n",
       "      <td>2.221686</td>\n",
       "      <td>0.0</td>\n",
       "      <td>-1.937</td>\n",
       "      <td>2.25</td>\n",
       "      <td>PB1680</td>\n",
       "    </tr>\n",
       "    <tr>\n",
       "      <th>93529</th>\n",
       "      <td>2018-06-02 02:00:00</td>\n",
       "      <td>2.219311</td>\n",
       "      <td>0.0</td>\n",
       "      <td>-1.937</td>\n",
       "      <td>2.25</td>\n",
       "      <td>PB1680</td>\n",
       "    </tr>\n",
       "    <tr>\n",
       "      <th>93530</th>\n",
       "      <td>2018-06-02 03:00:00</td>\n",
       "      <td>2.216932</td>\n",
       "      <td>0.0</td>\n",
       "      <td>-1.937</td>\n",
       "      <td>2.25</td>\n",
       "      <td>PB1680</td>\n",
       "    </tr>\n",
       "    <tr>\n",
       "      <th>93531</th>\n",
       "      <td>2018-06-02 04:00:00</td>\n",
       "      <td>2.214561</td>\n",
       "      <td>0.0</td>\n",
       "      <td>-1.937</td>\n",
       "      <td>2.25</td>\n",
       "      <td>PB1680</td>\n",
       "    </tr>\n",
       "    <tr>\n",
       "      <th>93532</th>\n",
       "      <td>2018-06-02 05:00:00</td>\n",
       "      <td>2.212201</td>\n",
       "      <td>0.0</td>\n",
       "      <td>-1.937</td>\n",
       "      <td>2.25</td>\n",
       "      <td>PB1680</td>\n",
       "    </tr>\n",
       "    <tr>\n",
       "      <th>93533</th>\n",
       "      <td>2018-06-02 06:00:00</td>\n",
       "      <td>2.209861</td>\n",
       "      <td>0.0</td>\n",
       "      <td>-1.937</td>\n",
       "      <td>2.25</td>\n",
       "      <td>PB1680</td>\n",
       "    </tr>\n",
       "    <tr>\n",
       "      <th>93534</th>\n",
       "      <td>2018-06-02 07:00:00</td>\n",
       "      <td>2.207543</td>\n",
       "      <td>0.0</td>\n",
       "      <td>-1.937</td>\n",
       "      <td>2.25</td>\n",
       "      <td>PB1680</td>\n",
       "    </tr>\n",
       "    <tr>\n",
       "      <th>93535</th>\n",
       "      <td>2018-06-02 08:00:00</td>\n",
       "      <td>2.205249</td>\n",
       "      <td>0.0</td>\n",
       "      <td>-1.937</td>\n",
       "      <td>2.25</td>\n",
       "      <td>PB1680</td>\n",
       "    </tr>\n",
       "    <tr>\n",
       "      <th>93536</th>\n",
       "      <td>2018-06-02 09:00:00</td>\n",
       "      <td>2.202975</td>\n",
       "      <td>0.0</td>\n",
       "      <td>-1.937</td>\n",
       "      <td>2.25</td>\n",
       "      <td>PB1680</td>\n",
       "    </tr>\n",
       "    <tr>\n",
       "      <th>93537</th>\n",
       "      <td>2018-06-02 10:00:00</td>\n",
       "      <td>2.200717</td>\n",
       "      <td>0.0</td>\n",
       "      <td>-1.937</td>\n",
       "      <td>2.25</td>\n",
       "      <td>PB1680</td>\n",
       "    </tr>\n",
       "    <tr>\n",
       "      <th>93538</th>\n",
       "      <td>2018-06-02 11:00:00</td>\n",
       "      <td>2.198462</td>\n",
       "      <td>0.0</td>\n",
       "      <td>-1.937</td>\n",
       "      <td>2.25</td>\n",
       "      <td>PB1680</td>\n",
       "    </tr>\n",
       "    <tr>\n",
       "      <th>93539</th>\n",
       "      <td>2018-06-02 12:00:00</td>\n",
       "      <td>2.196188</td>\n",
       "      <td>0.0</td>\n",
       "      <td>-1.937</td>\n",
       "      <td>2.25</td>\n",
       "      <td>PB1680</td>\n",
       "    </tr>\n",
       "    <tr>\n",
       "      <th>93540</th>\n",
       "      <td>2018-06-02 13:00:00</td>\n",
       "      <td>2.193885</td>\n",
       "      <td>0.0</td>\n",
       "      <td>-1.937</td>\n",
       "      <td>2.25</td>\n",
       "      <td>PB1680</td>\n",
       "    </tr>\n",
       "    <tr>\n",
       "      <th>93541</th>\n",
       "      <td>2018-06-02 14:00:00</td>\n",
       "      <td>2.191557</td>\n",
       "      <td>0.0</td>\n",
       "      <td>-1.937</td>\n",
       "      <td>2.25</td>\n",
       "      <td>PB1680</td>\n",
       "    </tr>\n",
       "    <tr>\n",
       "      <th>93542</th>\n",
       "      <td>2018-06-02 15:00:00</td>\n",
       "      <td>2.189223</td>\n",
       "      <td>0.0</td>\n",
       "      <td>-1.937</td>\n",
       "      <td>2.25</td>\n",
       "      <td>PB1680</td>\n",
       "    </tr>\n",
       "    <tr>\n",
       "      <th>93543</th>\n",
       "      <td>2018-06-02 16:00:00</td>\n",
       "      <td>2.186894</td>\n",
       "      <td>0.0</td>\n",
       "      <td>-1.937</td>\n",
       "      <td>2.25</td>\n",
       "      <td>PB1680</td>\n",
       "    </tr>\n",
       "    <tr>\n",
       "      <th>93544</th>\n",
       "      <td>2018-06-02 17:00:00</td>\n",
       "      <td>2.184575</td>\n",
       "      <td>0.0</td>\n",
       "      <td>-1.937</td>\n",
       "      <td>2.25</td>\n",
       "      <td>PB1680</td>\n",
       "    </tr>\n",
       "    <tr>\n",
       "      <th>...</th>\n",
       "      <td>...</td>\n",
       "      <td>...</td>\n",
       "      <td>...</td>\n",
       "      <td>...</td>\n",
       "      <td>...</td>\n",
       "      <td>...</td>\n",
       "    </tr>\n",
       "    <tr>\n",
       "      <th>93653</th>\n",
       "      <td>2018-06-07 06:00:00</td>\n",
       "      <td>1.953265</td>\n",
       "      <td>0.0</td>\n",
       "      <td>-1.937</td>\n",
       "      <td>2.25</td>\n",
       "      <td>PB1680</td>\n",
       "    </tr>\n",
       "    <tr>\n",
       "      <th>93654</th>\n",
       "      <td>2018-06-07 07:00:00</td>\n",
       "      <td>1.951237</td>\n",
       "      <td>0.0</td>\n",
       "      <td>-1.937</td>\n",
       "      <td>2.25</td>\n",
       "      <td>PB1680</td>\n",
       "    </tr>\n",
       "    <tr>\n",
       "      <th>93655</th>\n",
       "      <td>2018-06-07 08:00:00</td>\n",
       "      <td>1.949209</td>\n",
       "      <td>0.0</td>\n",
       "      <td>-1.937</td>\n",
       "      <td>2.25</td>\n",
       "      <td>PB1680</td>\n",
       "    </tr>\n",
       "    <tr>\n",
       "      <th>93656</th>\n",
       "      <td>2018-06-07 09:00:00</td>\n",
       "      <td>1.947184</td>\n",
       "      <td>0.0</td>\n",
       "      <td>-1.937</td>\n",
       "      <td>2.25</td>\n",
       "      <td>PB1680</td>\n",
       "    </tr>\n",
       "    <tr>\n",
       "      <th>93657</th>\n",
       "      <td>2018-06-07 10:00:00</td>\n",
       "      <td>1.945170</td>\n",
       "      <td>0.0</td>\n",
       "      <td>-1.937</td>\n",
       "      <td>2.25</td>\n",
       "      <td>PB1680</td>\n",
       "    </tr>\n",
       "    <tr>\n",
       "      <th>93658</th>\n",
       "      <td>2018-06-07 11:00:00</td>\n",
       "      <td>1.943174</td>\n",
       "      <td>0.0</td>\n",
       "      <td>-1.937</td>\n",
       "      <td>2.25</td>\n",
       "      <td>PB1680</td>\n",
       "    </tr>\n",
       "    <tr>\n",
       "      <th>93659</th>\n",
       "      <td>2018-06-07 12:00:00</td>\n",
       "      <td>1.941193</td>\n",
       "      <td>0.0</td>\n",
       "      <td>-1.937</td>\n",
       "      <td>2.25</td>\n",
       "      <td>PB1680</td>\n",
       "    </tr>\n",
       "    <tr>\n",
       "      <th>93660</th>\n",
       "      <td>2018-06-07 13:00:00</td>\n",
       "      <td>1.939220</td>\n",
       "      <td>0.0</td>\n",
       "      <td>-1.937</td>\n",
       "      <td>2.25</td>\n",
       "      <td>PB1680</td>\n",
       "    </tr>\n",
       "    <tr>\n",
       "      <th>93661</th>\n",
       "      <td>2018-06-07 14:00:00</td>\n",
       "      <td>1.937251</td>\n",
       "      <td>0.0</td>\n",
       "      <td>-1.937</td>\n",
       "      <td>2.25</td>\n",
       "      <td>PB1680</td>\n",
       "    </tr>\n",
       "    <tr>\n",
       "      <th>93662</th>\n",
       "      <td>2018-06-07 15:00:00</td>\n",
       "      <td>1.935283</td>\n",
       "      <td>0.0</td>\n",
       "      <td>-1.937</td>\n",
       "      <td>2.25</td>\n",
       "      <td>PB1680</td>\n",
       "    </tr>\n",
       "    <tr>\n",
       "      <th>93663</th>\n",
       "      <td>2018-06-07 16:00:00</td>\n",
       "      <td>1.933308</td>\n",
       "      <td>0.0</td>\n",
       "      <td>-1.937</td>\n",
       "      <td>2.25</td>\n",
       "      <td>PB1680</td>\n",
       "    </tr>\n",
       "    <tr>\n",
       "      <th>93664</th>\n",
       "      <td>2018-06-07 17:00:00</td>\n",
       "      <td>1.931318</td>\n",
       "      <td>0.0</td>\n",
       "      <td>-1.937</td>\n",
       "      <td>2.25</td>\n",
       "      <td>PB1680</td>\n",
       "    </tr>\n",
       "    <tr>\n",
       "      <th>93665</th>\n",
       "      <td>2018-06-07 18:00:00</td>\n",
       "      <td>1.929316</td>\n",
       "      <td>0.0</td>\n",
       "      <td>-1.937</td>\n",
       "      <td>2.25</td>\n",
       "      <td>PB1680</td>\n",
       "    </tr>\n",
       "    <tr>\n",
       "      <th>93666</th>\n",
       "      <td>2018-06-07 19:00:00</td>\n",
       "      <td>1.927308</td>\n",
       "      <td>0.0</td>\n",
       "      <td>-1.937</td>\n",
       "      <td>2.25</td>\n",
       "      <td>PB1680</td>\n",
       "    </tr>\n",
       "    <tr>\n",
       "      <th>93667</th>\n",
       "      <td>2018-06-07 20:00:00</td>\n",
       "      <td>1.925300</td>\n",
       "      <td>0.0</td>\n",
       "      <td>-1.937</td>\n",
       "      <td>2.25</td>\n",
       "      <td>PB1680</td>\n",
       "    </tr>\n",
       "    <tr>\n",
       "      <th>93668</th>\n",
       "      <td>2018-06-07 21:00:00</td>\n",
       "      <td>1.923293</td>\n",
       "      <td>0.0</td>\n",
       "      <td>-1.937</td>\n",
       "      <td>2.25</td>\n",
       "      <td>PB1680</td>\n",
       "    </tr>\n",
       "    <tr>\n",
       "      <th>93669</th>\n",
       "      <td>2018-06-07 22:00:00</td>\n",
       "      <td>1.921292</td>\n",
       "      <td>0.0</td>\n",
       "      <td>-1.937</td>\n",
       "      <td>2.25</td>\n",
       "      <td>PB1680</td>\n",
       "    </tr>\n",
       "    <tr>\n",
       "      <th>93670</th>\n",
       "      <td>2018-06-07 23:00:00</td>\n",
       "      <td>1.919307</td>\n",
       "      <td>0.0</td>\n",
       "      <td>-1.937</td>\n",
       "      <td>2.25</td>\n",
       "      <td>PB1680</td>\n",
       "    </tr>\n",
       "    <tr>\n",
       "      <th>93671</th>\n",
       "      <td>2018-06-08 00:00:00</td>\n",
       "      <td>1.917337</td>\n",
       "      <td>0.0</td>\n",
       "      <td>-1.937</td>\n",
       "      <td>2.25</td>\n",
       "      <td>PB1680</td>\n",
       "    </tr>\n",
       "    <tr>\n",
       "      <th>93672</th>\n",
       "      <td>2018-06-08 01:00:00</td>\n",
       "      <td>1.915379</td>\n",
       "      <td>0.0</td>\n",
       "      <td>-1.937</td>\n",
       "      <td>2.25</td>\n",
       "      <td>PB1680</td>\n",
       "    </tr>\n",
       "    <tr>\n",
       "      <th>93673</th>\n",
       "      <td>2018-06-08 02:00:00</td>\n",
       "      <td>1.913424</td>\n",
       "      <td>0.0</td>\n",
       "      <td>-1.937</td>\n",
       "      <td>2.25</td>\n",
       "      <td>PB1680</td>\n",
       "    </tr>\n",
       "    <tr>\n",
       "      <th>93674</th>\n",
       "      <td>2018-06-08 03:00:00</td>\n",
       "      <td>1.911472</td>\n",
       "      <td>0.0</td>\n",
       "      <td>-1.937</td>\n",
       "      <td>2.25</td>\n",
       "      <td>PB1680</td>\n",
       "    </tr>\n",
       "    <tr>\n",
       "      <th>93675</th>\n",
       "      <td>2018-06-08 04:00:00</td>\n",
       "      <td>1.909517</td>\n",
       "      <td>0.0</td>\n",
       "      <td>-1.937</td>\n",
       "      <td>2.25</td>\n",
       "      <td>PB1680</td>\n",
       "    </tr>\n",
       "    <tr>\n",
       "      <th>93676</th>\n",
       "      <td>2018-06-08 05:00:00</td>\n",
       "      <td>1.907550</td>\n",
       "      <td>0.0</td>\n",
       "      <td>-1.937</td>\n",
       "      <td>2.25</td>\n",
       "      <td>PB1680</td>\n",
       "    </tr>\n",
       "    <tr>\n",
       "      <th>93677</th>\n",
       "      <td>2018-06-08 06:00:00</td>\n",
       "      <td>1.905570</td>\n",
       "      <td>0.0</td>\n",
       "      <td>-1.937</td>\n",
       "      <td>2.25</td>\n",
       "      <td>PB1680</td>\n",
       "    </tr>\n",
       "    <tr>\n",
       "      <th>93678</th>\n",
       "      <td>2018-06-08 07:00:00</td>\n",
       "      <td>1.903581</td>\n",
       "      <td>0.0</td>\n",
       "      <td>-1.937</td>\n",
       "      <td>2.25</td>\n",
       "      <td>PB1680</td>\n",
       "    </tr>\n",
       "    <tr>\n",
       "      <th>93679</th>\n",
       "      <td>2018-06-08 08:00:00</td>\n",
       "      <td>1.901592</td>\n",
       "      <td>0.0</td>\n",
       "      <td>-1.937</td>\n",
       "      <td>2.25</td>\n",
       "      <td>PB1680</td>\n",
       "    </tr>\n",
       "    <tr>\n",
       "      <th>93680</th>\n",
       "      <td>2018-06-08 09:00:00</td>\n",
       "      <td>1.899601</td>\n",
       "      <td>0.0</td>\n",
       "      <td>-1.937</td>\n",
       "      <td>2.25</td>\n",
       "      <td>PB1680</td>\n",
       "    </tr>\n",
       "    <tr>\n",
       "      <th>93681</th>\n",
       "      <td>2018-06-08 10:00:00</td>\n",
       "      <td>1.897614</td>\n",
       "      <td>0.0</td>\n",
       "      <td>-1.937</td>\n",
       "      <td>2.25</td>\n",
       "      <td>PB1680</td>\n",
       "    </tr>\n",
       "    <tr>\n",
       "      <th>93682</th>\n",
       "      <td>2018-06-08 11:00:00</td>\n",
       "      <td>1.895638</td>\n",
       "      <td>0.0</td>\n",
       "      <td>-1.937</td>\n",
       "      <td>2.25</td>\n",
       "      <td>PB1680</td>\n",
       "    </tr>\n",
       "  </tbody>\n",
       "</table>\n",
       "<p>168 rows × 6 columns</p>\n",
       "</div>"
      ],
      "text/plain": [
       "                  DateHour  Predicted Well Level  Rain Level  Tide Level  \\\n",
       "93515  2018-06-01 12:00:00              2.248987         0.0      -1.937   \n",
       "93516  2018-06-01 13:00:00              2.247563         0.0      -1.937   \n",
       "93517  2018-06-01 14:00:00              2.245858         0.0      -1.937   \n",
       "93518  2018-06-01 15:00:00              2.243967         0.0      -1.937   \n",
       "93519  2018-06-01 16:00:00              2.241922         0.0      -1.937   \n",
       "93520  2018-06-01 17:00:00              2.239782         0.0      -1.937   \n",
       "93521  2018-06-01 18:00:00              2.237588         0.0      -1.937   \n",
       "93522  2018-06-01 19:00:00              2.235364         0.0      -1.937   \n",
       "93523  2018-06-01 20:00:00              2.233122         0.0      -1.937   \n",
       "93524  2018-06-01 21:00:00              2.230873         0.0      -1.937   \n",
       "93525  2018-06-01 22:00:00              2.228619         0.0      -1.937   \n",
       "93526  2018-06-01 23:00:00              2.226346         0.0      -1.937   \n",
       "93527  2018-06-02 00:00:00              2.224036         0.0      -1.937   \n",
       "93528  2018-06-02 01:00:00              2.221686         0.0      -1.937   \n",
       "93529  2018-06-02 02:00:00              2.219311         0.0      -1.937   \n",
       "93530  2018-06-02 03:00:00              2.216932         0.0      -1.937   \n",
       "93531  2018-06-02 04:00:00              2.214561         0.0      -1.937   \n",
       "93532  2018-06-02 05:00:00              2.212201         0.0      -1.937   \n",
       "93533  2018-06-02 06:00:00              2.209861         0.0      -1.937   \n",
       "93534  2018-06-02 07:00:00              2.207543         0.0      -1.937   \n",
       "93535  2018-06-02 08:00:00              2.205249         0.0      -1.937   \n",
       "93536  2018-06-02 09:00:00              2.202975         0.0      -1.937   \n",
       "93537  2018-06-02 10:00:00              2.200717         0.0      -1.937   \n",
       "93538  2018-06-02 11:00:00              2.198462         0.0      -1.937   \n",
       "93539  2018-06-02 12:00:00              2.196188         0.0      -1.937   \n",
       "93540  2018-06-02 13:00:00              2.193885         0.0      -1.937   \n",
       "93541  2018-06-02 14:00:00              2.191557         0.0      -1.937   \n",
       "93542  2018-06-02 15:00:00              2.189223         0.0      -1.937   \n",
       "93543  2018-06-02 16:00:00              2.186894         0.0      -1.937   \n",
       "93544  2018-06-02 17:00:00              2.184575         0.0      -1.937   \n",
       "...                    ...                   ...         ...         ...   \n",
       "93653  2018-06-07 06:00:00              1.953265         0.0      -1.937   \n",
       "93654  2018-06-07 07:00:00              1.951237         0.0      -1.937   \n",
       "93655  2018-06-07 08:00:00              1.949209         0.0      -1.937   \n",
       "93656  2018-06-07 09:00:00              1.947184         0.0      -1.937   \n",
       "93657  2018-06-07 10:00:00              1.945170         0.0      -1.937   \n",
       "93658  2018-06-07 11:00:00              1.943174         0.0      -1.937   \n",
       "93659  2018-06-07 12:00:00              1.941193         0.0      -1.937   \n",
       "93660  2018-06-07 13:00:00              1.939220         0.0      -1.937   \n",
       "93661  2018-06-07 14:00:00              1.937251         0.0      -1.937   \n",
       "93662  2018-06-07 15:00:00              1.935283         0.0      -1.937   \n",
       "93663  2018-06-07 16:00:00              1.933308         0.0      -1.937   \n",
       "93664  2018-06-07 17:00:00              1.931318         0.0      -1.937   \n",
       "93665  2018-06-07 18:00:00              1.929316         0.0      -1.937   \n",
       "93666  2018-06-07 19:00:00              1.927308         0.0      -1.937   \n",
       "93667  2018-06-07 20:00:00              1.925300         0.0      -1.937   \n",
       "93668  2018-06-07 21:00:00              1.923293         0.0      -1.937   \n",
       "93669  2018-06-07 22:00:00              1.921292         0.0      -1.937   \n",
       "93670  2018-06-07 23:00:00              1.919307         0.0      -1.937   \n",
       "93671  2018-06-08 00:00:00              1.917337         0.0      -1.937   \n",
       "93672  2018-06-08 01:00:00              1.915379         0.0      -1.937   \n",
       "93673  2018-06-08 02:00:00              1.913424         0.0      -1.937   \n",
       "93674  2018-06-08 03:00:00              1.911472         0.0      -1.937   \n",
       "93675  2018-06-08 04:00:00              1.909517         0.0      -1.937   \n",
       "93676  2018-06-08 05:00:00              1.907550         0.0      -1.937   \n",
       "93677  2018-06-08 06:00:00              1.905570         0.0      -1.937   \n",
       "93678  2018-06-08 07:00:00              1.903581         0.0      -1.937   \n",
       "93679  2018-06-08 08:00:00              1.901592         0.0      -1.937   \n",
       "93680  2018-06-08 09:00:00              1.899601         0.0      -1.937   \n",
       "93681  2018-06-08 10:00:00              1.897614         0.0      -1.937   \n",
       "93682  2018-06-08 11:00:00              1.895638         0.0      -1.937   \n",
       "\n",
       "       Well Level Well Name  \n",
       "93515        2.25    PB1680  \n",
       "93516        2.25    PB1680  \n",
       "93517        2.25    PB1680  \n",
       "93518        2.25    PB1680  \n",
       "93519        2.25    PB1680  \n",
       "93520        2.25    PB1680  \n",
       "93521        2.25    PB1680  \n",
       "93522        2.25    PB1680  \n",
       "93523        2.25    PB1680  \n",
       "93524        2.25    PB1680  \n",
       "93525        2.25    PB1680  \n",
       "93526        2.25    PB1680  \n",
       "93527        2.25    PB1680  \n",
       "93528        2.25    PB1680  \n",
       "93529        2.25    PB1680  \n",
       "93530        2.25    PB1680  \n",
       "93531        2.25    PB1680  \n",
       "93532        2.25    PB1680  \n",
       "93533        2.25    PB1680  \n",
       "93534        2.25    PB1680  \n",
       "93535        2.25    PB1680  \n",
       "93536        2.25    PB1680  \n",
       "93537        2.25    PB1680  \n",
       "93538        2.25    PB1680  \n",
       "93539        2.25    PB1680  \n",
       "93540        2.25    PB1680  \n",
       "93541        2.25    PB1680  \n",
       "93542        2.25    PB1680  \n",
       "93543        2.25    PB1680  \n",
       "93544        2.25    PB1680  \n",
       "...           ...       ...  \n",
       "93653        2.25    PB1680  \n",
       "93654        2.25    PB1680  \n",
       "93655        2.25    PB1680  \n",
       "93656        2.25    PB1680  \n",
       "93657        2.25    PB1680  \n",
       "93658        2.25    PB1680  \n",
       "93659        2.25    PB1680  \n",
       "93660        2.25    PB1680  \n",
       "93661        2.25    PB1680  \n",
       "93662        2.25    PB1680  \n",
       "93663        2.25    PB1680  \n",
       "93664        2.25    PB1680  \n",
       "93665        2.25    PB1680  \n",
       "93666        2.25    PB1680  \n",
       "93667        2.25    PB1680  \n",
       "93668        2.25    PB1680  \n",
       "93669        2.25    PB1680  \n",
       "93670        2.25    PB1680  \n",
       "93671        2.25    PB1680  \n",
       "93672        2.25    PB1680  \n",
       "93673        2.25    PB1680  \n",
       "93674        2.25    PB1680  \n",
       "93675        2.25    PB1680  \n",
       "93676        2.25    PB1680  \n",
       "93677        2.25    PB1680  \n",
       "93678        2.25    PB1680  \n",
       "93679        2.25    PB1680  \n",
       "93680        2.25    PB1680  \n",
       "93681        2.25    PB1680  \n",
       "93682        2.25    PB1680  \n",
       "\n",
       "[168 rows x 6 columns]"
      ]
     },
     "execution_count": 1363,
     "metadata": {},
     "output_type": "execute_result"
    }
   ],
   "source": [
    "df.tail(168)"
   ]
  },
  {
   "cell_type": "code",
   "execution_count": 909,
   "metadata": {},
   "outputs": [],
   "source": [
    "wells = df['Well Name'].unique()"
   ]
  },
  {
   "cell_type": "code",
   "execution_count": 1462,
   "metadata": {},
   "outputs": [
    {
     "data": {
      "text/plain": [
       "array(['F319', 'F45', 'G1220', 'G1260', 'G2147', 'G2866', 'G3549', 'G561',\n",
       "       'G580A', 'G860', 'PB1680', 'F179'], dtype=object)"
      ]
     },
     "execution_count": 1462,
     "metadata": {},
     "output_type": "execute_result"
    }
   ],
   "source": [
    "wells"
   ]
  },
  {
   "cell_type": "code",
   "execution_count": 916,
   "metadata": {},
   "outputs": [
    {
     "data": {
      "text/plain": [
       "Rain Level    0.000528\n",
       "dtype: float64"
      ]
     },
     "execution_count": 916,
     "metadata": {},
     "output_type": "execute_result"
    }
   ],
   "source": [
    "df.loc[df['Well Name'] == 'G1260', ['DateHour', 'Rain Level']].mean()"
   ]
  },
  {
   "cell_type": "code",
   "execution_count": 1364,
   "metadata": {},
   "outputs": [],
   "source": [
    "test = df.set_index(pd.DatetimeIndex(df.DateHour))"
   ]
  },
  {
   "cell_type": "code",
   "execution_count": 1436,
   "metadata": {
    "scrolled": true
   },
   "outputs": [],
   "source": [
    "#Get MAPE for each well prediction\n",
    "# Mean(yi - yhat / yi)\n",
    "test = test['2018-06-01 12:00:00':'2018-06-08 11:00:00']\n",
    "test['res'] = abs(test['Well Level'] - test['Predicted Well Level'])/abs(test['Well Level'])\n",
    "\n",
    "mapes = test.groupby('Well Name')['res'].mean()"
   ]
  },
  {
   "cell_type": "code",
   "execution_count": 1438,
   "metadata": {},
   "outputs": [
    {
     "data": {
      "text/plain": [
       "0.040360426578609374"
      ]
     },
     "execution_count": 1438,
     "metadata": {},
     "output_type": "execute_result"
    }
   ],
   "source": [
    "mapes.median()\n"
   ]
  },
  {
   "cell_type": "markdown",
   "metadata": {},
   "source": [
    "# Testing for missing rain data 10/24"
   ]
  },
  {
   "cell_type": "code",
   "execution_count": 922,
   "metadata": {},
   "outputs": [],
   "source": [
    "df.set_index(pd.DatetimeIndex(df['DateHour']), inplace=True)"
   ]
  },
  {
   "cell_type": "code",
   "execution_count": 953,
   "metadata": {
    "scrolled": true
   },
   "outputs": [],
   "source": [
    "sub1 = df.loc['11/04/2010 11:00:00':]\n",
    "sub1 = sub1[sub1['Well Name'] == \"G3549\"]"
   ]
  },
  {
   "cell_type": "code",
   "execution_count": 933,
   "metadata": {},
   "outputs": [
    {
     "name": "stderr",
     "output_type": "stream",
     "text": [
      "C:\\Users\\Christopher\\Anaconda3\\lib\\site-packages\\IPython\\core\\interactiveshell.py:2728: DtypeWarning: Columns (0,1,2,4,5,6,7,9) have mixed types. Specify dtype option on import or set low_memory=False.\n",
      "  interactivity=interactivity, compiler=compiler, result=result)\n"
     ]
    }
   ],
   "source": [
    "sub = pd.read_csv(path + \"../G-3549.csv\")"
   ]
  },
  {
   "cell_type": "code",
   "execution_count": 935,
   "metadata": {},
   "outputs": [],
   "source": [
    "sub.set_index(pd.DatetimeIndex(sub.RainDateHour), inplace=True)"
   ]
  },
  {
   "cell_type": "code",
   "execution_count": 946,
   "metadata": {},
   "outputs": [],
   "source": [
    "sub = sub.loc['11/04/2010 11:00:00':'11/04/2017']"
   ]
  }
 ],
 "metadata": {
  "kernelspec": {
   "display_name": "Python 3",
   "language": "python",
   "name": "python3"
  },
  "language_info": {
   "codemirror_mode": {
    "name": "ipython",
    "version": 3
   },
   "file_extension": ".py",
   "mimetype": "text/x-python",
   "name": "python",
   "nbconvert_exporter": "python",
   "pygments_lexer": "ipython3",
   "version": "3.6.4"
  }
 },
 "nbformat": 4,
 "nbformat_minor": 2
}
