{
 "cells": [
  {
   "cell_type": "code",
   "execution_count": 7,
   "metadata": {},
   "outputs": [
    {
     "name": "stdout",
     "output_type": "stream",
     "text": [
      "current directory is : c:\\\n",
      "Directory name is : \n"
     ]
    }
   ],
   "source": [
    "import os\n",
    " \n",
    "dirpath = os.getcwd()\n",
    "print(\"current directory is : \" + dirpath)\n",
    "foldername = os.path.basename(dirpath)\n",
    "print(\"Directory name is : \" + foldername)"
   ]
  },
  {
   "cell_type": "code",
   "execution_count": 956,
   "metadata": {},
   "outputs": [
    {
     "name": "stdout",
     "output_type": "stream",
     "text": [
      "['F-179.csv', 'F-319.csv', 'F-319_clean.csv', 'F-45.csv', 'G-1220.csv', 'G-1260_Done.csv', 'G-2147.csv', 'G-2866.csv', 'G-3549.csv', 'G-561.csv', 'G-580A.csv', 'G-852_NO_TIDE.csv', 'G-860.csv', 'PB-1680.csv', 'Well F-179_FINAL.csv']\n"
     ]
    }
   ],
   "source": [
    "import os\n",
    "import glob\n",
    "import pandas\n",
    "\n",
    "path = 'C:/Users/Christopher/Documents/GitHub/Fall2_Homework/data/Well Data_Split/'\n",
    "extension = 'csv'\n",
    "os.chdir(path)\n",
    "result = [i for i in glob.glob('*.{}'.format(extension))]\n",
    "print(result)"
   ]
  },
  {
   "cell_type": "markdown",
   "metadata": {},
   "source": [
    "# Read file"
   ]
  },
  {
   "cell_type": "code",
   "execution_count": 487,
   "metadata": {},
   "outputs": [],
   "source": [
    "# Dont do number 4\n",
    "# Next to do: g1260, 11 (NO TIDE)"
   ]
  },
  {
   "cell_type": "code",
   "execution_count": 488,
   "metadata": {},
   "outputs": [],
   "source": [
    "start = '2007-10-01 01:00:00'\n",
    "end = '2018-06-08 11:00:00'\n",
    "time_range = pd.date_range(start=start, end=end,freq='H')"
   ]
  },
  {
   "cell_type": "code",
   "execution_count": 1247,
   "metadata": {
    "scrolled": false
   },
   "outputs": [
    {
     "data": {
      "text/plain": [
       "'G-1260_Done.csv'"
      ]
     },
     "execution_count": 1247,
     "metadata": {},
     "output_type": "execute_result"
    }
   ],
   "source": [
    "file = result[5]\n",
    "df = pd.read_csv(file)\n",
    "\n",
    "#if 'Code' in df:\n",
    "  # df = df[df.Code == \"A\"]\n",
    "file"
   ]
  },
  {
   "cell_type": "code",
   "execution_count": 1241,
   "metadata": {
    "scrolled": false
   },
   "outputs": [
    {
     "data": {
      "text/plain": [
       "count     97220\n",
       "unique        2\n",
       "top           A\n",
       "freq      88731\n",
       "Name: Code, dtype: object"
      ]
     },
     "execution_count": 1241,
     "metadata": {},
     "output_type": "execute_result"
    }
   ],
   "source": [
    "df.Code.describe()"
   ]
  },
  {
   "cell_type": "code",
   "execution_count": 1242,
   "metadata": {
    "scrolled": true
   },
   "outputs": [],
   "source": [
    "df = df[df.Code != \"P\"]"
   ]
  },
  {
   "cell_type": "code",
   "execution_count": 1243,
   "metadata": {},
   "outputs": [
    {
     "data": {
      "text/plain": [
       "array(['A', nan], dtype=object)"
      ]
     },
     "execution_count": 1243,
     "metadata": {},
     "output_type": "execute_result"
    }
   ],
   "source": [
    "df.Code.unique()"
   ]
  },
  {
   "cell_type": "code",
   "execution_count": 1038,
   "metadata": {},
   "outputs": [
    {
     "data": {
      "text/html": [
       "<div>\n",
       "<style scoped>\n",
       "    .dataframe tbody tr th:only-of-type {\n",
       "        vertical-align: middle;\n",
       "    }\n",
       "\n",
       "    .dataframe tbody tr th {\n",
       "        vertical-align: top;\n",
       "    }\n",
       "\n",
       "    .dataframe thead th {\n",
       "        text-align: right;\n",
       "    }\n",
       "</style>\n",
       "<table border=\"1\" class=\"dataframe\">\n",
       "  <thead>\n",
       "    <tr style=\"text-align: right;\">\n",
       "      <th></th>\n",
       "      <th>TideDateHour</th>\n",
       "      <th>Date</th>\n",
       "      <th>Time</th>\n",
       "      <th>Tide_ft</th>\n",
       "      <th>WellDateHour</th>\n",
       "      <th>date</th>\n",
       "      <th>time</th>\n",
       "      <th>tz_cd</th>\n",
       "      <th>Well_ft</th>\n",
       "      <th>Code</th>\n",
       "      <th>Corrected</th>\n",
       "      <th>RainDateHour</th>\n",
       "      <th>Date.1</th>\n",
       "      <th>RAIN_FT</th>\n",
       "    </tr>\n",
       "  </thead>\n",
       "  <tbody>\n",
       "    <tr>\n",
       "      <th>368972</th>\n",
       "      <td>NaN</td>\n",
       "      <td>NaN</td>\n",
       "      <td>NaN</td>\n",
       "      <td>NaN</td>\n",
       "      <td>NaN</td>\n",
       "      <td>NaN</td>\n",
       "      <td>NaN</td>\n",
       "      <td>NaN</td>\n",
       "      <td>NaN</td>\n",
       "      <td>NaN</td>\n",
       "      <td>NaN</td>\n",
       "      <td>2018/04/09 11:00</td>\n",
       "      <td>4/9/18 11:00</td>\n",
       "      <td>0.0</td>\n",
       "    </tr>\n",
       "  </tbody>\n",
       "</table>\n",
       "</div>"
      ],
      "text/plain": [
       "       TideDateHour Date Time  Tide_ft WellDateHour date time tz_cd  Well_ft  \\\n",
       "368972          NaN  NaN  NaN      NaN          NaN  NaN  NaN   NaN      NaN   \n",
       "\n",
       "       Code  Corrected      RainDateHour        Date.1  RAIN_FT  \n",
       "368972  NaN        NaN  2018/04/09 11:00  4/9/18 11:00      0.0  "
      ]
     },
     "execution_count": 1038,
     "metadata": {},
     "output_type": "execute_result"
    }
   ],
   "source": [
    "df[df.RainDateHour == '2018/04/09 11:00']"
   ]
  },
  {
   "cell_type": "markdown",
   "metadata": {},
   "source": [
    "# Aggregate Tide Water Elevation"
   ]
  },
  {
   "cell_type": "code",
   "execution_count": null,
   "metadata": {},
   "outputs": [],
   "source": [
    "#%% Create a set format for which to read the string as a datetime variable\n",
    "\n",
    "df['TideDateHour'] = df.loc[:, 'DateHour']\n",
    "df['Tide_ft'] = df.loc[:, 'TideLevel']\n",
    "tide = df.loc[:, ['TideDateHour', 'Tide_ft']]\n",
    "\n",
    "tide = tide.loc[tide.TideDateHour != '1900/01/00 00:00']\n",
    "\n",
    "time_format = \"%m/%d/%Y %H:%M\"\n",
    "\n",
    "tide['TideDateHour'] = pd.to_datetime(tide.loc[:,'TideDateHour'], format = time_format)\n",
    "\n",
    "#%% Reorganize the column order\n",
    "#df = df[['date_hour','date','time','Corrected']]\n",
    "\n",
    "#%% Setting index to be the date_hour column\n",
    "tide = tide.set_index('TideDateHour')\n",
    "\n",
    "#%% Select dates in the range required\n",
    "data_tide = tide['2007-10-01 01:00:00':'2018-06-08 11:00:00']\n",
    "\n",
    "#%% Resample data to hourly\n",
    "data_tide = data_tide.resample('H').mean()"
   ]
  },
  {
   "cell_type": "code",
   "execution_count": 1244,
   "metadata": {},
   "outputs": [
    {
     "name": "stderr",
     "output_type": "stream",
     "text": [
      "C:\\Users\\Christopher\\Anaconda3\\lib\\site-packages\\ipykernel_launcher.py:4: FutureWarning: \n",
      "Passing list-likes to .loc or [] with any missing label will raise\n",
      "KeyError in the future, you can use .reindex() as an alternative.\n",
      "\n",
      "See the documentation here:\n",
      "http://pandas.pydata.org/pandas-docs/stable/indexing.html#deprecate-loc-reindex-listlike\n",
      "  after removing the cwd from sys.path.\n",
      "C:\\Users\\Christopher\\Anaconda3\\lib\\site-packages\\pandas\\core\\indexing.py:1367: FutureWarning: \n",
      "Passing list-likes to .loc or [] with any missing label will raise\n",
      "KeyError in the future, you can use .reindex() as an alternative.\n",
      "\n",
      "See the documentation here:\n",
      "http://pandas.pydata.org/pandas-docs/stable/indexing.html#deprecate-loc-reindex-listlike\n",
      "  return self._getitem_tuple(key)\n",
      "C:\\Users\\Christopher\\Anaconda3\\lib\\site-packages\\ipykernel_launcher.py:25: FutureWarning: \n",
      "Passing list-likes to .loc or [] with any missing label will raise\n",
      "KeyError in the future, you can use .reindex() as an alternative.\n",
      "\n",
      "See the documentation here:\n",
      "http://pandas.pydata.org/pandas-docs/stable/indexing.html#deprecate-loc-reindex-listlike\n",
      "C:\\Users\\Christopher\\Anaconda3\\lib\\site-packages\\pandas\\core\\ops.py:816: FutureWarning: elementwise comparison failed; returning scalar instead, but in the future will perform elementwise comparison\n",
      "  result = getattr(x, name)(y)\n"
     ]
    },
    {
     "ename": "TypeError",
     "evalue": "invalid type comparison",
     "output_type": "error",
     "traceback": [
      "\u001b[1;31m---------------------------------------------------------------------------\u001b[0m",
      "\u001b[1;31mTypeError\u001b[0m                                 Traceback (most recent call last)",
      "\u001b[1;32m<ipython-input-1244-577a7aecd8cf>\u001b[0m in \u001b[0;36m<module>\u001b[1;34m()\u001b[0m\n\u001b[0;32m     25\u001b[0m \u001b[0mwell\u001b[0m \u001b[1;33m=\u001b[0m \u001b[0mdf\u001b[0m\u001b[1;33m.\u001b[0m\u001b[0mloc\u001b[0m\u001b[1;33m[\u001b[0m\u001b[1;33m:\u001b[0m\u001b[1;33m,\u001b[0m \u001b[1;33m[\u001b[0m\u001b[1;34m'WellDateHour'\u001b[0m\u001b[1;33m,\u001b[0m \u001b[1;34m'Well_ft'\u001b[0m\u001b[1;33m]\u001b[0m\u001b[1;33m]\u001b[0m\u001b[1;33m\u001b[0m\u001b[0m\n\u001b[0;32m     26\u001b[0m \u001b[1;33m\u001b[0m\u001b[0m\n\u001b[1;32m---> 27\u001b[1;33m \u001b[0mwell\u001b[0m \u001b[1;33m=\u001b[0m \u001b[0mwell\u001b[0m\u001b[1;33m.\u001b[0m\u001b[0mloc\u001b[0m\u001b[1;33m[\u001b[0m\u001b[0mwell\u001b[0m\u001b[1;33m.\u001b[0m\u001b[0mWellDateHour\u001b[0m \u001b[1;33m!=\u001b[0m \u001b[1;34m'1900/01/00 00:00'\u001b[0m\u001b[1;33m]\u001b[0m\u001b[1;33m\u001b[0m\u001b[0m\n\u001b[0m\u001b[0;32m     28\u001b[0m \u001b[0mwell\u001b[0m\u001b[1;33m[\u001b[0m\u001b[1;34m'WellDateHour'\u001b[0m\u001b[1;33m]\u001b[0m \u001b[1;33m=\u001b[0m \u001b[0mpd\u001b[0m\u001b[1;33m.\u001b[0m\u001b[0mto_datetime\u001b[0m\u001b[1;33m(\u001b[0m\u001b[0mwell\u001b[0m\u001b[1;33m[\u001b[0m\u001b[1;34m'WellDateHour'\u001b[0m\u001b[1;33m]\u001b[0m\u001b[1;33m,\u001b[0m \u001b[0mformat\u001b[0m \u001b[1;33m=\u001b[0m \u001b[0mtime_format\u001b[0m\u001b[1;33m)\u001b[0m\u001b[1;33m\u001b[0m\u001b[0m\n\u001b[0;32m     29\u001b[0m \u001b[1;33m\u001b[0m\u001b[0m\n",
      "\u001b[1;32m~\\Anaconda3\\lib\\site-packages\\pandas\\core\\ops.py\u001b[0m in \u001b[0;36mwrapper\u001b[1;34m(self, other, axis)\u001b[0m\n\u001b[0;32m    877\u001b[0m \u001b[1;33m\u001b[0m\u001b[0m\n\u001b[0;32m    878\u001b[0m             \u001b[1;32mwith\u001b[0m \u001b[0mnp\u001b[0m\u001b[1;33m.\u001b[0m\u001b[0merrstate\u001b[0m\u001b[1;33m(\u001b[0m\u001b[0mall\u001b[0m\u001b[1;33m=\u001b[0m\u001b[1;34m'ignore'\u001b[0m\u001b[1;33m)\u001b[0m\u001b[1;33m:\u001b[0m\u001b[1;33m\u001b[0m\u001b[0m\n\u001b[1;32m--> 879\u001b[1;33m                 \u001b[0mres\u001b[0m \u001b[1;33m=\u001b[0m \u001b[0mna_op\u001b[0m\u001b[1;33m(\u001b[0m\u001b[0mvalues\u001b[0m\u001b[1;33m,\u001b[0m \u001b[0mother\u001b[0m\u001b[1;33m)\u001b[0m\u001b[1;33m\u001b[0m\u001b[0m\n\u001b[0m\u001b[0;32m    880\u001b[0m             \u001b[1;32mif\u001b[0m \u001b[0mis_scalar\u001b[0m\u001b[1;33m(\u001b[0m\u001b[0mres\u001b[0m\u001b[1;33m)\u001b[0m\u001b[1;33m:\u001b[0m\u001b[1;33m\u001b[0m\u001b[0m\n\u001b[0;32m    881\u001b[0m                 raise TypeError('Could not compare {typ} type with Series'\n",
      "\u001b[1;32m~\\Anaconda3\\lib\\site-packages\\pandas\\core\\ops.py\u001b[0m in \u001b[0;36mna_op\u001b[1;34m(x, y)\u001b[0m\n\u001b[0;32m    816\u001b[0m                     \u001b[0mresult\u001b[0m \u001b[1;33m=\u001b[0m \u001b[0mgetattr\u001b[0m\u001b[1;33m(\u001b[0m\u001b[0mx\u001b[0m\u001b[1;33m,\u001b[0m \u001b[0mname\u001b[0m\u001b[1;33m)\u001b[0m\u001b[1;33m(\u001b[0m\u001b[0my\u001b[0m\u001b[1;33m)\u001b[0m\u001b[1;33m\u001b[0m\u001b[0m\n\u001b[0;32m    817\u001b[0m                 \u001b[1;32mif\u001b[0m \u001b[0mresult\u001b[0m \u001b[1;32mis\u001b[0m \u001b[0mNotImplemented\u001b[0m\u001b[1;33m:\u001b[0m\u001b[1;33m\u001b[0m\u001b[0m\n\u001b[1;32m--> 818\u001b[1;33m                     \u001b[1;32mraise\u001b[0m \u001b[0mTypeError\u001b[0m\u001b[1;33m(\u001b[0m\u001b[1;34m\"invalid type comparison\"\u001b[0m\u001b[1;33m)\u001b[0m\u001b[1;33m\u001b[0m\u001b[0m\n\u001b[0m\u001b[0;32m    819\u001b[0m             \u001b[1;32mexcept\u001b[0m \u001b[0mAttributeError\u001b[0m\u001b[1;33m:\u001b[0m\u001b[1;33m\u001b[0m\u001b[0m\n\u001b[0;32m    820\u001b[0m                 \u001b[0mresult\u001b[0m \u001b[1;33m=\u001b[0m \u001b[0mop\u001b[0m\u001b[1;33m(\u001b[0m\u001b[0mx\u001b[0m\u001b[1;33m,\u001b[0m \u001b[0my\u001b[0m\u001b[1;33m)\u001b[0m\u001b[1;33m\u001b[0m\u001b[0m\n",
      "\u001b[1;31mTypeError\u001b[0m: invalid type comparison"
     ]
    }
   ],
   "source": [
    "# Aggregate Rain\n",
    "\n",
    "#%% Create a set format for which to read the string as a datetime variable\n",
    "rain = df.loc[:, ['RainDateHour', 'RAIN_FT']]\n",
    "\n",
    "time_format = \"%Y/%m/%d %H:%M\"\n",
    "\n",
    "rain['RainDateHour'] = pd.to_datetime(rain['RainDateHour'], format = time_format)\n",
    "\n",
    "#%% Reorganize the column order\n",
    "#df = df[['date_hour','date','time','Corrected']]\n",
    "\n",
    "#%% Setting index to be the date_hour column\n",
    "rain = rain.set_index('RainDateHour')\n",
    "\n",
    "#%% Select dates in the range required\n",
    "data_rain = rain['2007-10-01 01:00:00':'2018-06-08 11:00:00']\n",
    "\n",
    "#%% Resample data to hourly\n",
    "data_rain = data_rain.resample('H').mean()\n",
    "\n",
    "# Aggregate Well\n",
    "\n",
    "#%% Create a set format for which to read the string as a datetime variable\n",
    "well = df.loc[:, ['WellDateHour', 'Well_ft']]\n",
    "\n",
    "well = well.loc[well.WellDateHour != '1900/01/00 00:00']\n",
    "well['WellDateHour'] = pd.to_datetime(well['WellDateHour'], format = time_format)\n",
    "\n",
    "#%% Reorganize the column order\n",
    "#df = df[['date_hour','date','time','Corrected']]\n",
    "\n",
    "#%% Setting index to be the date_hour column\n",
    "well = well.set_index('WellDateHour')\n",
    "\n",
    "#%% Select dates in the range required\n",
    "data_narrow = well['2007-10-01 01:00:00':'2018-06-08 11:00:00']\n",
    "\n",
    "#%% Resample data to hourly\n",
    "data_well = data_narrow.resample('H').mean()\n",
    "\n",
    "data_well['Well_ft'] = data_well.Well_ft.interpolate()"
   ]
  },
  {
   "cell_type": "markdown",
   "metadata": {},
   "source": [
    "# Merge all of the data into one table and save"
   ]
  },
  {
   "cell_type": "code",
   "execution_count": 1227,
   "metadata": {
    "scrolled": false
   },
   "outputs": [
    {
     "data": {
      "text/plain": [
       "'PB-1680.csv'"
      ]
     },
     "execution_count": 1227,
     "metadata": {},
     "output_type": "execute_result"
    }
   ],
   "source": [
    "file"
   ]
  },
  {
   "cell_type": "code",
   "execution_count": 1228,
   "metadata": {
    "scrolled": true
   },
   "outputs": [
    {
     "data": {
      "text/plain": [
       "93683"
      ]
     },
     "execution_count": 1228,
     "metadata": {},
     "output_type": "execute_result"
    }
   ],
   "source": [
    "len(time_range)"
   ]
  },
  {
   "cell_type": "code",
   "execution_count": 1230,
   "metadata": {},
   "outputs": [],
   "source": [
    "full = pd.DataFrame(index=pd.DatetimeIndex(time_range))"
   ]
  },
  {
   "cell_type": "code",
   "execution_count": 1231,
   "metadata": {
    "scrolled": true
   },
   "outputs": [
    {
     "name": "stdout",
     "output_type": "stream",
     "text": [
      "<class 'pandas.core.frame.DataFrame'>\n",
      "DatetimeIndex: 93683 entries, 2007-10-01 01:00:00 to 2018-06-08 11:00:00\n",
      "Freq: H\n",
      "Empty DataFrame"
     ]
    }
   ],
   "source": [
    "full.info()"
   ]
  },
  {
   "cell_type": "code",
   "execution_count": 1232,
   "metadata": {},
   "outputs": [],
   "source": [
    "full['Well_ft'] = data_well['Well_ft']\n",
    "full['Tide_ft'] = data_tide['Tide_ft']\n",
    "full['Rain_ft'] = data_rain['RAIN_FT']\n",
    "full.index.name = 'DateHour'"
   ]
  },
  {
   "cell_type": "code",
   "execution_count": 1233,
   "metadata": {},
   "outputs": [],
   "source": [
    "full.Tide_ft.interpolate(inplace=True)\n",
    "full.Rain_ft.interpolate(inplace=True)\n",
    "full.Well_ft.interpolate(inplace=True)\n",
    "\n",
    "# Fill in empty begininngs and ends\n",
    "avg_tide = full.Tide_ft.mean()\n",
    "full.Tide_ft.fillna(value=avg_tide, inplace=True)\n",
    "full.Tide_ft.fillna(value=avg_tide, inplace=True)\n",
    "\n",
    "full.Rain_ft.fillna(value=0, inplace=True)\n",
    "full.Rain_ft.fillna(value=0, inplace=True)\n",
    "\n",
    "avg_well = full.Well_ft.mean()\n",
    "full.Well_ft.fillna(value=avg_well, inplace=True)\n",
    "full.Well_ft.fillna(value=avg_well, inplace=True)\n"
   ]
  },
  {
   "cell_type": "code",
   "execution_count": 1234,
   "metadata": {},
   "outputs": [],
   "source": [
    "assert not sum(full.Tide_ft.isna())\n",
    "assert not sum(full.Rain_ft.isna())\n",
    "assert not sum(full.Well_ft.isna())"
   ]
  },
  {
   "cell_type": "code",
   "execution_count": 1235,
   "metadata": {},
   "outputs": [],
   "source": [
    "new_file = \"final_wells/\" + file[0:len(file)-4].replace(\"-\", \"\") + \"_ALL.csv\""
   ]
  },
  {
   "cell_type": "code",
   "execution_count": 1236,
   "metadata": {},
   "outputs": [
    {
     "data": {
      "text/plain": [
       "'final_wells/PB1680_ALL.csv'"
      ]
     },
     "execution_count": 1236,
     "metadata": {},
     "output_type": "execute_result"
    }
   ],
   "source": [
    "new_file"
   ]
  },
  {
   "cell_type": "code",
   "execution_count": 1237,
   "metadata": {},
   "outputs": [],
   "source": [
    "full.to_csv(new_file, index=True)"
   ]
  },
  {
   "cell_type": "markdown",
   "metadata": {},
   "source": [
    "# Incorporate Predicted Well Water Elevation After SAS Prediction"
   ]
  },
  {
   "cell_type": "code",
   "execution_count": 1298,
   "metadata": {},
   "outputs": [
    {
     "ename": "IndexError",
     "evalue": "list index out of range",
     "output_type": "error",
     "traceback": [
      "\u001b[1;31m---------------------------------------------------------------------------\u001b[0m",
      "\u001b[1;31mIndexError\u001b[0m                                Traceback (most recent call last)",
      "\u001b[1;32m<ipython-input-1298-4692bf169c3c>\u001b[0m in \u001b[0;36m<module>\u001b[1;34m()\u001b[0m\n\u001b[1;32m----> 1\u001b[1;33m \u001b[0mfile\u001b[0m \u001b[1;33m=\u001b[0m \u001b[0mresult\u001b[0m\u001b[1;33m[\u001b[0m\u001b[1;36m15\u001b[0m\u001b[1;33m]\u001b[0m\u001b[1;33m\u001b[0m\u001b[0m\n\u001b[0m\u001b[0;32m      2\u001b[0m \u001b[0mwell\u001b[0m \u001b[1;33m=\u001b[0m \u001b[0mfile\u001b[0m\u001b[1;33m[\u001b[0m\u001b[1;33m:\u001b[0m\u001b[0mlen\u001b[0m\u001b[1;33m(\u001b[0m\u001b[0mfile\u001b[0m\u001b[1;33m)\u001b[0m\u001b[1;33m-\u001b[0m\u001b[1;36m4\u001b[0m\u001b[1;33m]\u001b[0m\u001b[1;33m.\u001b[0m\u001b[0mreplace\u001b[0m\u001b[1;33m(\u001b[0m\u001b[1;34m\"_\"\u001b[0m\u001b[1;33m,\u001b[0m \u001b[1;34m\"\"\u001b[0m\u001b[1;33m)\u001b[0m\u001b[1;33m.\u001b[0m\u001b[0mreplace\u001b[0m\u001b[1;33m(\u001b[0m\u001b[1;34m\"-\"\u001b[0m\u001b[1;33m,\u001b[0m \u001b[1;34m\"\"\u001b[0m\u001b[1;33m)\u001b[0m\u001b[1;33m\u001b[0m\u001b[0m\n\u001b[0;32m      3\u001b[0m \u001b[0mwell_name\u001b[0m \u001b[1;33m=\u001b[0m \u001b[1;34m\"Well \"\u001b[0m \u001b[1;33m+\u001b[0m \u001b[0mwell\u001b[0m \u001b[1;31m#file[:len(file)-9]\u001b[0m\u001b[1;33m\u001b[0m\u001b[0m\n\u001b[0;32m      4\u001b[0m \u001b[0mprint\u001b[0m\u001b[1;33m(\u001b[0m\u001b[0mwell_name\u001b[0m\u001b[1;33m)\u001b[0m\u001b[1;33m\u001b[0m\u001b[0m\n\u001b[0;32m      5\u001b[0m \u001b[0mprint\u001b[0m\u001b[1;33m(\u001b[0m\u001b[0mwell\u001b[0m\u001b[1;33m)\u001b[0m\u001b[1;33m\u001b[0m\u001b[0m\n",
      "\u001b[1;31mIndexError\u001b[0m: list index out of range"
     ]
    }
   ],
   "source": [
    "file = result[15]\n",
    "well = file[:len(file)-4].replace(\"_\", \"\").replace(\"-\", \"\")\n",
    "well_name = \"Well \" + well #file[:len(file)-9]\n",
    "print(well_name)\n",
    "print(well)"
   ]
  },
  {
   "cell_type": "code",
   "execution_count": 1295,
   "metadata": {
    "scrolled": true
   },
   "outputs": [
    {
     "data": {
      "text/html": [
       "<div>\n",
       "<style scoped>\n",
       "    .dataframe tbody tr th:only-of-type {\n",
       "        vertical-align: middle;\n",
       "    }\n",
       "\n",
       "    .dataframe tbody tr th {\n",
       "        vertical-align: top;\n",
       "    }\n",
       "\n",
       "    .dataframe thead th {\n",
       "        text-align: right;\n",
       "    }\n",
       "</style>\n",
       "<table border=\"1\" class=\"dataframe\">\n",
       "  <thead>\n",
       "    <tr style=\"text-align: right;\">\n",
       "      <th></th>\n",
       "      <th>Well_ft</th>\n",
       "      <th>Tide_ft</th>\n",
       "      <th>Rain_ft</th>\n",
       "      <th>Well PB1680 Well Level</th>\n",
       "      <th>Well PB1680 Tide Level</th>\n",
       "      <th>Well PB1680 Rain Level</th>\n",
       "      <th>Well PB1680 Predicted Well Level</th>\n",
       "      <th>Well PB1680 Lower 95% Confidence Interval</th>\n",
       "      <th>Well PB1680 Upper 95% Confidence Interval</th>\n",
       "    </tr>\n",
       "    <tr>\n",
       "      <th>DateHour</th>\n",
       "      <th></th>\n",
       "      <th></th>\n",
       "      <th></th>\n",
       "      <th></th>\n",
       "      <th></th>\n",
       "      <th></th>\n",
       "      <th></th>\n",
       "      <th></th>\n",
       "      <th></th>\n",
       "    </tr>\n",
       "  </thead>\n",
       "  <tbody>\n",
       "    <tr>\n",
       "      <th>2007-10-01 01:00:00</th>\n",
       "      <td>4.43</td>\n",
       "      <td>-0.098</td>\n",
       "      <td>0.000000</td>\n",
       "      <td>4.43</td>\n",
       "      <td>-0.098</td>\n",
       "      <td>0.000000</td>\n",
       "      <td>NaN</td>\n",
       "      <td>NaN</td>\n",
       "      <td>NaN</td>\n",
       "    </tr>\n",
       "    <tr>\n",
       "      <th>2007-10-01 02:00:00</th>\n",
       "      <td>4.44</td>\n",
       "      <td>0.000</td>\n",
       "      <td>0.001333</td>\n",
       "      <td>4.44</td>\n",
       "      <td>0.000</td>\n",
       "      <td>0.001333</td>\n",
       "      <td>NaN</td>\n",
       "      <td>NaN</td>\n",
       "      <td>NaN</td>\n",
       "    </tr>\n",
       "    <tr>\n",
       "      <th>2007-10-01 03:00:00</th>\n",
       "      <td>4.44</td>\n",
       "      <td>-0.273</td>\n",
       "      <td>0.000000</td>\n",
       "      <td>4.44</td>\n",
       "      <td>-0.273</td>\n",
       "      <td>0.000000</td>\n",
       "      <td>NaN</td>\n",
       "      <td>NaN</td>\n",
       "      <td>NaN</td>\n",
       "    </tr>\n",
       "    <tr>\n",
       "      <th>2007-10-01 04:00:00</th>\n",
       "      <td>4.44</td>\n",
       "      <td>-0.822</td>\n",
       "      <td>0.000000</td>\n",
       "      <td>4.44</td>\n",
       "      <td>-0.822</td>\n",
       "      <td>0.000000</td>\n",
       "      <td>NaN</td>\n",
       "      <td>NaN</td>\n",
       "      <td>NaN</td>\n",
       "    </tr>\n",
       "    <tr>\n",
       "      <th>2007-10-01 05:00:00</th>\n",
       "      <td>4.44</td>\n",
       "      <td>-1.475</td>\n",
       "      <td>0.000000</td>\n",
       "      <td>4.44</td>\n",
       "      <td>-1.475</td>\n",
       "      <td>0.000000</td>\n",
       "      <td>4.434899</td>\n",
       "      <td>4.410783</td>\n",
       "      <td>4.459015</td>\n",
       "    </tr>\n",
       "  </tbody>\n",
       "</table>\n",
       "</div>"
      ],
      "text/plain": [
       "                     Well_ft  Tide_ft   Rain_ft  Well PB1680 Well Level  \\\n",
       "DateHour                                                                  \n",
       "2007-10-01 01:00:00     4.43   -0.098  0.000000                    4.43   \n",
       "2007-10-01 02:00:00     4.44    0.000  0.001333                    4.44   \n",
       "2007-10-01 03:00:00     4.44   -0.273  0.000000                    4.44   \n",
       "2007-10-01 04:00:00     4.44   -0.822  0.000000                    4.44   \n",
       "2007-10-01 05:00:00     4.44   -1.475  0.000000                    4.44   \n",
       "\n",
       "                     Well PB1680 Tide Level  Well PB1680 Rain Level  \\\n",
       "DateHour                                                              \n",
       "2007-10-01 01:00:00                  -0.098                0.000000   \n",
       "2007-10-01 02:00:00                   0.000                0.001333   \n",
       "2007-10-01 03:00:00                  -0.273                0.000000   \n",
       "2007-10-01 04:00:00                  -0.822                0.000000   \n",
       "2007-10-01 05:00:00                  -1.475                0.000000   \n",
       "\n",
       "                     Well PB1680 Predicted Well Level  \\\n",
       "DateHour                                                \n",
       "2007-10-01 01:00:00                               NaN   \n",
       "2007-10-01 02:00:00                               NaN   \n",
       "2007-10-01 03:00:00                               NaN   \n",
       "2007-10-01 04:00:00                               NaN   \n",
       "2007-10-01 05:00:00                          4.434899   \n",
       "\n",
       "                     Well PB1680 Lower 95% Confidence Interval  \\\n",
       "DateHour                                                         \n",
       "2007-10-01 01:00:00                                        NaN   \n",
       "2007-10-01 02:00:00                                        NaN   \n",
       "2007-10-01 03:00:00                                        NaN   \n",
       "2007-10-01 04:00:00                                        NaN   \n",
       "2007-10-01 05:00:00                                   4.410783   \n",
       "\n",
       "                     Well PB1680 Upper 95% Confidence Interval  \n",
       "DateHour                                                        \n",
       "2007-10-01 01:00:00                                        NaN  \n",
       "2007-10-01 02:00:00                                        NaN  \n",
       "2007-10-01 03:00:00                                        NaN  \n",
       "2007-10-01 04:00:00                                        NaN  \n",
       "2007-10-01 05:00:00                                   4.459015  "
      ]
     },
     "execution_count": 1295,
     "metadata": {},
     "output_type": "execute_result"
    }
   ],
   "source": [
    "pred = pd.read_sas(\"C:/Users/Christopher/Documents/GitHub/Fall2_Homework/data/Well Data_Split/final_wells/\" + str(well) + \"_all_pred.sas7bdat\")\n",
    "full = pd.read_csv(\"C:/Users/Christopher/Documents/GitHub/Fall2_Homework/data/Well Data_Split/final_wells/\" + str(well) + \"_ALL.csv\", index_col='DateHour')\n",
    "pred.set_index(full.index, inplace=True)\n",
    "\n",
    "full[well_name + \" Well Level\"] = full.Well_ft\n",
    "full[well_name + \" Tide Level\"] = full.Tide_ft\n",
    "full[well_name + \" Rain Level\"] = full.Rain_ft\n",
    "full[well_name + \" Predicted Well Level\"] = pred['FORECAST']\n",
    "full[well_name + \" Lower 95% Confidence Interval\"] = pred.L95\n",
    "full[well_name + \" Upper 95% Confidence Interval\"] = pred.U95\n",
    "\n",
    "full.head()"
   ]
  },
  {
   "cell_type": "code",
   "execution_count": 1296,
   "metadata": {},
   "outputs": [],
   "source": [
    "#full = full.iloc[:, 3:]\n",
    "full.to_csv(\"C:/Users/Christopher/Documents/GitHub/Fall2_Homework/data/Well Data_Split/final_wells/\" + str(well) + \"_FINAL.csv\", index=True)"
   ]
  },
  {
   "cell_type": "markdown",
   "metadata": {},
   "source": [
    "# Aggregate all data"
   ]
  },
  {
   "cell_type": "code",
   "execution_count": 1299,
   "metadata": {},
   "outputs": [
    {
     "name": "stdout",
     "output_type": "stream",
     "text": [
      "F179_ALL.csv\n",
      "9_ALL.csv\n",
      "['F179_FINAL.csv', 'F319_FINAL.csv', 'F45_FINAL.csv', 'G1220_FINAL.csv', 'G1260_FINAL.csv', 'G2147_FINAL.csv', 'G2866_FINAL.csv', 'G3549_FINAL.csv', 'G561_FINAL.csv', 'G580A_FINAL.csv', 'G860_FINAL.csv', 'PB1680_FINAL.csv']\n"
     ]
    }
   ],
   "source": [
    "import os\n",
    "import glob\n",
    "import pandas\n",
    "\n",
    "path = 'C:/Users/Christopher/Documents/GitHub/Fall2_Homework/data/Well Data_Split/final_wells/'\n",
    "extension = 'csv'\n",
    "os.chdir(path)\n",
    "result = [i for i in glob.glob('*.{}'.format(extension))]\n",
    "\n",
    "term = result[1]\n",
    "print(term)\n",
    "print(term[(len(term)-9):len(term)])\n",
    "result = [i for i in result if i[(len(i)-9):len(i)] == \"FINAL.csv\"]\n",
    "print(result)"
   ]
  },
  {
   "cell_type": "code",
   "execution_count": 1300,
   "metadata": {},
   "outputs": [],
   "source": [
    "df = pd.DataFrame(index=time_range)"
   ]
  },
  {
   "cell_type": "code",
   "execution_count": 1301,
   "metadata": {},
   "outputs": [],
   "source": [
    "well = pd.read_csv(path + result[0])"
   ]
  },
  {
   "cell_type": "code",
   "execution_count": 870,
   "metadata": {
    "scrolled": true
   },
   "outputs": [
    {
     "data": {
      "text/html": [
       "<div>\n",
       "<style scoped>\n",
       "    .dataframe tbody tr th:only-of-type {\n",
       "        vertical-align: middle;\n",
       "    }\n",
       "\n",
       "    .dataframe tbody tr th {\n",
       "        vertical-align: top;\n",
       "    }\n",
       "\n",
       "    .dataframe thead th {\n",
       "        text-align: right;\n",
       "    }\n",
       "</style>\n",
       "<table border=\"1\" class=\"dataframe\">\n",
       "  <thead>\n",
       "    <tr style=\"text-align: right;\">\n",
       "      <th></th>\n",
       "      <th>DateHour</th>\n",
       "      <th>Well F-319 Well Level</th>\n",
       "      <th>Well F-319 Tide Level</th>\n",
       "      <th>Well F-319 Rain Level</th>\n",
       "      <th>Well F-319 Predicted Well Level</th>\n",
       "      <th>Well F-319 Lower 95% Confidence Interval</th>\n",
       "      <th>Well F-319 Upper 95% Confidence Interval</th>\n",
       "    </tr>\n",
       "  </thead>\n",
       "  <tbody>\n",
       "    <tr>\n",
       "      <th>0</th>\n",
       "      <td>2007-10-01 01:00:00</td>\n",
       "      <td>3.05</td>\n",
       "      <td>0.965</td>\n",
       "      <td>0.005229</td>\n",
       "      <td>NaN</td>\n",
       "      <td>NaN</td>\n",
       "      <td>NaN</td>\n",
       "    </tr>\n",
       "    <tr>\n",
       "      <th>1</th>\n",
       "      <td>2007-10-01 02:00:00</td>\n",
       "      <td>3.05</td>\n",
       "      <td>0.358</td>\n",
       "      <td>0.004708</td>\n",
       "      <td>NaN</td>\n",
       "      <td>NaN</td>\n",
       "      <td>NaN</td>\n",
       "    </tr>\n",
       "    <tr>\n",
       "      <th>2</th>\n",
       "      <td>2007-10-01 03:00:00</td>\n",
       "      <td>3.06</td>\n",
       "      <td>-0.144</td>\n",
       "      <td>0.005083</td>\n",
       "      <td>NaN</td>\n",
       "      <td>NaN</td>\n",
       "      <td>NaN</td>\n",
       "    </tr>\n",
       "    <tr>\n",
       "      <th>3</th>\n",
       "      <td>2007-10-01 04:00:00</td>\n",
       "      <td>3.06</td>\n",
       "      <td>-0.623</td>\n",
       "      <td>0.005771</td>\n",
       "      <td>NaN</td>\n",
       "      <td>NaN</td>\n",
       "      <td>NaN</td>\n",
       "    </tr>\n",
       "    <tr>\n",
       "      <th>4</th>\n",
       "      <td>2007-10-01 05:00:00</td>\n",
       "      <td>3.09</td>\n",
       "      <td>-0.994</td>\n",
       "      <td>0.001708</td>\n",
       "      <td>3.131598</td>\n",
       "      <td>3.095427</td>\n",
       "      <td>3.167769</td>\n",
       "    </tr>\n",
       "  </tbody>\n",
       "</table>\n",
       "</div>"
      ],
      "text/plain": [
       "              DateHour  Well F-319 Well Level  Well F-319 Tide Level  \\\n",
       "0  2007-10-01 01:00:00                   3.05                  0.965   \n",
       "1  2007-10-01 02:00:00                   3.05                  0.358   \n",
       "2  2007-10-01 03:00:00                   3.06                 -0.144   \n",
       "3  2007-10-01 04:00:00                   3.06                 -0.623   \n",
       "4  2007-10-01 05:00:00                   3.09                 -0.994   \n",
       "\n",
       "   Well F-319 Rain Level  Well F-319 Predicted Well Level  \\\n",
       "0               0.005229                              NaN   \n",
       "1               0.004708                              NaN   \n",
       "2               0.005083                              NaN   \n",
       "3               0.005771                              NaN   \n",
       "4               0.001708                         3.131598   \n",
       "\n",
       "   Well F-319 Lower 95% Confidence Interval  \\\n",
       "0                                       NaN   \n",
       "1                                       NaN   \n",
       "2                                       NaN   \n",
       "3                                       NaN   \n",
       "4                                  3.095427   \n",
       "\n",
       "   Well F-319 Upper 95% Confidence Interval  \n",
       "0                                       NaN  \n",
       "1                                       NaN  \n",
       "2                                       NaN  \n",
       "3                                       NaN  \n",
       "4                                  3.167769  "
      ]
     },
     "execution_count": 870,
     "metadata": {},
     "output_type": "execute_result"
    }
   ],
   "source": [
    "well.head()"
   ]
  },
  {
   "cell_type": "code",
   "execution_count": 1302,
   "metadata": {},
   "outputs": [],
   "source": [
    "df['Well Level'] = well.iloc[:, 0]\n",
    "df['Tide Level'] = well.iloc[:, 1]\n",
    "df['Rain Level'] = well.iloc[:, 2]\n",
    "df['Predicted Well Level'] = well.iloc[:,3]\n",
    "df['Well Name'] = result[0]"
   ]
  },
  {
   "cell_type": "code",
   "execution_count": 1303,
   "metadata": {},
   "outputs": [],
   "source": [
    "df = pd.DataFrame(new_df)"
   ]
  },
  {
   "cell_type": "code",
   "execution_count": 1304,
   "metadata": {
    "scrolled": true
   },
   "outputs": [
    {
     "data": {
      "text/html": [
       "<div>\n",
       "<style scoped>\n",
       "    .dataframe tbody tr th:only-of-type {\n",
       "        vertical-align: middle;\n",
       "    }\n",
       "\n",
       "    .dataframe tbody tr th {\n",
       "        vertical-align: top;\n",
       "    }\n",
       "\n",
       "    .dataframe thead th {\n",
       "        text-align: right;\n",
       "    }\n",
       "</style>\n",
       "<table border=\"1\" class=\"dataframe\">\n",
       "  <thead>\n",
       "    <tr style=\"text-align: right;\">\n",
       "      <th></th>\n",
       "      <th>DateHour</th>\n",
       "      <th>Predicted Well Level</th>\n",
       "      <th>Rain Level</th>\n",
       "      <th>Tide Level</th>\n",
       "      <th>Well Level</th>\n",
       "      <th>Well Name</th>\n",
       "    </tr>\n",
       "  </thead>\n",
       "  <tbody>\n",
       "    <tr>\n",
       "      <th>0</th>\n",
       "      <td>2007-10-01 01:00:00</td>\n",
       "      <td>3.1775</td>\n",
       "      <td>0.001771</td>\n",
       "      <td>0.965</td>\n",
       "      <td>3.1775</td>\n",
       "      <td>F179</td>\n",
       "    </tr>\n",
       "    <tr>\n",
       "      <th>1</th>\n",
       "      <td>2007-10-01 02:00:00</td>\n",
       "      <td>3.1900</td>\n",
       "      <td>0.002146</td>\n",
       "      <td>0.358</td>\n",
       "      <td>3.1900</td>\n",
       "      <td>F179</td>\n",
       "    </tr>\n",
       "    <tr>\n",
       "      <th>2</th>\n",
       "      <td>2007-10-01 03:00:00</td>\n",
       "      <td>3.2075</td>\n",
       "      <td>0.005104</td>\n",
       "      <td>-0.144</td>\n",
       "      <td>3.2075</td>\n",
       "      <td>F179</td>\n",
       "    </tr>\n",
       "    <tr>\n",
       "      <th>3</th>\n",
       "      <td>2007-10-01 04:00:00</td>\n",
       "      <td>3.2275</td>\n",
       "      <td>0.004792</td>\n",
       "      <td>-0.623</td>\n",
       "      <td>3.2275</td>\n",
       "      <td>F179</td>\n",
       "    </tr>\n",
       "    <tr>\n",
       "      <th>4</th>\n",
       "      <td>2007-10-01 05:00:00</td>\n",
       "      <td>3.2550</td>\n",
       "      <td>0.002188</td>\n",
       "      <td>-0.994</td>\n",
       "      <td>3.2550</td>\n",
       "      <td>F179</td>\n",
       "    </tr>\n",
       "  </tbody>\n",
       "</table>\n",
       "</div>"
      ],
      "text/plain": [
       "              DateHour  Predicted Well Level  Rain Level  Tide Level  \\\n",
       "0  2007-10-01 01:00:00                3.1775    0.001771       0.965   \n",
       "1  2007-10-01 02:00:00                3.1900    0.002146       0.358   \n",
       "2  2007-10-01 03:00:00                3.2075    0.005104      -0.144   \n",
       "3  2007-10-01 04:00:00                3.2275    0.004792      -0.623   \n",
       "4  2007-10-01 05:00:00                3.2550    0.002188      -0.994   \n",
       "\n",
       "   Well Level Well Name  \n",
       "0      3.1775      F179  \n",
       "1      3.1900      F179  \n",
       "2      3.2075      F179  \n",
       "3      3.2275      F179  \n",
       "4      3.2550      F179  "
      ]
     },
     "execution_count": 1304,
     "metadata": {},
     "output_type": "execute_result"
    }
   ],
   "source": [
    "df.head()"
   ]
  },
  {
   "cell_type": "code",
   "execution_count": null,
   "metadata": {},
   "outputs": [],
   "source": [
    "i=11\n",
    "well = pd.read_csv(path + result[i])\n",
    "\n",
    "new_df = {\n",
    "    'DateHour': well.iloc[:, 0],\n",
    "    'Well Level': well.iloc[:, 1],\n",
    "    'Tide Level': well.iloc[:, 2],\n",
    "    'Rain Level': well.iloc[:, 3],\n",
    "    'Predicted Well Level': well.iloc[:,4],\n",
    "    'Well Name': pd.Series([result[i][:len(result[i])-10] for name in range(len(well))])\n",
    "}\n",
    "\n",
    "df = df.append(pd.DataFrame(new_df))\n",
    "print(len(df))"
   ]
  },
  {
   "cell_type": "code",
   "execution_count": 904,
   "metadata": {},
   "outputs": [
    {
     "data": {
      "text/plain": [
       "array(['F319', 'F45', 'G1220', 'G1260', 'G2147', 'G2866', 'G3549', 'G561',\n",
       "       'G580A', 'G860', 'PB1680', 'F179'], dtype=object)"
      ]
     },
     "execution_count": 904,
     "metadata": {},
     "output_type": "execute_result"
    }
   ],
   "source": [
    "df['Well Name'].unique()"
   ]
  },
  {
   "cell_type": "code",
   "execution_count": 905,
   "metadata": {},
   "outputs": [],
   "source": [
    "df.to_csv(path + \"Combined.csv\", index=False)"
   ]
  },
  {
   "cell_type": "code",
   "execution_count": 907,
   "metadata": {},
   "outputs": [
    {
     "data": {
      "text/html": [
       "<div>\n",
       "<style scoped>\n",
       "    .dataframe tbody tr th:only-of-type {\n",
       "        vertical-align: middle;\n",
       "    }\n",
       "\n",
       "    .dataframe tbody tr th {\n",
       "        vertical-align: top;\n",
       "    }\n",
       "\n",
       "    .dataframe thead th {\n",
       "        text-align: right;\n",
       "    }\n",
       "</style>\n",
       "<table border=\"1\" class=\"dataframe\">\n",
       "  <thead>\n",
       "    <tr style=\"text-align: right;\">\n",
       "      <th></th>\n",
       "      <th>DateHour</th>\n",
       "      <th>Predicted Well Level</th>\n",
       "      <th>Rain Level</th>\n",
       "      <th>Tide Level</th>\n",
       "      <th>Well Level</th>\n",
       "      <th>Well Name</th>\n",
       "    </tr>\n",
       "  </thead>\n",
       "  <tbody>\n",
       "    <tr>\n",
       "      <th>93678</th>\n",
       "      <td>2018-06-08 07:00:00</td>\n",
       "      <td>2.68</td>\n",
       "      <td>0.0</td>\n",
       "      <td>-0.863</td>\n",
       "      <td>2.68</td>\n",
       "      <td>F179</td>\n",
       "    </tr>\n",
       "    <tr>\n",
       "      <th>93679</th>\n",
       "      <td>2018-06-08 08:00:00</td>\n",
       "      <td>2.68</td>\n",
       "      <td>0.0</td>\n",
       "      <td>-0.863</td>\n",
       "      <td>2.68</td>\n",
       "      <td>F179</td>\n",
       "    </tr>\n",
       "    <tr>\n",
       "      <th>93680</th>\n",
       "      <td>2018-06-08 09:00:00</td>\n",
       "      <td>2.68</td>\n",
       "      <td>0.0</td>\n",
       "      <td>-0.863</td>\n",
       "      <td>2.68</td>\n",
       "      <td>F179</td>\n",
       "    </tr>\n",
       "    <tr>\n",
       "      <th>93681</th>\n",
       "      <td>2018-06-08 10:00:00</td>\n",
       "      <td>2.68</td>\n",
       "      <td>0.0</td>\n",
       "      <td>-0.863</td>\n",
       "      <td>2.68</td>\n",
       "      <td>F179</td>\n",
       "    </tr>\n",
       "    <tr>\n",
       "      <th>93682</th>\n",
       "      <td>2018-06-08 11:00:00</td>\n",
       "      <td>2.68</td>\n",
       "      <td>0.0</td>\n",
       "      <td>-0.863</td>\n",
       "      <td>2.68</td>\n",
       "      <td>F179</td>\n",
       "    </tr>\n",
       "  </tbody>\n",
       "</table>\n",
       "</div>"
      ],
      "text/plain": [
       "                  DateHour  Predicted Well Level  Rain Level  Tide Level  \\\n",
       "93678  2018-06-08 07:00:00                  2.68         0.0      -0.863   \n",
       "93679  2018-06-08 08:00:00                  2.68         0.0      -0.863   \n",
       "93680  2018-06-08 09:00:00                  2.68         0.0      -0.863   \n",
       "93681  2018-06-08 10:00:00                  2.68         0.0      -0.863   \n",
       "93682  2018-06-08 11:00:00                  2.68         0.0      -0.863   \n",
       "\n",
       "       Well Level Well Name  \n",
       "93678        2.68      F179  \n",
       "93679        2.68      F179  \n",
       "93680        2.68      F179  \n",
       "93681        2.68      F179  \n",
       "93682        2.68      F179  "
      ]
     },
     "execution_count": 907,
     "metadata": {},
     "output_type": "execute_result"
    }
   ],
   "source": [
    "df.tail()"
   ]
  },
  {
   "cell_type": "code",
   "execution_count": 909,
   "metadata": {},
   "outputs": [],
   "source": [
    "wells = df['Well Name'].unique()"
   ]
  },
  {
   "cell_type": "code",
   "execution_count": null,
   "metadata": {},
   "outputs": [],
   "source": [
    "wells"
   ]
  },
  {
   "cell_type": "code",
   "execution_count": 916,
   "metadata": {},
   "outputs": [
    {
     "data": {
      "text/plain": [
       "Rain Level    0.000528\n",
       "dtype: float64"
      ]
     },
     "execution_count": 916,
     "metadata": {},
     "output_type": "execute_result"
    }
   ],
   "source": [
    "df.loc[df['Well Name'] == 'G1260', ['DateHour', 'Rain Level']].mean()"
   ]
  },
  {
   "cell_type": "code",
   "execution_count": 922,
   "metadata": {},
   "outputs": [],
   "source": [
    "df.set_index(pd.DatetimeIndex(df['DateHour']), inplace=True)"
   ]
  },
  {
   "cell_type": "code",
   "execution_count": 953,
   "metadata": {
    "scrolled": true
   },
   "outputs": [],
   "source": [
    "sub1 = df.loc['11/04/2010 11:00:00':]\n",
    "sub1 = sub1[sub1['Well Name'] == \"G3549\"]"
   ]
  },
  {
   "cell_type": "code",
   "execution_count": 933,
   "metadata": {},
   "outputs": [
    {
     "name": "stderr",
     "output_type": "stream",
     "text": [
      "C:\\Users\\Christopher\\Anaconda3\\lib\\site-packages\\IPython\\core\\interactiveshell.py:2728: DtypeWarning: Columns (0,1,2,4,5,6,7,9) have mixed types. Specify dtype option on import or set low_memory=False.\n",
      "  interactivity=interactivity, compiler=compiler, result=result)\n"
     ]
    }
   ],
   "source": [
    "sub = pd.read_csv(path + \"../G-3549.csv\")"
   ]
  },
  {
   "cell_type": "code",
   "execution_count": 935,
   "metadata": {},
   "outputs": [],
   "source": [
    "sub.set_index(pd.DatetimeIndex(sub.RainDateHour), inplace=True)"
   ]
  },
  {
   "cell_type": "code",
   "execution_count": 946,
   "metadata": {},
   "outputs": [],
   "source": [
    "sub = sub.loc['11/04/2010 11:00:00':'11/04/2017']"
   ]
  }
 ],
 "metadata": {
  "kernelspec": {
   "display_name": "Python 3",
   "language": "python",
   "name": "python3"
  },
  "language_info": {
   "codemirror_mode": {
    "name": "ipython",
    "version": 3
   },
   "file_extension": ".py",
   "mimetype": "text/x-python",
   "name": "python",
   "nbconvert_exporter": "python",
   "pygments_lexer": "ipython3",
   "version": "3.6.4"
  }
 },
 "nbformat": 4,
 "nbformat_minor": 2
}
